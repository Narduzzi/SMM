{
 "cells": [
  {
   "cell_type": "code",
   "execution_count": null,
   "metadata": {
    "collapsed": false
   },
   "outputs": [],
   "source": [
    "import pandas as pd\n",
    "import numpy as np\n",
    "import sys\n",
    "sys.path.insert(0,'Utils')\n",
    "import ArtistExtractor as AE\n",
    "from ast import literal_eval\n",
    "import moreFunction"
   ]
  },
  {
   "cell_type": "code",
   "execution_count": null,
   "metadata": {
    "collapsed": false
   },
   "outputs": [],
   "source": [
    "pd.read_csv(\"TEST_Pipe.csv\")"
   ]
  },
  {
   "cell_type": "code",
   "execution_count": null,
   "metadata": {
    "collapsed": false
   },
   "outputs": [],
   "source": [
    "columns = [\"place\",\"src\",\"address\",\"location\",\"canton\",\"event\",\"date\",\"artists\",\"genre\",\"coordinates\"]\n",
    "a = pd.DataFrame(columns=[columns])\n",
    "lineup1 = [\"Joachim Garraud\",\"**David Guetta**\",\"Panteros666 ✱ ✲\",\"Rihanna (Live)\"]\n",
    "lineup2 = [\"02:20 - Rihanna\", \" Drum'n'bass\", \"David Guetta\"]\n",
    "lineup3 = [\"Hanzrudolfmerz\",\"Bobdokland\",\"ParisLatino\",\"Rihanna\"]\n",
    "lineup4 = [\"Bob Dylan\"]\n",
    "\n",
    "a.loc[0] = [\"test\",\"club\",\"address\",\"location_test\",\"NE\",\"simsalabim\",\"2002-22-02\",str(lineup1),\"Classic\",\"(1.0,1.0)\"]\n",
    "a.loc[1] = [\"test2\",\"club\",\"address\",\"location_test\",\"VD\",\"simsalabim\",\"2002-22-02\",str(lineup2),\"Pop\",\"(1.0,1.0)\"]\n",
    "a.loc[2] = [\"test3\",\"club\",\"address\",\"location_test\",\"VD\",\"ahahahah\",\"1092-11-11\",str(lineup3),\"['Classic','Rock']\",\"(1.0,1.0)\"]\n",
    "a.loc[3] = [\"test3\",\"club\",\"address\",\"location_test\",\"VD\",\"ahahahah\",\"1092-11-11\",str(lineup4),None,\"(1.0,1.0)\"]\n",
    "a.loc[3] = [None,None,None,None,None,None,None,None,None,None]\n",
    "\n",
    "a.to_csv(\"TEST_Pipe.csv\")\n",
    "a = pd.read_csv(\"TEST_Pipe.csv\",index_col=0)\n",
    "events = a\n",
    "events"
   ]
  },
  {
   "cell_type": "code",
   "execution_count": null,
   "metadata": {
    "collapsed": false
   },
   "outputs": [],
   "source": [
    "def getArtistsList(df):\n",
    "    df= df.fillna(\"None\")\n",
    "    print(\"Getting artists list from \"+str(df.shape[0])+\" events...\")\n",
    "    ArtistsDataFrame = pd.DataFrame()\n",
    "    i=0\n",
    "    for index,row in df.iterrows():\n",
    "        lineup = row[\"artists\"] #get line-up\n",
    "        artists = literal_eval(lineup)\n",
    "        \n",
    "        new_lineup=[]\n",
    "        if(artists!=None):\n",
    "            for a in artists:\n",
    "                a = a.split(\"(\")[0]#Remove parenthesis at end of artist (record label, live act..)\n",
    "\n",
    "                #Use list for convenient format in clean_artists method\n",
    "                artist_list = []\n",
    "                artist_list.append(a)\n",
    "                cleaned_artist = moreFunction.clean_artists(artist_list)\n",
    "                if(len(cleaned_artist)>0):\n",
    "                    a = cleaned_artist[0]\n",
    "\n",
    "                #Append artist in lineup\n",
    "                new_lineup.append(a.strip())\n",
    "\n",
    "                #Add artist to artists dataframe\n",
    "                a = pd.Series(a.strip())\n",
    "                ArtistsDataFrame = ArtistsDataFrame.append(a,ignore_index=True)\n",
    "\n",
    "        \n",
    "        #Replace artist in dataframe\n",
    "        df.loc[index,\"artists\"] = str(new_lineup)\n",
    "        \n",
    "        #count iteration\n",
    "        i+=1\n",
    "        if(i%5000==0):\n",
    "            print(i)\n",
    "    \n",
    "    ArtistsDataFrame.columns=[\"artist\"]\n",
    "\n",
    "    ArtistsDataFrame.drop_duplicates()\n",
    "    return ArtistsDataFrame,df"
   ]
  },
  {
   "cell_type": "code",
   "execution_count": null,
   "metadata": {
    "collapsed": false
   },
   "outputs": [],
   "source": [
    "artists,df = getArtistsList(a)\n",
    "df"
   ]
  },
  {
   "cell_type": "code",
   "execution_count": null,
   "metadata": {
    "collapsed": true
   },
   "outputs": [],
   "source": [
    "def downloadGenresSpotify(artistsDF,dictionarySpotify=None,begin=0,end=100000):\n",
    "\n",
    "    Artists = artistsDF.copy()\n",
    "    Artists = Artists.drop_duplicates().reset_index()[[\"artist\"]]\n",
    "    Artists.columns=[\"artist\"]\n",
    "    Artists[\"genres_spotify\"]=None\n",
    "    Artists[\"genres_ra\"]=None\n",
    "    Artists[\"genres_wiki\"]=None\n",
    "    Artists[\"genres_events\"]=None\n",
    "    Artists[\"main_genres\"]=None\n",
    "    Artists[\"top3_genres\"]=None\n",
    "    Artists[\"genre\"]=None    \n",
    "    \n",
    "    if(end>Artists.shape[0]):\n",
    "        end = Artists.shape[0]\n",
    "        \n",
    "    if(dictionarySpotify==None):\n",
    "            dictionarySpotify = {}\n",
    "    \n",
    "    print(\"Downloading genres of \"+str(end-begin)+\" artist from Spotify...\")\n",
    "    last_read = 0\n",
    "    for i in range(begin,end):\n",
    "        S = Artists[Artists.index==i]\n",
    "        artist = S[\"artist\"].values[0]\n",
    "        genres_spotify=None\n",
    "        if(dictionarySpotify!=None and artist in dictionarySpotify):\n",
    "            genres_spotify = dictionarySpotify.get(artist)\n",
    "        else:\n",
    "            genres_spotify = AE.getGenresFromSpotify(artist)\n",
    "            dictionarySpotify.update({artist : genres_spotify})\n",
    "            \n",
    "        \n",
    "        if(len(genres_spotify)<1):\n",
    "            genres_spotify = None\n",
    "        Artists.loc[Artists.index==i,\"genres_spotify\"] = str(genres_spotify)\n",
    "\n",
    "    return Artists"
   ]
  },
  {
   "cell_type": "code",
   "execution_count": null,
   "metadata": {
    "collapsed": false
   },
   "outputs": [],
   "source": [
    "artists = downloadGenresSpotify(artists)\n",
    "artists"
   ]
  },
  {
   "cell_type": "code",
   "execution_count": null,
   "metadata": {
    "collapsed": true
   },
   "outputs": [],
   "source": [
    "def createDictionnaryFromArtists(artists):\n",
    "    print(\"Creating dictionnary from genres downloaded from Spotify...\")\n",
    "    dic = AE.createDictionnary()\n",
    "    genres_list = []\n",
    "    for id,row in artists.iterrows():\n",
    "        genres = literal_eval(row.genres_spotify)\n",
    "        if(genres!=None):\n",
    "            genres_list+=(genres)\n",
    "        \n",
    "    #print(genres_list)\n",
    "    dic = AE.updateDictionnary(genres_list,dic)\n",
    "    return dic                "
   ]
  },
  {
   "cell_type": "code",
   "execution_count": null,
   "metadata": {
    "collapsed": true
   },
   "outputs": [],
   "source": [
    "def downloadGenresWikipediaAndRA(Artists,dictionaryOfGenres,dictionaryWiki=None, dictionaryRA=None, begin=0,end=100000):\n",
    "\n",
    "    if(end>Artists.shape[0]):\n",
    "        end = Artists.shape[0]\n",
    "    \n",
    "    #path = \"FullData/ArtistDataframe_\"+str(begin)+\"_\"+str(end)+\".csv\"\n",
    "    print(\"Downloading genres from Wikipedia and Resident Advisor of \"+str(end-begin)+\" artist...\")\n",
    "    last_read = 0\n",
    "    \n",
    "    if(dictionaryWiki==None):\n",
    "        dictionaryWiki = {}\n",
    "    if(dictionaryRA==None):\n",
    "        dictionaryRA = {}\n",
    "    \n",
    "    for i in range(begin,end):\n",
    "        S = Artists[Artists.index==i]\n",
    "        artist = S[\"artist\"].values[0]\n",
    "        \n",
    "        #Get genres from wikipedia\n",
    "        genres_wiki = None\n",
    "        if(dictionaryWiki!=None and artist in dictionaryWiki):\n",
    "            genres_wiki = dictionaryWiki.get(artist)\n",
    "        else:\n",
    "            genres_wiki = AE.getGenresFromWikipedia(artist,dictionaryOfGenres)\n",
    "            dictionaryWiki.update({artist : genres_wiki})\n",
    "            \n",
    "            \n",
    "        #Get genres from Resident Advisor\n",
    "        genres_ra = None\n",
    "        if(dictionaryRA!= None and artist in dictionaryRA):\n",
    "            genres_ra = dictionaryRA.get(artist)\n",
    "        else:\n",
    "            genres_ra = AE.getGenresFromRA(artist,dictionaryOfGenres)\n",
    "            dictionaryRA.update({artist : genres_ra})\n",
    "            \n",
    "        if(genres_wiki== None or len(genres_wiki)<1):\n",
    "            genres_wiki = None\n",
    "        if(genres_ra == None or len(genres_ra)<1):\n",
    "            genres_ra = None\n",
    "            \n",
    "        Artists.loc[Artists.index==i,\"genres_wiki\"] = str(genres_wiki)\n",
    "        Artists.loc[Artists.index==i,\"genres_ra\"] = str(genres_ra)\n",
    "\n",
    "        if(i%300==0):\n",
    "            print(str(i+1))\n",
    "            \n",
    "    return Artists"
   ]
  },
  {
   "cell_type": "code",
   "execution_count": null,
   "metadata": {
    "collapsed": true
   },
   "outputs": [],
   "source": [
    "def computeGenresRatio(artists_df,dictionnaryOfGenres,debug=False):\n",
    "    genres = list(set(dictionnaryOfGenres.values()))\n",
    "    genres.append(\"unknown\")\n",
    "    \n",
    "    #Extending\n",
    "    #Getting columns\n",
    "    columnsArtists = []\n",
    "    for c in artists_df.columns:\n",
    "        if(\"Unnamed\" not in c):\n",
    "            columnsArtists.append(c)\n",
    "    columnsArtists = columnsArtists+genres+[\"total_genres\"]\n",
    "    print(\"Computing genres ratio...\")\n",
    "    i=0\n",
    "    for id,row in artists_df.iterrows():\n",
    "        i+=1\n",
    "        if(debug and i%3000==0):\n",
    "            print(i)\n",
    "        main_genres = row[\"main_genres\"]\n",
    "        \n",
    "        \n",
    "        total = 0.0\n",
    "        \n",
    "        if(main_genres!=None and main_genres!=\"None\"):\n",
    "            total = len(literal_eval(main_genres))\n",
    "            \n",
    "            #Check if artist has a genre (from other dataframes)\n",
    "            if(total==0):\n",
    "                if(raw[\"genre\"]!=None and raw[\"genre\"]!=\"None\"):\n",
    "                    main_genres = list(literal_eval(raw[\"genre\"]))\n",
    "                    artists_df.loc[id,\"main_genres\"] = main_genres\n",
    "                    total = 1.0\n",
    "                \n",
    "        artists_df.loc[id,\"total_genres\"]=total\n",
    "        \n",
    "        #percententage of this genre\n",
    "        for c in genres:\n",
    "            if(total==0):\n",
    "                artists_df.loc[id,c] = 0.0\n",
    "                artists_df.loc[id,\"unknown\"]=1.0\n",
    "            else:\n",
    "                artists_df.loc[id,c] = main_genres.count(c)/total\n",
    "\n",
    "    return artists_df"
   ]
  },
  {
   "cell_type": "code",
   "execution_count": null,
   "metadata": {
    "collapsed": false
   },
   "outputs": [],
   "source": [
    "def computeMainGenres(artists,dictionnary):\n",
    "    \n",
    "    artists[\"all_genres\"] = None\n",
    "    \n",
    "    i=0\n",
    "    for id,row in artists.iterrows():\n",
    "        i+=1\n",
    "        if(i%1000==0):\n",
    "            print(i)\n",
    "\n",
    "        artist = row[\"artist\"]\n",
    "        genres_ra = literal_eval(row.genres_ra)\n",
    "        genres_s = literal_eval(row.genres_spotify)\n",
    "        genres_w = literal_eval(row.genres_wiki)\n",
    "        #events\n",
    "        genres_e = str(row.genres_events)\n",
    "        genres_e = literal_eval(genres_e)\n",
    "       \n",
    "        if(genres_ra==None):\n",
    "            genres_ra =[]\n",
    "        if(genres_s == None):\n",
    "            genres_s = []\n",
    "        if(genres_w == None):\n",
    "            genres_w = []\n",
    "        if(genres_e == None):\n",
    "            genres_e = []\n",
    "            \n",
    "        #Set genres_events to None if there already exist some genres\n",
    "        if(len(genres_ra)>0 or len(genres_s)>0 or len(genres_w)>0):\n",
    "            genres_e = []\n",
    "        \n",
    "        genres = genres_s+genres_ra+genres_w+genres_e\n",
    "        \n",
    "        main_genres = AE.mainGenres(genres,dictionnary)\n",
    "        top3 = AE.getMaxGenre(main_genres,3)\n",
    "        main_genre = None\n",
    "\n",
    "        if(top3!=None and len(top3)>=1):\n",
    "            main_genre = top3[0]\n",
    "            \n",
    "        #Assigning None values for empty lists\n",
    "        if(len(main_genres)<1):\n",
    "            main_genres = None\n",
    "        if(len(genres_ra)<1):\n",
    "            genres_ra = None\n",
    "        if(len(genres)<1):\n",
    "            genres = None\n",
    "        if(len(genres_e)<1):\n",
    "            genres_e = None\n",
    "            \n",
    "        artists.loc[id,\"genres_ra\"] = str(genres_ra)\n",
    "        #artists.loc[id,\"genres_events\"] = str(genres_e)\n",
    "        artists.loc[id,\"main_genres\"] = str(main_genres)\n",
    "        artists.loc[id,\"top3_genres\"] = str(top3)\n",
    "        artists.loc[id,\"all_genres\"] = str(genres)\n",
    "        artists.loc[id,\"genre\"] = main_genre\n",
    "\n",
    "\n",
    "    #df3.to_csv(\"FullData/ArtistDF_withGenres.csv\",encoding=\"utf-8\")\n",
    "    return artists"
   ]
  },
  {
   "cell_type": "code",
   "execution_count": null,
   "metadata": {
    "collapsed": false
   },
   "outputs": [],
   "source": [
    "def fillGenresFromEvents(artists,events):\n",
    "    print(\"Filling missing genres artists <- events\")\n",
    "  \n",
    "    i =0\n",
    "    for id, row in events.iterrows():\n",
    "        i+=1\n",
    "        if(i%1000==0):\n",
    "            print(i)\n",
    "        \n",
    "        #getting genre\n",
    "        str_genres = str(row[\"genre\"])\n",
    "        genres = []\n",
    "        \n",
    "        #case list\n",
    "        if(\"[\" in str_genres): \n",
    "            genres = literal_eval(str_genres)\n",
    "        #case alone\n",
    "        else:\n",
    "            if(str_genres!=\"None\" and str_genres!=\"nan\"):\n",
    "                genres.append(str_genres)\n",
    "        \n",
    "        #reformating\n",
    "        genres_refo = []\n",
    "        if(len(genres)>0):\n",
    "            for g in genres:\n",
    "                genres_refo.append(g.lower())\n",
    "            genres = genres_refo\n",
    "        else:\n",
    "            genres=None\n",
    "        #getting artist\n",
    "        artists_lineup= str(row[\"artists\"])\n",
    "        \n",
    "        lineup=[]\n",
    "        if(artists_lineup!=\"nan\" and artists_lineup!=\"None\" and artists_lineup!=None):\n",
    "            lineup = (literal_eval(artists_lineup))\n",
    "        \n",
    "        for a in lineup:\n",
    "            artist = artists[artists.artist==a]\n",
    "            genres_events = artist.genres_events.values\n",
    "            if(len(genres_events)>0):\n",
    "                genres_events = genres_events[0]\n",
    "            else:\n",
    "                genres_events = None\n",
    "                \n",
    "            genres_list = []\n",
    "            if(genres_events!=None and \"None\" not in genres_events):\n",
    "                genres_list+=literal_eval(str(genres_events))\n",
    "            \n",
    "            if(genres!=None):\n",
    "                genres_list+=genres\n",
    "            if(len(genres_list)<1):\n",
    "                genres_list=None\n",
    "                \n",
    "            artists.loc[artists.artist==a,\"genres_events\"] = str(genres_list)\n",
    "            \n",
    "    return artists"
   ]
  },
  {
   "cell_type": "code",
   "execution_count": null,
   "metadata": {
    "collapsed": true
   },
   "outputs": [],
   "source": [
    "def fillGenresEvents(events,artists,dictionnaryOfGenres):\n",
    "    print(\"Filling missing genres events <- artists\")\n",
    "  \n",
    "    i =0\n",
    "    for id, row in events.iterrows():\n",
    "        i+=1\n",
    "        if(i%1000==0):\n",
    "            print(i)\n",
    "        \n",
    "        lineup = str(row.artists)\n",
    "        if(lineup!=\"nan\" and lineup!=\"None\" and lineup!=None):\n",
    "            lineup = literal_eval(lineup)\n",
    "        else:\n",
    "            lineup = []\n",
    "            \n",
    "        genres_in_lineup = []\n",
    "        \n",
    "        #Adding each genre of artist to list genres_in_lineup\n",
    "        for a in lineup:\n",
    "            #Getting value\n",
    "            artist = artists[artists.artist == a]\n",
    "            genre_artist = None\n",
    "            if(len(artist.genre.values)>0):\n",
    "                genre_artist = artist.genre.values[0]\n",
    "            \n",
    "            #Add to list of genres   \n",
    "            if(genre_artist!=\"nan\" and genre_artist!=\"None\" and genre_artist!=None):\n",
    "                genres_in_lineup.append(genre_artist)\n",
    "            \n",
    "            \n",
    "        #getting most representative genre among all artists\n",
    "        maxGenre = AE.getMaxGenre(genres_in_lineup)\n",
    "        #If an artist has a genre, then we set the genre of event to this artist genre\n",
    "        if(maxGenre!=None):\n",
    "            events.loc[id,\"genre\"] = maxGenre[0].lower()\n",
    "        else:\n",
    "            events.loc[id,\"genre\"] = None\n",
    "    \n",
    "    return events,artists"
   ]
  },
  {
   "cell_type": "code",
   "execution_count": null,
   "metadata": {
    "collapsed": true
   },
   "outputs": [],
   "source": [
    "def artistsPipeline(Events,dictionaryOfGenres=None,dictionarySpotify=None,dictionaryRA=None,dictionaryWiki=None):\n",
    "    if(dictionarySpotify==None):\n",
    "        dictionarySpotify={}\n",
    "    if(dictionaryRA ==None):\n",
    "        dictionaryRA = {}\n",
    "    if(dictionaryWiki ==None):\n",
    "        dictionaryWiki = {}\n",
    "    \n",
    "    Artists,Events = getArtistsList(Events)\n",
    "    Artists = downloadGenresSpotify(Artists,dictionarySpotify) #Assign first styles\n",
    "    \n",
    "    #Creating the dictionary from artists\n",
    "    dicGenresArtists = createDictionnaryFromArtists(Artists)\n",
    "    if(dictionaryOfGenres==None):\n",
    "        dictionaryOfGenres = dicGenresArtists\n",
    "    else:\n",
    "        dictionaryOfGenres.update(dicGenresArtists)\n",
    "    \n",
    "    #Getting genres from Wiki And RA\n",
    "    Artists = downloadGenresWikipediaAndRA(Artists,dictionaryOfGenres,dictionaryWiki,dictionaryRA)\n",
    "    #Getting genres from Events\n",
    "    Artists = fillGenresFromEvents(Artists,Events)\n",
    "    \n",
    "    #Compute extended fields\n",
    "    Artists = computeMainGenres(Artists,dictionaryOfGenres)\n",
    "    Artists = computeGenresRatio(Artists,dictionaryOfGenres)\n",
    "    Events,Artists = fillGenresEvents(Events,Artists,dictionaryOfGenres)\n",
    "    print(\"Computation of genres finished.\")\n",
    "    \n",
    "    return Artists,Events,dictionaryOfGenres,dictionarySpotify,dictionaryRA,dictionaryWiki"
   ]
  },
  {
   "cell_type": "code",
   "execution_count": null,
   "metadata": {
    "collapsed": false
   },
   "outputs": [],
   "source": [
    "artists"
   ]
  },
  {
   "cell_type": "code",
   "execution_count": null,
   "metadata": {
    "collapsed": false
   },
   "outputs": [],
   "source": [
    "events"
   ]
  },
  {
   "cell_type": "code",
   "execution_count": null,
   "metadata": {
    "collapsed": false
   },
   "outputs": [],
   "source": [
    "artists,events,genres,spotify,ra,wiki = artistsPipeline(events)"
   ]
  },
  {
   "cell_type": "code",
   "execution_count": null,
   "metadata": {
    "collapsed": false
   },
   "outputs": [],
   "source": [
    "artists"
   ]
  },
  {
   "cell_type": "code",
   "execution_count": null,
   "metadata": {
    "collapsed": false
   },
   "outputs": [],
   "source": [
    "events"
   ]
  },
  {
   "cell_type": "code",
   "execution_count": null,
   "metadata": {
    "collapsed": true
   },
   "outputs": [],
   "source": []
  }
 ],
 "metadata": {
  "anaconda-cloud": {},
  "kernelspec": {
   "display_name": "Python [Root]",
   "language": "python",
   "name": "Python [Root]"
  },
  "language_info": {
   "codemirror_mode": {
    "name": "ipython",
    "version": 3
   },
   "file_extension": ".py",
   "mimetype": "text/x-python",
   "name": "python",
   "nbconvert_exporter": "python",
   "pygments_lexer": "ipython3",
   "version": "3.5.2"
  }
 },
 "nbformat": 4,
 "nbformat_minor": 0
}
