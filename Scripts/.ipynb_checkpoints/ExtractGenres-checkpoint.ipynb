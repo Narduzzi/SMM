{
 "cells": [
  {
   "cell_type": "code",
   "execution_count": 1,
   "metadata": {
    "collapsed": true
   },
   "outputs": [],
   "source": [
    "import numpy as np\n",
    "import ArtistExtractor as AE\n",
    "import pandas as pd\n",
    "import glob\n",
    "import os\n",
    "import LocationUtils as LU\n",
    "from ExtractGenreClubs import SplitLineup"
   ]
  },
  {
   "cell_type": "code",
   "execution_count": 2,
   "metadata": {
    "collapsed": false,
    "scrolled": true
   },
   "outputs": [
    {
     "name": "stdout",
     "output_type": "stream",
     "text": [
      "1312\n",
      "(10069, 7)\n"
     ]
    }
   ],
   "source": [
    "files = []\n",
    "files = glob.glob(\"ClubData0/*.csv\")+glob.glob(\"ClubData1/*.csv\")+glob.glob(\"ClubData2/*.csv\")+glob.glob(\"ClubData3/*.csv\")\n",
    "print(len(files))\n",
    "ClubDataFrame = pd.read_csv(files[0],sep=\"\\t\")\n",
    "\n",
    "for file in files:\n",
    "    df= pd.read_csv(file,sep =\"\\t\")\n",
    "    ClubDataFrame = ClubDataFrame.append(df,ignore_index = True)\n",
    "\n",
    "#Drop Useless columns\n",
    "ClubDataFrame = ClubDataFrame.drop('Unnamed: 0', 1)\n",
    "ClubDataFrame.reset_index()\n",
    "print(ClubDataFrame.shape)"
   ]
  },
  {
   "cell_type": "markdown",
   "metadata": {
    "collapsed": false
   },
   "source": [
    "# Construct full artist dictionnary"
   ]
  },
  {
   "cell_type": "code",
   "execution_count": 17,
   "metadata": {
    "collapsed": false
   },
   "outputs": [
    {
     "name": "stdout",
     "output_type": "stream",
     "text": [
      "Nb files : 2\n",
      "Artist dictionaries loaded. Merging...done.\n",
      "Deleting temp files...\n",
      "DONE.\n"
     ]
    }
   ],
   "source": [
    "files = []\n",
    "files = glob.glob(\"Artists/*.txt\")\n",
    "print(\"Nb files : \"+str(len(files)))\n",
    "ArtistsMainDic = dict()\n",
    "ArtistsAllDic = dict()\n",
    "\n",
    "for file in files :\n",
    "    filename = file.replace(\".txt\",\"\")\n",
    "    dictTemp = LU.loadDictionary(filename,path=\"\")\n",
    "    \n",
    "    if(\"All\" in file):\n",
    "        ArtistsAllDic = {**ArtistsAllDic,**dictTemp}\n",
    "        \n",
    "    if(\"Main\" in file):\n",
    "        ArtistsMainDic = {**ArtistsMainDic,**dictTemp}\n",
    "        \n",
    "print(\"Artist dictionaries loaded. Merging...\",end=\"\")\n",
    "LU.saveDictionary(ArtistsAllDic,\"ArtistsAllGenres\",\"Artists/\",enc=\"UTF-8\")\n",
    "LU.saveDictionary(ArtistsMainDic,\"ArtistsMainGenre\",\"Artists/\",enc=\"UTF-8\")\n",
    "print(\"done.\")\n",
    "print(\"Deleting temp files...\")\n",
    "for file in files :\n",
    "    if(\"-\" in file and \"temp\" in file):\n",
    "        print(\"Deleting temp file \"+file)\n",
    "        os.remove(file)\n",
    "print(\"DONE.\")"
   ]
  },
  {
   "cell_type": "markdown",
   "metadata": {},
   "source": [
    "## Creating dataframe of artists"
   ]
  },
  {
   "cell_type": "code",
   "execution_count": 38,
   "metadata": {
    "collapsed": false
   },
   "outputs": [
    {
     "name": "stdout",
     "output_type": "stream",
     "text": [
      "Retrieving genre over (10069, 9) events:\n",
      "Not found in dictionnary :Wolf Müller"
     ]
    },
    {
     "ename": "TypeError",
     "evalue": "Can't convert 'NoneType' object to str implicitly",
     "output_type": "error",
     "traceback": [
      "\u001b[1;31m---------------------------------------------------------------------------\u001b[0m",
      "\u001b[1;31mTypeError\u001b[0m                                 Traceback (most recent call last)",
      "\u001b[1;32m<ipython-input-38-8117645755e4>\u001b[0m in \u001b[0;36m<module>\u001b[1;34m()\u001b[0m\n\u001b[0;32m     28\u001b[0m             \u001b[0mallGenres\u001b[0m \u001b[1;33m=\u001b[0m \u001b[0mAE\u001b[0m\u001b[1;33m.\u001b[0m\u001b[0mgetGenre\u001b[0m\u001b[1;33m(\u001b[0m\u001b[0martist\u001b[0m\u001b[1;33m,\u001b[0m\u001b[0mReturnAllGenres\u001b[0m\u001b[1;33m=\u001b[0m\u001b[1;32mTrue\u001b[0m\u001b[1;33m)\u001b[0m\u001b[1;33m\u001b[0m\u001b[0m\n\u001b[0;32m     29\u001b[0m             \u001b[0mmainGenre\u001b[0m \u001b[1;33m=\u001b[0m \u001b[0mAE\u001b[0m\u001b[1;33m.\u001b[0m\u001b[0mgetMaxGenre\u001b[0m\u001b[1;33m(\u001b[0m\u001b[0mallGenres\u001b[0m\u001b[1;33m)\u001b[0m\u001b[1;33m\u001b[0m\u001b[0m\n\u001b[1;32m---> 30\u001b[1;33m             \u001b[0mprint\u001b[0m\u001b[1;33m(\u001b[0m\u001b[1;34m\", MainGenre is : \"\u001b[0m\u001b[1;33m+\u001b[0m\u001b[0mmainGenre\u001b[0m\u001b[1;33m)\u001b[0m\u001b[1;33m\u001b[0m\u001b[0m\n\u001b[0m\u001b[0;32m     31\u001b[0m             \u001b[0mArtistDicoMain\u001b[0m\u001b[1;33m.\u001b[0m\u001b[0mupdate\u001b[0m\u001b[1;33m(\u001b[0m\u001b[1;33m{\u001b[0m\u001b[0martist\u001b[0m \u001b[1;33m:\u001b[0m \u001b[0mmainGenre\u001b[0m\u001b[1;33m}\u001b[0m\u001b[1;33m)\u001b[0m\u001b[1;33m\u001b[0m\u001b[0m\n\u001b[0;32m     32\u001b[0m             \u001b[0mArtistDicoAll\u001b[0m\u001b[1;33m.\u001b[0m\u001b[0mupdate\u001b[0m\u001b[1;33m(\u001b[0m\u001b[1;33m{\u001b[0m\u001b[0martist\u001b[0m \u001b[1;33m:\u001b[0m \u001b[0mallGenres\u001b[0m\u001b[1;33m}\u001b[0m\u001b[1;33m)\u001b[0m\u001b[1;33m\u001b[0m\u001b[0m\n",
      "\u001b[1;31mTypeError\u001b[0m: Can't convert 'NoneType' object to str implicitly"
     ]
    }
   ],
   "source": [
    "ArtistDicoMain = LU.loadDictionary(\"ArtistsMainGenre\",\"Artists/\",enc=\"UTF-8\")\n",
    "ArtistDicoAll =  LU.loadDictionary(\"ArtistsAllGenres\",\"Artists/\",enc=\"UTF-8\")\n",
    "ArtistsSet = set(a.encode(\"UTF-8\") for a in ArtistDicoMain.keys())\n",
    "\n",
    "ArtistsSet.update(ArtistDicoAll.keys())\n",
    "\n",
    "ClubDataFrame[\"Genre\"] = None\n",
    "ClubDataFrame[\"All Genres\"] = None\n",
    "print(\"Retrieving genre over \" +str(ClubDataFrame.shape)+\" events:\")\n",
    "\n",
    "i=0\n",
    "for id,row in ClubDataFrame.iterrows():\n",
    "    genres = []\n",
    "    lineup = row[\"LineUp\"]\n",
    "    artists = SplitLineup(lineup)\n",
    "    \n",
    "    for artist in artists:\n",
    "        mainGenre = None\n",
    "        allGenres = None\n",
    "        \n",
    "        if(artist in ArtistsSet):\n",
    "            mainGenre = ArtistDicoMain.get(artist)\n",
    "            allGenres = ArtistDicoAll.get(artist)\n",
    "        else:\n",
    "            print(\"Not found in dictionnary :\"+str(artist),end = \"\")\n",
    "            #Updating dictionnaries\n",
    "            ArtistsSet.add(artist)\n",
    "            allGenres = AE.getGenre(artist,ReturnAllGenres=True)\n",
    "            mainGenre = AE.getMaxGenre(allGenres)\n",
    "            print(\", MainGenre is : \"+str(mainGenre))\n",
    "            ArtistDicoMain.update({artist : mainGenre})\n",
    "            ArtistDicoAll.update({artist : allGenres})\n",
    "        \n",
    "        #Adding to LineUp genres\n",
    "        genres.append(mainGenre) \n",
    "        \n",
    "            \n",
    "    if(len(genres)==0):\n",
    "        print(artists)\n",
    "    else:\n",
    "        maxGenre =AE.getMaxGenre(genres)\n",
    "        #updating dataframe\n",
    "        ClubDataFrame = ClubDataFrame.set_value(id,\"Genre\",maxGenre)\n",
    "        ClubDataFrame = ClubDataFrame.set_value(id,\"All Genres\",str(genres))\n",
    "        ClubDataFrame = ClubDataFrame.set_value(id,\"LineUp\",str(artists))\n",
    "    \n",
    "    i+=1\n",
    "    if(i%200==0):\n",
    "        print(str(i))\n",
    "    if(i%200==0):\n",
    "        LU.saveDictionary(ArtistDicoMain,\"ArtistDicoMain\",path = \"Artists/\",enc=\"UTF-8\")\n",
    "        LU.saveDictionary(ArtistDicoAll,\"ArtistDicoAll\",path = \"Artists/\",enc=\"UTF-8\")\n",
    "        \n",
    "print(\"FINISHED\")\n",
    "LU.saveDictionary(ArtistDicoMain,\"ArtistDicoMain\",path = \"Artists/\",enc=\"UTF-8\")\n",
    "LU.saveDictionary(ArtistDicoAll,\"ArtistDicoAll\",path = \"Artists/\",enc=\"UTF-8\")"
   ]
  },
  {
   "cell_type": "code",
   "execution_count": null,
   "metadata": {
    "collapsed": false
   },
   "outputs": [],
   "source": [
    "dicoMain = LU.loadDictionary(\"ArtistDicoAll-0-1\",path=\"Artists/\")\n",
    "dicoMain"
   ]
  },
  {
   "cell_type": "code",
   "execution_count": null,
   "metadata": {
    "collapsed": false
   },
   "outputs": [],
   "source": [
    "Lineup = ClubDataFrame[ClubDataFrame.index==10065]\n",
    "a = pd.DataFrame(Lineup[\"LineUp\"])\n",
    "l = a[\"LineUp\"].values\n",
    "print(l)\n",
    "SplitLineup(l[0])"
   ]
  },
  {
   "cell_type": "code",
   "execution_count": null,
   "metadata": {
    "collapsed": false
   },
   "outputs": [],
   "source": [
    "AE.getGenre(\"Simon & Garfunkel\")"
   ]
  },
  {
   "cell_type": "code",
   "execution_count": null,
   "metadata": {
    "collapsed": false
   },
   "outputs": [],
   "source": [
    "ClubDataFrame[0:10]"
   ]
  },
  {
   "cell_type": "code",
   "execution_count": null,
   "metadata": {
    "collapsed": true
   },
   "outputs": [],
   "source": []
  }
 ],
 "metadata": {
  "kernelspec": {
   "display_name": "Python [Root]",
   "language": "python",
   "name": "Python [Root]"
  },
  "language_info": {
   "codemirror_mode": {
    "name": "ipython",
    "version": 3
   },
   "file_extension": ".py",
   "mimetype": "text/x-python",
   "name": "python",
   "nbconvert_exporter": "python",
   "pygments_lexer": "ipython3",
   "version": "3.5.2"
  }
 },
 "nbformat": 4,
 "nbformat_minor": 0
}
