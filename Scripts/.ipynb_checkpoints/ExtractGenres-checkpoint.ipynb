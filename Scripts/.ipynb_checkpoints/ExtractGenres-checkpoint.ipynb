{
 "cells": [
  {
   "cell_type": "code",
   "execution_count": 1,
   "metadata": {
    "collapsed": false
   },
   "outputs": [
    {
     "ename": "SyntaxError",
     "evalue": "invalid syntax (ArtistExtractor.py, line 156)",
     "output_type": "error",
     "traceback": [
      "\u001b[1;36m  File \u001b[1;32m\"C:\\Users\\Simon\\Documents\\EPFL\\Master\\Semestre1\\Applied Data Analysis\\SMM\\Scripts\\ArtistExtractor.py\"\u001b[1;36m, line \u001b[1;32m156\u001b[0m\n\u001b[1;33m    subgenres.update{\"rap\":\"hip hop\"}\u001b[0m\n\u001b[1;37m                    ^\u001b[0m\n\u001b[1;31mSyntaxError\u001b[0m\u001b[1;31m:\u001b[0m invalid syntax\n"
     ]
    }
   ],
   "source": [
    "import numpy as np\n",
    "import ArtistExtractor as AE\n",
    "import pandas as pd\n",
    "import glob\n",
    "import os\n",
    "import LocationUtils as LU\n",
    "from ExtractGenreClubs import SplitLineup"
   ]
  },
  {
   "cell_type": "code",
   "execution_count": null,
   "metadata": {
    "collapsed": true
   },
   "outputs": [],
   "source": [
    "a = AE.createDictionnary()"
   ]
  },
  {
   "cell_type": "code",
   "execution_count": null,
   "metadata": {
    "collapsed": false,
    "scrolled": true
   },
   "outputs": [],
   "source": [
    "files = []\n",
    "files = glob.glob(\"ClubData/ClubData0/*.csv\")+glob.glob(\"ClubData/ClubData1/*.csv\")+glob.glob(\"ClubData/ClubData2/*.csv\")+glob.glob(\"ClubData/ClubData3/*.csv\")\n",
    "print(len(files))\n",
    "ClubDataFrame = pd.read_csv(files[0],sep=\"\\t\")\n",
    "\n",
    "for file in files:\n",
    "    df= pd.read_csv(file,sep =\"\\t\")\n",
    "    ClubDataFrame = ClubDataFrame.append(df,ignore_index = True)\n",
    "\n",
    "#Drop Useless columns\n",
    "ClubDataFrame = ClubDataFrame.drop('Unnamed: 0', 1)\n",
    "ClubDataFrame.reset_index()\n",
    "print(ClubDataFrame.shape)"
   ]
  },
  {
   "cell_type": "markdown",
   "metadata": {
    "collapsed": false
   },
   "source": [
    "# Construct full artist dictionnary"
   ]
  },
  {
   "cell_type": "code",
   "execution_count": null,
   "metadata": {
    "collapsed": false
   },
   "outputs": [],
   "source": [
    "files = []\n",
    "files = glob.glob(\"Artists/*.txt\")\n",
    "print(\"Nb files : \"+str(len(files)))\n",
    "ArtistsMainDic = dict()\n",
    "ArtistsAllDic = dict()\n",
    "\n",
    "for file in files :\n",
    "    filename = file.replace(\".txt\",\"\")\n",
    "    dictTemp = LU.loadDictionary(filename,path=\"\")\n",
    "    \n",
    "    if(\"All\" in file):\n",
    "        ArtistsAllDic = {**ArtistsAllDic,**dictTemp}\n",
    "        \n",
    "    if(\"Main\" in file):\n",
    "        ArtistsMainDic = {**ArtistsMainDic,**dictTemp}\n",
    "        \n",
    "print(\"Artist dictionaries loaded. Merging...\",end=\"\")\n",
    "LU.saveDictionary(ArtistsAllDic,\"ArtistsAllGenres\",\"Artists/\",enc=\"UTF-8\")\n",
    "LU.saveDictionary(ArtistsMainDic,\"ArtistsMainGenre\",\"Artists/\",enc=\"UTF-8\")\n",
    "print(\"done.\")\n",
    "print(\"Deleting temp files...\")\n",
    "for file in files :\n",
    "    if(\"-\" in file and \"temp\" in file):\n",
    "        print(\"Deleting temp file \"+file)\n",
    "        os.remove(file)\n",
    "print(\"DONE.\")"
   ]
  },
  {
   "cell_type": "markdown",
   "metadata": {},
   "source": [
    "## Creating dataframe of artists"
   ]
  },
  {
   "cell_type": "code",
   "execution_count": null,
   "metadata": {
    "collapsed": false
   },
   "outputs": [],
   "source": [
    "ArtistDicoMain = LU.loadDictionary(\"ArtistsMainGenreOld\",\"Artists/\",enc=\"UTF-8\")\n",
    "ArtistDicoAll =  LU.loadDictionary(\"ArtistsAllGenresOld\",\"Artists/\",enc=\"UTF-8\")\n",
    "ArtistsSet = set(a.encode(\"UTF-8\") for a in ArtistDicoMain.keys())\n",
    "\n",
    "ArtistsSet.update(ArtistDicoAll.keys())\n",
    "\n",
    "DictionnaryGenre = LU.loadDictionary(\"MusicGenres\",\"Artists/\",enc=\"UTF-8\")\n",
    "\n",
    "ClubDataFrame[\"Genre\"] = None\n",
    "ClubDataFrame[\"All Genres\"] = None\n",
    "print(\"Retrieving genre over \" +str(ClubDataFrame.shape)+\" events:\")\n",
    "\n",
    "MissingGenres = set()\n",
    "\n",
    "i=0\n",
    "for id,row in ClubDataFrame.iterrows():\n",
    "    genres = []\n",
    "    lineup = row[\"LineUp\"]\n",
    "    artists = SplitLineup(lineup)\n",
    "    \n",
    "    for artist in artists:\n",
    "        mainGenre = None\n",
    "        allGenres = None\n",
    "        \n",
    "        if(artist in ArtistsSet):\n",
    "            mainGenre = ArtistDicoMain.get(artist)\n",
    "            if(mainGenre!=\"None\" and mainGenre!=None):\n",
    "                if(mainGenre not in DictionnaryGenre):\n",
    "                    MissingGenres.add(mainGenre)\n",
    "                else:\n",
    "                    translatedGenre = DictionnaryGenre[mainGenre]\n",
    "                if(translatedGenre!=None):\n",
    "                    mainGenre = translatedGenre\n",
    "                allGenres = ArtistDicoAll.get(artist)\n",
    "        else:\n",
    "            print(\"Not found in dictionnary :\"+str(artist),end = \"\")\n",
    "            #Updating dictionnaries\n",
    "            ArtistsSet.add(artist)\n",
    "            allGenres = AE.getGenre(artist,dictionnary=DictionnaryGenre,ReturnAllGenres=True)\n",
    "            mainGenre = AE.getMaxGenre(allGenres,)\n",
    "            print(\", MainGenre is : \"+str(mainGenre))\n",
    "            ArtistDicoMain.update({artist : mainGenre})\n",
    "            ArtistDicoAll.update({artist : allGenres})\n",
    "        \n",
    "        #Adding to LineUp genres\n",
    "        genres.append(mainGenre) \n",
    "        \n",
    "            \n",
    "    if(len(genres)==0):\n",
    "        print(artists)\n",
    "    else:\n",
    "        maxGenre =AE.getMaxGenre(genres)\n",
    "        #updating dataframe\n",
    "        ClubDataFrame = ClubDataFrame.set_value(id,\"Genre\",maxGenre)\n",
    "        ClubDataFrame = ClubDataFrame.set_value(id,\"All Genres\",str(genres))\n",
    "        ClubDataFrame = ClubDataFrame.set_value(id,\"LineUp\",str(artists))\n",
    "    \n",
    "    i+=1\n",
    "    if(i%200==0):\n",
    "        print(str(i))\n",
    "    if(i%200==0):\n",
    "        LU.saveDictionary(ArtistDicoMain,\"ArtistDicoMain\",path = \"Artists/\",enc=\"UTF-8\")\n",
    "        LU.saveDictionary(ArtistDicoAll,\"ArtistDicoAll\",path = \"Artists/\",enc=\"UTF-8\")\n",
    "        \n",
    "print(\"FINISHED\")\n",
    "LU.saveDictionary(ArtistDicoMain,\"ArtistDicoMain\",path = \"Artists/\",enc=\"UTF-8\")\n",
    "LU.saveDictionary(ArtistDicoAll,\"ArtistDicoAll\",path = \"Artists/\",enc=\"UTF-8\")\n",
    "\n",
    "print(\"\\n\\n These genres were not found in dictionary : \")\n",
    "print(MissingGenres)"
   ]
  },
  {
   "cell_type": "code",
   "execution_count": null,
   "metadata": {
    "collapsed": false
   },
   "outputs": [],
   "source": [
    "AE.createDictionnary()\n",
    "ClubDataFrame[0:50]"
   ]
  },
  {
   "cell_type": "code",
   "execution_count": null,
   "metadata": {
    "collapsed": false
   },
   "outputs": [],
   "source": [
    "ClubDataFrame.to_csv(\"ClubData/EventsWithGenre.csv\",encoding=\"UTF-8\")"
   ]
  },
  {
   "cell_type": "code",
   "execution_count": null,
   "metadata": {
    "collapsed": true
   },
   "outputs": [],
   "source": []
  }
 ],
 "metadata": {
  "anaconda-cloud": {},
  "kernelspec": {
   "display_name": "Python [Root]",
   "language": "python",
   "name": "Python [Root]"
  },
  "language_info": {
   "codemirror_mode": {
    "name": "ipython",
    "version": 3
   },
   "file_extension": ".py",
   "mimetype": "text/x-python",
   "name": "python",
   "nbconvert_exporter": "python",
   "pygments_lexer": "ipython3",
   "version": "3.5.2"
  }
 },
 "nbformat": 4,
 "nbformat_minor": 0
}
