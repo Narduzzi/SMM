{
 "cells": [
  {
   "cell_type": "code",
   "execution_count": 7,
   "metadata": {
    "collapsed": true
   },
   "outputs": [],
   "source": [
    "import numpy as np\n",
    "import ArtistExtractor as AE\n",
    "import pandas as pd\n",
    "import glob\n",
    "import os\n",
    "import LocationUtils as LU\n",
    "from ExtractGenreClubs import SplitLineup\n",
    "from ast import literal_eval\n",
    "import moreFunction"
   ]
  },
  {
   "cell_type": "code",
   "execution_count": 8,
   "metadata": {
    "collapsed": true
   },
   "outputs": [],
   "source": [
    "def getAllArtists():\n",
    "    file = \"ClubData/ClubDataGeo/ClubDataFrame.csv\"\n",
    "    ClubDataFrame = pd.read_csv(file,sep=\",\")\n",
    "    ClubDataFrame[\"Genre\"] = None\n",
    "    ClubDataFrame[\"location\"] = None\n",
    "    ClubDataFrame[\"event_style\"] = 1\n",
    "    ClubDataFrame = ClubDataFrame[[\"ClubName\",\"club\",\"Address\",\"location\",\"EventName\",\"Date\",\"LineUp\",\"Genre\",\"Location\"]]\n",
    "    ClubDataFrame.columns = [\"place\",\"event_style\",\"address\",\"location\",\"event\",\"date\",\"artists\",\"genre\",\"coordinates\"]\n",
    "    ClubDataFrame\n",
    "\n",
    "    file = \"events.ch/EventsChData/completeWithCoordinates.csv\"\n",
    "    EventsDataFrame = pd.read_csv(file)\n",
    "    EventsDataFrame[\"address\"] = None\n",
    "    EventsDataFrame[\"place\"] = None\n",
    "    EventsDataFrame[\"event_style\"] = 0\n",
    "    EventsDataFrame = EventsDataFrame[[\"place\",\"event_style\",\"address\",\"location\",\"event\",\"date\",\"artists\",\"genre\",\"coordinates\"]]\n",
    "    EventsDataFrame\n",
    "\n",
    "    \n",
    "    ##ADD HERE CODE FOR ROUTE DES FESTIVAL\n",
    "    '''\n",
    "    file = ##Add path\n",
    "    RouteFestivalDataFrame = pd.read_csv(file)\n",
    "    RouteFestivalDataFrame[\"address\"] = None\n",
    "    RouteFestivalDataFrame[\"place\"] = None\n",
    "    RouteFestivalDataFrame[\"event_style\"] = 2\n",
    "    RouteFestivalDataFrame = RouteFestivalDataFrame[[\"place\",\"event_style\",\"address\",\"location\",\"event\",\"date\",\"artists\",\"genre\",\"coordinates\"]]\n",
    "    RouteFestivalDataFrame\n",
    "    '''\n",
    "    \n",
    "    \n",
    "    Dataframe = pd.DataFrame()\n",
    "    Dataframe = Dataframe.append(EventsDataFrame)\n",
    "    Dataframe = Dataframe.append(ClubDataFrame)\n",
    "    ## Dataframe = Dataframe.append(RouteFestivalDataFrame)\n",
    "    Dataframe.to_csv(\"FullData/EventsAndClubs.csv\", encoding=\"utf-8\")\n",
    "\n",
    "    ArtistsDataFrame = pd.DataFrame()\n",
    "    i=0\n",
    "    print(Dataframe.shape)\n",
    "    for index,row in Dataframe.iterrows():\n",
    "        lineup = row[\"artists\"] #get line-up\n",
    "        artists = literal_eval(lineup)\n",
    "        for a in artists:\n",
    "            a = a.split(\"(\")[0]#Remove parenthesis at end of artist (record label, live act..)\n",
    "\n",
    "            artist_list = []\n",
    "            artist_list.append(a)\n",
    "            cleaned_artist = moreFunction.clean_artists(artist_list)\n",
    "            if(len(cleaned_artist)>0):\n",
    "                a = cleaned_artist[0]\n",
    "            a = pd.Series(a.strip())\n",
    "            ArtistsDataFrame = ArtistsDataFrame.append(a,ignore_index=True)\n",
    "        i+=1\n",
    "        if(i%5000==0):\n",
    "            print(i)\n",
    "\n",
    "    ArtistsDataFrame.columns=[\"artist\"]\n",
    "    ArtistsDataFrame.to_csv(\"FullData/ArtistsList.csv\",encoding=\"utf-8\")\n",
    "    return ArtistsDataFrame"
   ]
  },
  {
   "cell_type": "code",
   "execution_count": 9,
   "metadata": {
    "collapsed": true
   },
   "outputs": [],
   "source": [
    "def downloadGenres(artistsDF,begin=0,end=100000):\n",
    "\n",
    "    Artists = artistsDF.copy()\n",
    "    Artists = Artists.drop_duplicates().reset_index()[[\"artist\"]]\n",
    "    Artists.columns=[\"artist\"]\n",
    "    Artists[\"genres_spotify\"]=None\n",
    "    Artists[\"genres_ra\"]=None\n",
    "    Artists[\"main_genres\"]=None\n",
    "    Artists[\"top3_genres\"]=None\n",
    "    Artists[\"genre\"]=None    \n",
    "    \n",
    "    if(end>Artists.shape[0]):\n",
    "        end = Artists.shape[0]\n",
    "    \n",
    "    path = \"FullData/ArtistDataframe_\"+str(begin)+\"_\"+str(end)+\".csv\"\n",
    "    print(\"Downloading genres of \"+str(end-begin)+\" artist...\")\n",
    "    last_read = 0\n",
    "    for i in range(begin,end):\n",
    "        S = Artists[Artists.index==i]\n",
    "        artist = S[\"artist\"].values[0]\n",
    "        genres_spotify = AE.getGenresFromSpotify(artist)\n",
    "        \n",
    "        if(len(genres_spotify)<1):\n",
    "            genres_spotify = None\n",
    "        Artists.loc[Artists.index==i,\"genres_spotify\"] = str(genres_spotify)\n",
    "\n",
    "        if(i%300==0):\n",
    "            Artists.to_csv(path,encoding=\"utf-8\")\n",
    "            print(str(i)+\": Saved under \"+path)\n",
    "    \n",
    "    Artists.to_csv(path,encoding=\"utf-8\")\n",
    "    \n",
    "    print(str(i)+\": Saved under \"+path)\n",
    "    last_read = i\n",
    "\n",
    "    print(\"Last read = \"+str(last_read))\n",
    "    return Artists"
   ]
  },
  {
   "cell_type": "code",
   "execution_count": 10,
   "metadata": {
    "collapsed": true
   },
   "outputs": [],
   "source": [
    "def generateDictionnary(artistsDF):\n",
    "    df = artistsDF.copy()\n",
    "\n",
    "    i=0\n",
    "    AllGenresDownloaded = []\n",
    "    print(\"Populating dictionnary with other genres:\")\n",
    "    print(\"Reading all genres from dataframe : \"+path)\n",
    "    for id,row in df.iterrows():\n",
    "        listGenres = literal_eval(row[2])\n",
    "        if(listGenres!=None):\n",
    "            AllGenresDownloaded+=listGenres\n",
    "    print(\"All genre extracted from dataframe. Updating dictionnary..\")\n",
    "    dic = AE.createDictionnary()\n",
    "    dic = AE.updateDictionnary(AllGenresDownloaded,dic,debug=True)\n",
    "    LU.saveDictionary(dic,\"FullData/AllGenresDic\",enc=\"utf-8\")\n",
    "    print(\"Dictionnary of genre saved.\")\n",
    "    \n",
    "    return dic"
   ]
  },
  {
   "cell_type": "code",
   "execution_count": 11,
   "metadata": {
    "collapsed": true
   },
   "outputs": [],
   "source": [
    "def downloadGenresWikipedia(str_file,dictionnary,begin=0,end=100000):\n",
    "\n",
    "    Artists = pd.read_csv(str_file,index_col=0)\n",
    "    \n",
    "    if(end>Artists.shape[0]):\n",
    "        end = Artists.shape[0]\n",
    "    \n",
    "    path = \"FullData/ArtistDataframe_\"+str(begin)+\"_\"+str(end)+\".csv\"\n",
    "    print(\"Downloading genres of \"+str(end-begin)+\" artist...\")\n",
    "    last_read = 0\n",
    "    for i in range(begin,end):\n",
    "        S = Artists[Artists.index==i]\n",
    "        artist = S[\"artist\"].values[0]\n",
    "        genres_ra = AE.getGenresFromWikipedia(artist,dictionnary)\n",
    "        if(len(genres_ra)<1):\n",
    "            genres_ra = None\n",
    "        Artists.loc[Artists.index==i,\"genres_ra\"] = str(genres_ra)\n",
    "\n",
    "        if(i%300==0):\n",
    "            Artists.to_csv(path,encoding=\"utf-8\")\n",
    "            print(str(i)+\": Saved under \"+path)\n",
    "    \n",
    "    Artists.to_csv(path,encoding=\"utf-8\")\n",
    "    \n",
    "    print(str(i)+\": Saved under \"+path)\n",
    "    last_read = i\n",
    "\n",
    "    print(\"Last read = \"+str(last_read))\n",
    "    return Artists"
   ]
  },
  {
   "cell_type": "code",
   "execution_count": 5,
   "metadata": {
    "collapsed": false
   },
   "outputs": [
    {
     "name": "stdout",
     "output_type": "stream",
     "text": [
      "(38846, 9)\n",
      "5000\n",
      "10000\n",
      "15000\n",
      "20000\n",
      "25000\n",
      "30000\n",
      "35000\n"
     ]
    }
   ],
   "source": [
    "ArtistsDF = getAllArtists()"
   ]
  },
  {
   "cell_type": "code",
   "execution_count": null,
   "metadata": {
    "collapsed": false
   },
   "outputs": [
    {
     "name": "stdout",
     "output_type": "stream",
     "text": [
      "Downloading genres of 44827 artist...\n",
      "0: Saved under FullData/ArtistDataframe_0_44827.csv\n",
      "300: Saved under FullData/ArtistDataframe_0_44827.csv\n",
      "600: Saved under FullData/ArtistDataframe_0_44827.csv\n"
     ]
    }
   ],
   "source": [
    "ArtistsDF = downloadGenres(ArtistsDF)\n",
    "ArtistsDF"
   ]
  },
  {
   "cell_type": "code",
   "execution_count": null,
   "metadata": {
    "collapsed": true
   },
   "outputs": [],
   "source": []
  }
 ],
 "metadata": {
  "anaconda-cloud": {},
  "kernelspec": {
   "display_name": "Python [Root]",
   "language": "python",
   "name": "Python [Root]"
  },
  "language_info": {
   "codemirror_mode": {
    "name": "ipython",
    "version": 3
   },
   "file_extension": ".py",
   "mimetype": "text/x-python",
   "name": "python",
   "nbconvert_exporter": "python",
   "pygments_lexer": "ipython3",
   "version": "3.5.2"
  }
 },
 "nbformat": 4,
 "nbformat_minor": 0
}
