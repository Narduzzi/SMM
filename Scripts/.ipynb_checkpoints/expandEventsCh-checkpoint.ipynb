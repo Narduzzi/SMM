{
 "cells": [
  {
   "cell_type": "code",
   "execution_count": 1,
   "metadata": {
    "collapsed": false
   },
   "outputs": [],
   "source": [
    "import glob\n",
    "import numpy as np\n",
    "import pandas as pd\n",
    "import LocationUtils as lu\n",
    "dictionaryFile = \"ClubsGeo\""
   ]
  },
  {
   "cell_type": "code",
   "execution_count": 2,
   "metadata": {
    "collapsed": false
   },
   "outputs": [
    {
     "name": "stdout",
     "output_type": "stream",
     "text": [
      "1456\n",
      "(36340, 6)\n"
     ]
    },
    {
     "data": {
      "text/html": [
       "<div>\n",
       "<table border=\"1\" class=\"dataframe\">\n",
       "  <thead>\n",
       "    <tr style=\"text-align: right;\">\n",
       "      <th></th>\n",
       "      <th>Unnamed: 0</th>\n",
       "      <th>location</th>\n",
       "      <th>event</th>\n",
       "      <th>date</th>\n",
       "      <th>artists</th>\n",
       "      <th>genre</th>\n",
       "    </tr>\n",
       "  </thead>\n",
       "  <tbody>\n",
       "    <tr>\n",
       "      <th>0</th>\n",
       "      <td>0</td>\n",
       "      <td>Zürich</td>\n",
       "      <td>Andy-Gruber-Band</td>\n",
       "      <td>2016-04-22</td>\n",
       "      <td>['Andy Gruber Band ']</td>\n",
       "      <td>traditional</td>\n",
       "    </tr>\n",
       "    <tr>\n",
       "      <th>1</th>\n",
       "      <td>1</td>\n",
       "      <td>Basel</td>\n",
       "      <td>Lilian's-White-Party</td>\n",
       "      <td>2016-04-22</td>\n",
       "      <td>['DJ Raykard ']</td>\n",
       "      <td>Pop</td>\n",
       "    </tr>\n",
       "    <tr>\n",
       "      <th>2</th>\n",
       "      <td>2</td>\n",
       "      <td>Basel</td>\n",
       "      <td>Orgelspiel-zum-Feierabend</td>\n",
       "      <td>2016-04-22</td>\n",
       "      <td>['Martin Sander ']</td>\n",
       "      <td>Classic</td>\n",
       "    </tr>\n",
       "    <tr>\n",
       "      <th>3</th>\n",
       "      <td>3</td>\n",
       "      <td>Dietikon</td>\n",
       "      <td>Feierabendmusik</td>\n",
       "      <td>2016-04-22</td>\n",
       "      <td>['Bernhard Hörler ']</td>\n",
       "      <td>Classic</td>\n",
       "    </tr>\n",
       "    <tr>\n",
       "      <th>4</th>\n",
       "      <td>4</td>\n",
       "      <td>Zürich</td>\n",
       "      <td>Oomph</td>\n",
       "      <td>2016-04-22</td>\n",
       "      <td>['Oomph ']</td>\n",
       "      <td>Electronic</td>\n",
       "    </tr>\n",
       "  </tbody>\n",
       "</table>\n",
       "</div>"
      ],
      "text/plain": [
       "   Unnamed: 0  location                      event        date  \\\n",
       "0           0    Zürich           Andy-Gruber-Band  2016-04-22   \n",
       "1           1     Basel       Lilian's-White-Party  2016-04-22   \n",
       "2           2     Basel  Orgelspiel-zum-Feierabend  2016-04-22   \n",
       "3           3  Dietikon            Feierabendmusik  2016-04-22   \n",
       "4           4    Zürich                      Oomph  2016-04-22   \n",
       "\n",
       "                 artists        genre  \n",
       "0  ['Andy Gruber Band ']  traditional  \n",
       "1        ['DJ Raykard ']          Pop  \n",
       "2     ['Martin Sander ']      Classic  \n",
       "3   ['Bernhard Hörler ']      Classic  \n",
       "4             ['Oomph ']   Electronic  "
      ]
     },
     "execution_count": 2,
     "metadata": {},
     "output_type": "execute_result"
    }
   ],
   "source": [
    "files = []\n",
    "files = glob.glob(\"EventsChData/*.csv\")\n",
    "print(len(files))\n",
    "ClubDataFrame = pd.read_csv(files[0])\n",
    "\n",
    "for file in files[1:]:\n",
    "    df= pd.read_csv(file)\n",
    "    ClubDataFrame = ClubDataFrame.append(df,ignore_index = True)\n",
    "    \n",
    "print(ClubDataFrame.shape)\n",
    "ClubDataFrame.head()\n"
   ]
  },
  {
   "cell_type": "code",
   "execution_count": 3,
   "metadata": {
    "collapsed": true
   },
   "outputs": [],
   "source": [
    "ClubDataFrame = ClubDataFrame.drop('Unnamed: 0', 1)"
   ]
  },
  {
   "cell_type": "code",
   "execution_count": 4,
   "metadata": {
    "collapsed": false
   },
   "outputs": [
    {
     "data": {
      "text/html": [
       "<div>\n",
       "<table border=\"1\" class=\"dataframe\">\n",
       "  <thead>\n",
       "    <tr style=\"text-align: right;\">\n",
       "      <th></th>\n",
       "      <th>location</th>\n",
       "      <th>event</th>\n",
       "      <th>date</th>\n",
       "      <th>artists</th>\n",
       "      <th>genre</th>\n",
       "    </tr>\n",
       "  </thead>\n",
       "  <tbody>\n",
       "    <tr>\n",
       "      <th>13</th>\n",
       "      <td>Bern</td>\n",
       "      <td>Schuberts-Tragische</td>\n",
       "      <td>2016-04-22</td>\n",
       "      <td>[' Veronika Eberle ']</td>\n",
       "      <td>Classic</td>\n",
       "    </tr>\n",
       "    <tr>\n",
       "      <th>14</th>\n",
       "      <td>Basel</td>\n",
       "      <td>Jazzfestival-Basel</td>\n",
       "      <td>2016-04-22</td>\n",
       "      <td>[' Kenny Garrett ', ' Vernell Brown ', ' Corco...</td>\n",
       "      <td>NaN</td>\n",
       "    </tr>\n",
       "    <tr>\n",
       "      <th>15</th>\n",
       "      <td>null</td>\n",
       "      <td>Konzert</td>\n",
       "      <td>2016-04-22</td>\n",
       "      <td>[' Tine Thing Helseth ']</td>\n",
       "      <td>Classic</td>\n",
       "    </tr>\n",
       "  </tbody>\n",
       "</table>\n",
       "</div>"
      ],
      "text/plain": [
       "   location                event        date  \\\n",
       "13     Bern  Schuberts-Tragische  2016-04-22   \n",
       "14    Basel   Jazzfestival-Basel  2016-04-22   \n",
       "15     null              Konzert  2016-04-22   \n",
       "\n",
       "                                              artists    genre  \n",
       "13                              [' Veronika Eberle ']  Classic  \n",
       "14  [' Kenny Garrett ', ' Vernell Brown ', ' Corco...      NaN  \n",
       "15                           [' Tine Thing Helseth ']  Classic  "
      ]
     },
     "execution_count": 4,
     "metadata": {},
     "output_type": "execute_result"
    }
   ],
   "source": [
    "ClubDataFrame[13:16]"
   ]
  },
  {
   "cell_type": "markdown",
   "metadata": {},
   "source": [
    "run once cells below"
   ]
  },
  {
   "cell_type": "raw",
   "metadata": {
    "collapsed": false
   },
   "source": [
    "dic = lu.loadDictionary(dictionaryFile)"
   ]
  },
  {
   "cell_type": "raw",
   "metadata": {
    "collapsed": false
   },
   "source": [
    "print(len(dic))"
   ]
  },
  {
   "cell_type": "raw",
   "metadata": {},
   "source": [
    "lu.populateDictionary(dic)"
   ]
  },
  {
   "cell_type": "raw",
   "metadata": {},
   "source": [
    "print(len(dic))"
   ]
  },
  {
   "cell_type": "raw",
   "metadata": {},
   "source": [
    "lu.saveDictionary(dic, \"newDic\")"
   ]
  },
  {
   "cell_type": "code",
   "execution_count": 5,
   "metadata": {
    "collapsed": true
   },
   "outputs": [],
   "source": [
    "dic = lu.loadDictionary(\"newDic\")"
   ]
  },
  {
   "cell_type": "code",
   "execution_count": 6,
   "metadata": {
    "collapsed": false
   },
   "outputs": [
    {
     "name": "stdout",
     "output_type": "stream",
     "text": [
      "650\n"
     ]
    }
   ],
   "source": [
    "print(len(dic))"
   ]
  },
  {
   "cell_type": "code",
   "execution_count": 7,
   "metadata": {
    "collapsed": false
   },
   "outputs": [],
   "source": [
    "ClubDataFrame = ClubDataFrame[ClubDataFrame.location != \"null\"]"
   ]
  },
  {
   "cell_type": "code",
   "execution_count": 8,
   "metadata": {
    "collapsed": false
   },
   "outputs": [
    {
     "data": {
      "text/html": [
       "<div>\n",
       "<table border=\"1\" class=\"dataframe\">\n",
       "  <thead>\n",
       "    <tr style=\"text-align: right;\">\n",
       "      <th></th>\n",
       "      <th>location</th>\n",
       "      <th>event</th>\n",
       "      <th>date</th>\n",
       "      <th>artists</th>\n",
       "      <th>genre</th>\n",
       "    </tr>\n",
       "  </thead>\n",
       "  <tbody>\n",
       "    <tr>\n",
       "      <th>13</th>\n",
       "      <td>Bern</td>\n",
       "      <td>Schuberts-Tragische</td>\n",
       "      <td>2016-04-22</td>\n",
       "      <td>[' Veronika Eberle ']</td>\n",
       "      <td>Classic</td>\n",
       "    </tr>\n",
       "    <tr>\n",
       "      <th>14</th>\n",
       "      <td>Basel</td>\n",
       "      <td>Jazzfestival-Basel</td>\n",
       "      <td>2016-04-22</td>\n",
       "      <td>[' Kenny Garrett ', ' Vernell Brown ', ' Corco...</td>\n",
       "      <td>NaN</td>\n",
       "    </tr>\n",
       "    <tr>\n",
       "      <th>16</th>\n",
       "      <td>Bern</td>\n",
       "      <td>Oli-Kehrli</td>\n",
       "      <td>2016-04-22</td>\n",
       "      <td>['Oli Kehrli ']</td>\n",
       "      <td>Pop</td>\n",
       "    </tr>\n",
       "  </tbody>\n",
       "</table>\n",
       "</div>"
      ],
      "text/plain": [
       "   location                event        date  \\\n",
       "13     Bern  Schuberts-Tragische  2016-04-22   \n",
       "14    Basel   Jazzfestival-Basel  2016-04-22   \n",
       "16     Bern           Oli-Kehrli  2016-04-22   \n",
       "\n",
       "                                              artists    genre  \n",
       "13                              [' Veronika Eberle ']  Classic  \n",
       "14  [' Kenny Garrett ', ' Vernell Brown ', ' Corco...      NaN  \n",
       "16                                    ['Oli Kehrli ']      Pop  "
      ]
     },
     "execution_count": 8,
     "metadata": {},
     "output_type": "execute_result"
    }
   ],
   "source": [
    "ClubDataFrame[13:16]"
   ]
  },
  {
   "cell_type": "code",
   "execution_count": 9,
   "metadata": {
    "collapsed": true
   },
   "outputs": [],
   "source": [
    "def addCoordinatesColumn(df, dictionary=None, location_column_name=\"location\", coordinates_column_name = \"coordinates\",replace=False, inplace = False):\n",
    "    tmp = df.copy()\n",
    "    if(coordinates_column_name in df.columns):\n",
    "        if(replace):\n",
    "            if(inplace):\n",
    "                df.drop(coordinates_column_name,1, inplace=True)\n",
    "            else:\n",
    "                tmp.drop(coordinates_column_name,1, inplace=True)\n",
    "        else:\n",
    "            print(\"column \",coordinates_column_name,\" already in dataframe.\")\n",
    "            return \n",
    "    serie = pd.Series(data = np.nan, index = df.index, dtype = np.dtype)\n",
    "    for (i,r) in df.iterrows():\n",
    "        serie[i]= lu.getLocation(df.loc[i,location_column_name], dictionary)[0]\n",
    "        if(i%128 == 0): \n",
    "            print(i)\n",
    "    if(inplace):\n",
    "        df.insert(len(df.columns), coordinates_column_name,serie)\n",
    "    else: \n",
    "        tmp.insert(len(tmp.columns), coordinates_column_name,serie)\n",
    "        return tmp"
   ]
  },
  {
   "cell_type": "code",
   "execution_count": null,
   "metadata": {
    "collapsed": false
   },
   "outputs": [],
   "source": [
    "addCoordinatesColumn(ClubDataFrame, dic, inplace=True)"
   ]
  },
  {
   "cell_type": "code",
   "execution_count": null,
   "metadata": {
    "collapsed": false
   },
   "outputs": [],
   "source": [
    "ClubDataFrame.head()"
   ]
  },
  {
   "cell_type": "code",
   "execution_count": null,
   "metadata": {
    "collapsed": false
   },
   "outputs": [],
   "source": [
    "lu.saveDictionary(dic, \"newDic\")"
   ]
  }
 ],
 "metadata": {
  "kernelspec": {
   "display_name": "Python 3",
   "language": "python",
   "name": "python3"
  },
  "language_info": {
   "codemirror_mode": {
    "name": "ipython",
    "version": 3
   },
   "file_extension": ".py",
   "mimetype": "text/x-python",
   "name": "python",
   "nbconvert_exporter": "python",
   "pygments_lexer": "ipython3",
   "version": "3.5.2+"
  }
 },
 "nbformat": 4,
 "nbformat_minor": 1
}
