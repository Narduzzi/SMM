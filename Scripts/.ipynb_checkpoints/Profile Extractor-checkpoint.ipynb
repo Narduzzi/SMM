{
 "cells": [
  {
   "cell_type": "code",
   "execution_count": 643,
   "metadata": {
    "collapsed": true
   },
   "outputs": [],
   "source": [
    "# Profile Extractor"
   ]
  },
  {
   "cell_type": "markdown",
   "metadata": {},
   "source": [
    "This class provide functions that allow the retrieval of informations about a musician. Below are some useful methods for retrieving the Genre, Discography or Provenance. For this, we will use the SpotifyAPI and Wikipedia."
   ]
  },
  {
   "cell_type": "code",
   "execution_count": 674,
   "metadata": {
    "collapsed": false
   },
   "outputs": [],
   "source": [
    "import numpy as np\n",
    "import requests\n",
    "import json\n",
    "import itertools\n",
    "from bs4 import BeautifulSoup\n",
    "\n",
    "associates = []\n",
    "\n",
    "listGenres = \"https://en.wikipedia.org/wiki/List_of_electronic_music_genres\"\n",
    "contentWIKI = requests.get(listGenres).text"
   ]
  },
  {
   "cell_type": "code",
   "execution_count": 863,
   "metadata": {
    "collapsed": false
   },
   "outputs": [
    {
     "ename": "IndentationError",
     "evalue": "expected an indented block (<ipython-input-863-58c7151c74aa>, line 28)",
     "output_type": "error",
     "traceback": [
      "\u001b[1;36m  File \u001b[1;32m\"<ipython-input-863-58c7151c74aa>\"\u001b[1;36m, line \u001b[1;32m28\u001b[0m\n\u001b[1;33m    return dictionnary\u001b[0m\n\u001b[1;37m    ^\u001b[0m\n\u001b[1;31mIndentationError\u001b[0m\u001b[1;31m:\u001b[0m expected an indented block\n"
     ]
    }
   ],
   "source": [
    "def updateDictionnary(genres,dictionnary,debug = False):\n",
    "    for genre in genres:\n",
    "        if(not genre in dictionnary):\n",
    "                #gs = itertools.combinations(genre.split(\" \"),i)\n",
    "                gs = genre.split(\" \")\n",
    "                mainGenre = None\n",
    "                for g in gs:\n",
    "                    #g = str(g).replace(\"', '\",\" \").replace(\"')\",\"\").replace(\"('\",\"\").replace(\"',)\",\"\")\n",
    "                    if(g in dictionnary):\n",
    "                        mainGenre = dictionnary[g]\n",
    "                        dictionnary.update({genre : mainGenre})   \n",
    "                        if(debug):            \n",
    "                            print(\"added : dic{\"+genre+\" : \"+mainGenre+\"}\")\n",
    "                        #return dictionnary\n",
    "                    else:\n",
    "                        if(len(g)>1):\n",
    "                            dictionnary.update({g : g})\n",
    "                            if(debug):\n",
    "                                print(\"added : dic{\"+g+\" : \"+g+\"}\")\n",
    "                    #if(genre in dictionnary):\n",
    "                     #   return dictionnary\n",
    "                    #else:\n",
    "                       # dictionnary.update({genre : genre)\n",
    "        if(genre not in dictionnary):  \n",
    "             #dictionnary.update({genre : genre})\n",
    "\n",
    "        \n",
    "    return dictionnary"
   ]
  },
  {
   "cell_type": "code",
   "execution_count": 903,
   "metadata": {
    "collapsed": false
   },
   "outputs": [],
   "source": [
    "def createDictionnary(debug = False):\n",
    "    #wikiURL = \"https://en.wikipedia.org/wiki/\"+str(genre)\n",
    "    listGenres = \"https://en.wikipedia.org/wiki/List_of_electronic_music_genres\"\n",
    "    \n",
    "    #content = requests.get(listGenres).text\n",
    "    soup = bs4.BeautifulSoup(contentWIKI,\"html5lib\")\n",
    "    mainList = []\n",
    "    subgenres = []\n",
    "    dic = {}\n",
    "    main = \"\"\n",
    "    \n",
    "    for div in soup.findAll(attrs={\"style\" : \"-moz-column-width: 20em; -webkit-column-width: 20em; column-width: 20em;\"}):   \n",
    "        if(div.attrs['style'] == \"-moz-column-width: 20em; -webkit-column-width: 20em; column-width: 20em;\"):\n",
    "             if('style' in div.attrs):\n",
    "                uls = div.find('ul')\n",
    "                if(uls is not None):\n",
    "                    for groups in uls:\n",
    "                        for a in groups:\n",
    "                            b = str(a)\n",
    "                            soup2 = bs4.BeautifulSoup(b,\"html5lib\")\n",
    "                            if(len(soup2.text)>0 and soup2.text.count(\"\\n\")<2):\n",
    "                                mainList.append(soup2.text)\n",
    "                                main = soup2.text.replace(\"\\n\",\"\")\n",
    "                                dic.update({main.lower() : main.lower()})\n",
    "                                if(debug):print(\"MAIN \"+str(len(main))+\" \"+main)\n",
    "                                \n",
    "                            if(\"ul\" in b and len(b)>0):\n",
    "                                soup2 = bs4.BeautifulSoup(b,\"html5lib\")\n",
    "                                if(len(soup2.text)>0):\n",
    "                                    t = soup2.text\n",
    "                                    lines = t.split(\"\\n\")\n",
    "                                    for genre in lines:\n",
    "                                        if(len(genre)>0):\n",
    "                                            if(debug):\n",
    "                                                print(genre +\"-\"+main)\n",
    "                                            if(debug):\n",
    "                                                print(\"...\")\n",
    "                                            dic.update({genre.lower() : main.lower()})\n",
    "                                \n",
    "       \n",
    "    ##Manual Add \n",
    "    dic.update({\"trap\" : \"rap\"})\n",
    "    dic.update({\"complextro\" : \"uk garage\"})\n",
    "    dic.update({\"hip hop\" : \"hip hop\"})\n",
    "    dic.update({\"hip\" : \"hip hop\"})\n",
    "    dic.update({\"hop\" : \"hip hop\"})\n",
    "    dic.update({\"rock\" : \"rock\"})\n",
    "    dic.update({\"rap\" : \"rap\"})\n",
    "    \n",
    "    return dic\n",
    "            "
   ]
  },
  {
   "cell_type": "code",
   "execution_count": 904,
   "metadata": {
    "collapsed": true
   },
   "outputs": [],
   "source": [
    "def findMainGenre(genre,dic):\n",
    "    return dic[genre.lower()]"
   ]
  },
  {
   "cell_type": "code",
   "execution_count": 905,
   "metadata": {
    "collapsed": false
   },
   "outputs": [],
   "source": [
    "def getMaxGenre(genres,debug = False):\n",
    "    dicnum = {}\n",
    "    for g in genres :\n",
    "        dicnum.update({g : genres.count(g)})\n",
    "   \n",
    "    maxKey = 0\n",
    "    maxEntry = None\n",
    "    if(debug):\n",
    "        print(dicnum)\n",
    "    for entry in dicnum :\n",
    "        if dicnum[entry]>maxKey and entry is not None:\n",
    "            maxEntry = entry\n",
    "            maxKey = dicnum[entry]\n",
    "    \n",
    "    return maxEntry     "
   ]
  },
  {
   "cell_type": "code",
   "execution_count": 906,
   "metadata": {
    "collapsed": false
   },
   "outputs": [
    {
     "data": {
      "text/plain": [
       "'uk garage'"
      ]
     },
     "execution_count": 906,
     "metadata": {},
     "output_type": "execute_result"
    }
   ],
   "source": [
    "dic = createDictionnary()\n",
    "findMainGenre(\"chillstep\",dic)"
   ]
  },
  {
   "cell_type": "code",
   "execution_count": 907,
   "metadata": {
    "collapsed": false
   },
   "outputs": [],
   "source": [
    "def mainGenres(genres,dictionnary=None, debug = False):\n",
    "    \n",
    "        dictionnary = updateDictionnary(genres,dictionnary, debug)\n",
    "        \n",
    "        mainGenreAssociates = []\n",
    "\n",
    "        for genre in genres :\n",
    "            #Update the list with the new genre\n",
    "            #if(genre not in dictionnary):\n",
    "               # dictionnary = updateDictionnary(genre,dictionnary, debug)\n",
    "                    \n",
    "    \n",
    "             #mainGenreAssociates.append(associates[genre])\n",
    "            if(debug):\n",
    "                print(\"for \"+str(genre)+\" found \"+dictionnary[genre])\n",
    "            mainGenreAssociates.append(dictionnary[genre])\n",
    "            \n",
    "\n",
    "        return mainGenreAssociates"
   ]
  },
  {
   "cell_type": "code",
   "execution_count": 908,
   "metadata": {
    "collapsed": false
   },
   "outputs": [],
   "source": [
    "def getGenre(Artist,dictionnary = None, Year=None, debug= False):\n",
    "    '''Get the genre of an artist at this period.If period is None, \n",
    "    gets the most representative genre of the artist\n",
    "    across time.'''\n",
    "    \n",
    "    \n",
    "    SpotifySearchURL = \"https://api.spotify.com/v1/search\"\n",
    "    \n",
    "    #arguments\n",
    "    args = {\n",
    "         'q' : str(Artist),\n",
    "        'type' : 'artist'\n",
    "    }\n",
    "    \n",
    "    #Query \n",
    "    content = json.loads(requests.get(SpotifySearchURL, params = args).text)\n",
    "    \n",
    "    genres = content['artists']['items'][0]['genres']\n",
    "    \n",
    "    MG = mainGenres(genres,dictionnary, debug)\n",
    "    \n",
    "    #print(\"Genres : \"+str(genres))\n",
    "    #print(\"mainGenres : \"+str(MG))\n",
    "    \n",
    "    \n",
    "    mainGenre = getMaxGenre(MG,debug)\n",
    "    \n",
    "    return mainGenre\n",
    "    \n",
    "    "
   ]
  },
  {
   "cell_type": "code",
   "execution_count": 909,
   "metadata": {
    "collapsed": false
   },
   "outputs": [
    {
     "name": "stdout",
     "output_type": "stream",
     "text": [
      "Michael Jackson - pop \n",
      "Renaud - french \n",
      "IAM - french \n",
      "Elvis Presley - rock \n",
      "Shakira - pop \n",
      "Panteros666 - techno \n",
      "Aqua - hi-nrg \n",
      "Paolo Conte - chanson \n",
      "DJ Splash - hands up \n",
      "Phil Collins - rock \n",
      "U2 - rock \n",
      "Pendulum - drum and bass \n",
      "Prodigy - breakbeat \n",
      "Daddy Yankee - reggaeton \n",
      "Mika - pop \n",
      "Glitch-Mob - uk garage \n",
      "Yannick - orchestral \n",
      "Indochine - rock \n",
      "Peter Gabriel - rock \n",
      "Bob Marley - reggae \n",
      "Damian Marley - reggae \n",
      "Skrillex - uk garage \n",
      "Mija - house music \n",
      "Zaho - pop \n",
      "Jul - rap \n"
     ]
    }
   ],
   "source": [
    "dictionnary = createDictionnary()\n",
    "#genre = getGenre(\"Michael Jackson\",dictionnary)#, debug = True)\n",
    "\n",
    "artists = [\"Michael Jackson\", \"Renaud\", \"IAM\", \"Elvis Presley\", \"Shakira\", \n",
    "           \"Panteros666\", \"Aqua\", \"Paolo Conte\", \"DJ Splash\", \"Phil Collins\", \"U2\", \"Pendulum\", \"Prodigy\",\n",
    "          \"Daddy Yankee\",\"Mika\",\"Glitch-Mob\", \"Yannick\", \"Indochine\", \"Peter Gabriel\", \"Bob Marley\", \"Damian Marley\",\n",
    "          \"Skrillex\", \"Mija\", \"Zaho\", \"Jul\"]\n",
    "for a in artists:\n",
    "    print(\"{name} - {genre} \".format(name = a, genre = getGenre(a,dictionnary)))\n",
    "\n",
    "#print(genre)"
   ]
  },
  {
   "cell_type": "code",
   "execution_count": null,
   "metadata": {
    "collapsed": true
   },
   "outputs": [],
   "source": [
    "def getMeanGenre(genres):\n",
    "    '''If an artist has a lot of genres, try to find the more representative'''"
   ]
  },
  {
   "cell_type": "code",
   "execution_count": 655,
   "metadata": {
    "collapsed": false
   },
   "outputs": [],
   "source": [
    "def getDiscography(Artist,Year = None):\n",
    "    return"
   ]
  },
  {
   "cell_type": "code",
   "execution_count": null,
   "metadata": {
    "collapsed": true
   },
   "outputs": [],
   "source": []
  }
 ],
 "metadata": {
  "anaconda-cloud": {},
  "kernelspec": {
   "display_name": "Python [Root]",
   "language": "python",
   "name": "Python [Root]"
  },
  "language_info": {
   "codemirror_mode": {
    "name": "ipython",
    "version": 3
   },
   "file_extension": ".py",
   "mimetype": "text/x-python",
   "name": "python",
   "nbconvert_exporter": "python",
   "pygments_lexer": "ipython3",
   "version": "3.5.2"
  }
 },
 "nbformat": 4,
 "nbformat_minor": 0
}
