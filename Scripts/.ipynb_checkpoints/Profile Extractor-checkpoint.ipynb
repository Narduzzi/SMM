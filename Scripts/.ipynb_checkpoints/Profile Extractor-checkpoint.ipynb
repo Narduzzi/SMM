{
 "cells": [
  {
   "cell_type": "code",
   "execution_count": 1,
   "metadata": {
    "collapsed": true
   },
   "outputs": [],
   "source": [
    "# Profile Extractor"
   ]
  },
  {
   "cell_type": "markdown",
   "metadata": {},
   "source": [
    "This class provide functions that allow the retrieval of informations about a musician. Below are some useful methods for retrieving the Genre, Discography or Provenance. For this, we will use the SpotifyAPI and Wikipedia."
   ]
  },
  {
   "cell_type": "code",
   "execution_count": 2,
   "metadata": {
    "collapsed": false
   },
   "outputs": [],
   "source": [
    "import numpy as np\n",
    "import requests\n",
    "import json\n",
    "import itertools\n",
    "import bs4\n",
    "\n",
    "associates = []\n",
    "\n",
    "listGenres = \"https://en.wikipedia.org/wiki/List_of_electronic_music_genres\"\n",
    "contentWIKI = requests.get(listGenres).text"
   ]
  },
  {
   "cell_type": "code",
   "execution_count": 3,
   "metadata": {
    "collapsed": false
   },
   "outputs": [],
   "source": [
    "def updateDictionnary(genres,dictionnary,debug = False):\n",
    "    for genre in genres:\n",
    "        genre = genre.lower()\n",
    "        if(not genre in dictionnary):\n",
    "            #gs = itertools.combinations(genre.split(\" \"),i)\n",
    "            spacesplit = genre.split(\" \")\n",
    "            gs = []\n",
    "            for a in spacesplit:\n",
    "                linesplit = a.split(\"-\")\n",
    "                for l in linesplit:\n",
    "                    gs.append(str(l))\n",
    "                \n",
    "            mainGenre = None\n",
    "            for g in gs:\n",
    "                #g = str(g).replace(\"', '\",\" \").replace(\"')\",\"\").replace(\"('\",\"\").replace(\"',)\",\"\")\n",
    "                if(g in dictionnary):\n",
    "                    if(not genre in dictionnary):\n",
    "                        mainGenre = dictionnary[g]\n",
    "                        dictionnary.update({genre : mainGenre})   \n",
    "                        if(debug):            \n",
    "                            print(\"added : dic{\"+genre+\" : \"+mainGenre+\"}\")\n",
    "                        #return dictionnary\n",
    "                else:\n",
    "                    if(len(g)>1):\n",
    "                        dictionnary.update({g : g})\n",
    "                        if(debug):\n",
    "                            print(\"added : dic{\"+g+\" : \"+g+\"}\")\n",
    "                #if(genre in dictionnary):\n",
    "                     #   return dictionnary\n",
    "                    #else:\n",
    "                       # dictionnary.update({genre : genre)\n",
    "        if(genre not in dictionnary):  \n",
    "            if(debug):\n",
    "                print(\"missing genre : \"+genre)\n",
    "            dictionnary.update({genre : genre})\n",
    "\n",
    "    return dictionnary"
   ]
  },
  {
   "cell_type": "code",
   "execution_count": 4,
   "metadata": {
    "collapsed": false
   },
   "outputs": [],
   "source": [
    "def createDictionnary(debug = False):\n",
    "    #wikiURL = \"https://en.wikipedia.org/wiki/\"+str(genre)\n",
    "    listGenres = \"https://en.wikipedia.org/wiki/List_of_electronic_music_genres\"\n",
    "    \n",
    "    #content = requests.get(listGenres).text\n",
    "    soup = bs4.BeautifulSoup(contentWIKI,\"html5lib\")\n",
    "    mainList = []\n",
    "    subgenres = []\n",
    "    dic = {}\n",
    "    main = \"\"\n",
    "    \n",
    "    for div in soup.findAll(attrs={\"style\" : \"-moz-column-width: 20em; -webkit-column-width: 20em; column-width: 20em;\"}):   \n",
    "        if(div.attrs['style'] == \"-moz-column-width: 20em; -webkit-column-width: 20em; column-width: 20em;\"):\n",
    "             if('style' in div.attrs):\n",
    "                uls = div.find('ul')\n",
    "                if(uls is not None):\n",
    "                    for groups in uls:\n",
    "                        for a in groups:\n",
    "                            b = str(a)\n",
    "                            soup2 = bs4.BeautifulSoup(b,\"html5lib\")\n",
    "                            if(len(soup2.text)>0 and soup2.text.count(\"\\n\")<2):\n",
    "                                mainList.append(soup2.text)\n",
    "                                main = soup2.text.replace(\"\\n\",\"\")\n",
    "                                dic.update({main.lower() : main.lower()})\n",
    "                                if(debug):print(\"MAIN \"+str(len(main))+\" \"+main)\n",
    "                                \n",
    "                            if(\"ul\" in b and len(b)>0):\n",
    "                                soup2 = bs4.BeautifulSoup(b,\"html5lib\")\n",
    "                                if(len(soup2.text)>0):\n",
    "                                    t = soup2.text\n",
    "                                    lines = t.split(\"\\n\")\n",
    "                                    for genre in lines:\n",
    "                                        if(len(genre)>0):\n",
    "                                            if(debug):\n",
    "                                                print(genre +\"-\"+main)\n",
    "                                            if(debug):\n",
    "                                                print(\"...\")\n",
    "                                            dic.update({genre.lower() : main.lower()})\n",
    "                                \n",
    "       \n",
    "    ##Manual Add\n",
    "    dic.update({\"tech\" : \"techno\"})\n",
    "    dic.update({\"funk rock\" : \"funk\"})\n",
    "    dic.update({\"trap francais\" : \"rap\"})\n",
    "    dic.update({\"catstep\":\"drum and bass\"})\n",
    "    dic.update({\"dance pop\" : \"pop\"})\n",
    "    dic.update({\"complextro\" : \"uk garage\"})\n",
    "    dic.update({\"hip hop\" : \"hip hop\"})\n",
    "    dic.update({\"hip\" : \"hip hop\"})\n",
    "    dic.update({\"hop\" : \"hip hop\"})\n",
    "    dic.update({\"rock\" : \"rock\"})\n",
    "    dic.update({\"rap\" : \"rap\"})\n",
    "    dic.update({\"filthstep\" : \"uk garage\"})\n",
    "    \n",
    "    return dic\n",
    "            "
   ]
  },
  {
   "cell_type": "code",
   "execution_count": 5,
   "metadata": {
    "collapsed": true
   },
   "outputs": [],
   "source": [
    "def findMainGenre(genre,dic):\n",
    "    return dic[genre.lower()]"
   ]
  },
  {
   "cell_type": "code",
   "execution_count": 6,
   "metadata": {
    "collapsed": false
   },
   "outputs": [],
   "source": [
    "def sanitize(genres):\n",
    "    if(genres is None):\n",
    "        return genre\n",
    "    else:\n",
    "        gen = []\n",
    "        \n",
    "        nations = [\"italian\",\"autralian\",\"french\",\"english\",\"greek\",\"latin\"]\n",
    "        for genre in genres:\n",
    "            gs = genre.split(\" \")\n",
    "            valid = True\n",
    "            for g in gs:\n",
    "                if(g in nations):\n",
    "                     valid = False\n",
    "            if(valid):\n",
    "                gen.append(genre)\n",
    "    return gen"
   ]
  },
  {
   "cell_type": "code",
   "execution_count": 7,
   "metadata": {
    "collapsed": false
   },
   "outputs": [],
   "source": [
    "import matplotlib.pyplot as plt\n",
    "\n",
    "def getMaxGenre(genres,debug = False):\n",
    "    dicnum = {}\n",
    "    for g in genres :\n",
    "        dicnum.update({g : genres.count(g)})\n",
    "   \n",
    "    maxKey = 0\n",
    "    maxEntry = None\n",
    "    if(debug):\n",
    "        print(dicnum)\n",
    "        plt.bar(range(len(dicnum)), dicnum.values(), align='center')\n",
    "        plt.xticks(range(len(dicnum)), dicnum.keys())\n",
    "        \n",
    "    for entry in dicnum :\n",
    "        if dicnum[entry]>maxKey and entry is not None:\n",
    "            maxEntry = entry\n",
    "            maxKey = dicnum[entry]\n",
    "    \n",
    "    return maxEntry     "
   ]
  },
  {
   "cell_type": "code",
   "execution_count": 8,
   "metadata": {
    "collapsed": false
   },
   "outputs": [
    {
     "ename": "NameError",
     "evalue": "name 'getGenre' is not defined",
     "output_type": "error",
     "traceback": [
      "\u001b[1;31m---------------------------------------------------------------------------\u001b[0m",
      "\u001b[1;31mNameError\u001b[0m                                 Traceback (most recent call last)",
      "\u001b[1;32m<ipython-input-8-ba252b662d97>\u001b[0m in \u001b[0;36m<module>\u001b[1;34m()\u001b[0m\n\u001b[0;32m      1\u001b[0m \u001b[0mdic\u001b[0m \u001b[1;33m=\u001b[0m \u001b[0mcreateDictionnary\u001b[0m\u001b[1;33m(\u001b[0m\u001b[1;33m)\u001b[0m\u001b[1;33m\u001b[0m\u001b[0m\n\u001b[1;32m----> 2\u001b[1;33m \u001b[0mgetGenre\u001b[0m\u001b[1;33m(\u001b[0m\u001b[1;34m\"Nina Kraviz\"\u001b[0m\u001b[1;33m,\u001b[0m\u001b[1;32mNone\u001b[0m\u001b[1;33m,\u001b[0m\u001b[0mdebug\u001b[0m\u001b[1;33m=\u001b[0m\u001b[1;32mTrue\u001b[0m\u001b[1;33m)\u001b[0m\u001b[1;33m\u001b[0m\u001b[0m\n\u001b[0m",
      "\u001b[1;31mNameError\u001b[0m: name 'getGenre' is not defined"
     ]
    }
   ],
   "source": [
    "dic = createDictionnary()\n",
    "getGenre(\"Nina Kraviz\",None,debug=True)"
   ]
  },
  {
   "cell_type": "code",
   "execution_count": 9,
   "metadata": {
    "collapsed": false
   },
   "outputs": [],
   "source": [
    "def mainGenres(genres,dictionnary=None, debug = False):\n",
    "    \n",
    "        dictionnary = updateDictionnary(genres,dictionnary, debug)\n",
    "        \n",
    "        mainGenreAssociates = []\n",
    "        for genre in genres :\n",
    "            #Update the list with the new genre\n",
    "            #if(genre not in dictionnary):\n",
    "               # dictionnary = updateDictionnary(genre,dictionnary, debug)\n",
    "                    \n",
    "    \n",
    "             #mainGenreAssociates.append(associates[genre])\n",
    "            if(debug):\n",
    "                print(\"for \"+str(genre)+\" found \"+dictionnary[genre])\n",
    "            mainGenreAssociates.append(dictionnary[genre])\n",
    "            \n",
    "\n",
    "        return mainGenreAssociates"
   ]
  },
  {
   "cell_type": "code",
   "execution_count": 10,
   "metadata": {
    "collapsed": false
   },
   "outputs": [],
   "source": [
    "def getGenresFromSpotify(Artist):\n",
    "    SpotifySearchURL = \"https://api.spotify.com/v1/search\"\n",
    "    \n",
    "    #arguments\n",
    "    args = {\n",
    "         'q' : str(Artist),\n",
    "        'type' : 'artist'\n",
    "    }\n",
    "    \n",
    "    #Query \n",
    "    content = json.loads(requests.get(SpotifySearchURL, params = args).text)\n",
    "    \n",
    "    genres = content['artists']['items'][0]['genres']\n",
    "    return genres"
   ]
  },
  {
   "cell_type": "code",
   "execution_count": 11,
   "metadata": {
    "collapsed": false
   },
   "outputs": [],
   "source": [
    "def getGenre(Artist,dictionnary = None, Year=None, debug= False):\n",
    "    '''Get the genre of an artist at this period.If period is None, \n",
    "    gets the most representative genre of the artist\n",
    "    across time.'''\n",
    "    if(dictionnary is None):\n",
    "        dictionnary = createDictionnary()\n",
    "    \n",
    "    genres = getGenresFromSpotify(Artist)\n",
    "    genres = sanitize(genres)\n",
    "    \n",
    "    MG = mainGenres(genres,dictionnary, debug)\n",
    "    \n",
    "    #print(\"Genres : \"+str(genres))\n",
    "    #print(\"mainGenres : \"+str(MG))\n",
    "    \n",
    "    \n",
    "    mainGenre = getMaxGenre(MG,debug)\n",
    "    \n",
    "    return mainGenre\n",
    "    \n",
    "    "
   ]
  },
  {
   "cell_type": "code",
   "execution_count": 12,
   "metadata": {
    "collapsed": false
   },
   "outputs": [
    {
     "name": "stdout",
     "output_type": "stream",
     "text": [
      "Michael Jackson - pop \n",
      "Renaud - chanson \n",
      "IAM - rap \n",
      "Elvis Presley - rock \n",
      "Shakira - pop \n",
      "Panteros666 - techno \n",
      "Aqua - pop \n",
      "Paolo Conte - chanson \n",
      "DJ Splash - hands up \n",
      "Phil Collins - rock \n",
      "U2 - rock \n",
      "Pendulum - drum and bass \n",
      "Prodigy - breakbeat \n",
      "Daddy Yankee - tropical \n",
      "Mika - pop \n",
      "Glitch-Mob - uk garage \n",
      "Yannick - orchestral \n",
      "Indochine - chanson \n",
      "Peter Gabriel - rock \n",
      "Bob Marley - reggae \n",
      "Damian Marley - reggae \n",
      "Skrillex - uk garage \n",
      "Mija - house music \n",
      "Zaho - rap \n",
      "Jul - rap \n"
     ]
    }
   ],
   "source": [
    "#genre = getGenre(\"Michael Jackson\",dictionnary)#, debug = True)\n",
    "dictionnary = createDictionnary()\n",
    "\n",
    "artists = [\"Michael Jackson\", \"Renaud\", \"IAM\", \"Elvis Presley\", \"Shakira\", \n",
    "           \"Panteros666\", \"Aqua\", \"Paolo Conte\", \"DJ Splash\", \"Phil Collins\", \"U2\", \"Pendulum\", \"Prodigy\",\n",
    "          \"Daddy Yankee\",\"Mika\",\"Glitch-Mob\", \"Yannick\", \"Indochine\", \"Peter Gabriel\", \"Bob Marley\", \"Damian Marley\",\n",
    "          \"Skrillex\", \"Mija\", \"Zaho\", \"Jul\"]\n",
    "for a in artists:\n",
    "    print(\"{name} - {genre} \".format(name = a, genre = getGenre(a,dictionnary)))\n",
    "\n",
    "#print(genre)"
   ]
  },
  {
   "cell_type": "code",
   "execution_count": 13,
   "metadata": {
    "collapsed": true
   },
   "outputs": [],
   "source": [
    "def getMeanGenre(genres):\n",
    "    '''If an artist has a lot of genres, try to find the more representative'''"
   ]
  },
  {
   "cell_type": "code",
   "execution_count": 14,
   "metadata": {
    "collapsed": false
   },
   "outputs": [],
   "source": [
    "def getDiscography(Artist,Year = None):\n",
    "    return"
   ]
  },
  {
   "cell_type": "code",
   "execution_count": 15,
   "metadata": {
    "collapsed": false
   },
   "outputs": [
    {
     "name": "stdout",
     "output_type": "stream",
     "text": [
      "added : dic{australian : australian}\n",
      "added : dic{dance : dance}\n",
      "missing genre : australian dance\n",
      "added : dic{edm : edm}\n",
      "added : dic{electronic : electronic}\n",
      "for australian dance found australian dance\n",
      "for brostep found uk garage\n",
      "for catstep found drum and bass\n",
      "for drum and bass found drum and bass\n",
      "for edm found edm\n",
      "for electro house found house music\n",
      "for electronic found electronic\n",
      "{'uk garage': 1, 'electronic': 1, 'edm': 1, 'house music': 1, 'drum and bass': 2, 'australian dance': 1}\n"
     ]
    },
    {
     "data": {
      "text/plain": [
       "'drum and bass'"
      ]
     },
     "execution_count": 15,
     "metadata": {},
     "output_type": "execute_result"
    }
   ],
   "source": [
    "getGenre(\"Pendulum\",createDictionnary(),debug=True)"
   ]
  },
  {
   "cell_type": "code",
   "execution_count": 16,
   "metadata": {
    "collapsed": false
   },
   "outputs": [
    {
     "name": "stdout",
     "output_type": "stream",
     "text": [
      "added : dic{chanson : chanson}\n",
      "added : dic{francoton : francoton}\n",
      "for chanson found chanson\n",
      "for francoton found francoton\n",
      "{'chanson': 1, 'francoton': 1}\n"
     ]
    },
    {
     "data": {
      "text/plain": [
       "'chanson'"
      ]
     },
     "execution_count": 16,
     "metadata": {},
     "output_type": "execute_result"
    }
   ],
   "source": [
    "getGenre(\"Indochine\",createDictionnary(),debug=True)"
   ]
  },
  {
   "cell_type": "code",
   "execution_count": 17,
   "metadata": {
    "collapsed": false
   },
   "outputs": [
    {
     "data": {
      "text/plain": [
       "['chanson', 'francoton', 'french pop', 'french rock']"
      ]
     },
     "execution_count": 17,
     "metadata": {},
     "output_type": "execute_result"
    }
   ],
   "source": [
    "getGenresFromSpotify(\"Indochine\")"
   ]
  },
  {
   "cell_type": "code",
   "execution_count": 18,
   "metadata": {
    "collapsed": false
   },
   "outputs": [
    {
     "name": "stdout",
     "output_type": "stream",
     "text": [
      "added : dic{alternative : alternative}\n",
      "added : dic{metal : metal}\n",
      "missing genre : alternative metal\n",
      "added : dic{hard : hard}\n",
      "added : dic{hard rock : rock}\n",
      "added : dic{speed : speed}\n",
      "added : dic{speed metal : metal}\n",
      "added : dic{thrash : thrash}\n",
      "added : dic{thrash metal : metal}\n",
      "for alternative metal found alternative metal\n",
      "for hard rock found rock\n",
      "for metal found metal\n",
      "for rock found rock\n",
      "for speed metal found metal\n",
      "for thrash metal found metal\n",
      "{'rock': 2, 'alternative metal': 1, 'metal': 3}\n"
     ]
    },
    {
     "data": {
      "text/plain": [
       "'metal'"
      ]
     },
     "execution_count": 18,
     "metadata": {},
     "output_type": "execute_result"
    }
   ],
   "source": [
    "getGenre(\"Metallica\",None,debug=True)"
   ]
  },
  {
   "cell_type": "code",
   "execution_count": null,
   "metadata": {
    "collapsed": true
   },
   "outputs": [],
   "source": []
  }
 ],
 "metadata": {
  "anaconda-cloud": {},
  "kernelspec": {
   "display_name": "Python [Root]",
   "language": "python",
   "name": "Python [Root]"
  },
  "language_info": {
   "codemirror_mode": {
    "name": "ipython",
    "version": 3
   },
   "file_extension": ".py",
   "mimetype": "text/x-python",
   "name": "python",
   "nbconvert_exporter": "python",
   "pygments_lexer": "ipython3",
   "version": "3.5.2"
  }
 },
 "nbformat": 4,
 "nbformat_minor": 0
}
