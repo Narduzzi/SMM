{
 "cells": [
  {
   "cell_type": "markdown",
   "metadata": {
    "collapsed": true
   },
   "source": [
    "## events_ch_handler"
   ]
  },
  {
   "cell_type": "code",
   "execution_count": 1,
   "metadata": {
    "collapsed": false
   },
   "outputs": [],
   "source": [
    "from html.parser import HTMLParser\n",
    "import urllib.request\n",
    "import unidecode\n",
    "from datetime import datetime"
   ]
  },
  {
   "cell_type": "code",
   "execution_count": 2,
   "metadata": {
    "collapsed": true
   },
   "outputs": [],
   "source": [
    "base_url = u\"https://events.ch\"\n",
    "language = u\"en\"\n",
    "action = u\"search\"\n",
    "search_type = u\"concerts\"\n",
    "date = u\"2015-07-23\"\n",
    "end_search = u\"6/cs\"\n",
    "page_number = 1"
   ]
  },
  {
   "cell_type": "code",
   "execution_count": 3,
   "metadata": {
    "collapsed": false
   },
   "outputs": [
    {
     "name": "stdout",
     "output_type": "stream",
     "text": [
      "https://events.ch/en/search/concerts/2015-07-23/6/cs/1\n"
     ]
    }
   ],
   "source": [
    "querry_url = base_url + '/' + language + '/' + action + '/' + search_type + '/' + date + '/' + end_search + '/' + str(page_number)\n",
    "print(querry_url)"
   ]
  },
  {
   "cell_type": "code",
   "execution_count": 4,
   "metadata": {
    "collapsed": false
   },
   "outputs": [],
   "source": [
    "page = urllib.request.urlopen(querry_url).read().decode('utf-8')"
   ]
  },
  {
   "cell_type": "code",
   "execution_count": 5,
   "metadata": {
    "collapsed": false
   },
   "outputs": [],
   "source": [
    "class MainHTMLParser(HTMLParser):\n",
    "    def __init__(self):\n",
    "        super( MainHTMLParser, self ).__init__()\n",
    "        self.data = []\n",
    "        \n",
    "    def handle_starttag(self, tag, attrs):\n",
    "        if(tag=='a' and len(attrs)==3):\n",
    "            href=attrs[1][1]\n",
    "            subquerry_url = base_url + urllib.parse.quote(href)\n",
    "            print(subquerry_url)\n",
    "            subpage = urllib.request.urlopen(subquerry_url).read().decode('utf-8')\n",
    "            subparser = EventHTMLParser()\n",
    "            subparser.feed(subpage)\n",
    "            split = href.split('/')\n",
    "            (artists, date) = subparser.getData()\n",
    "            currentDate = datetime.strptime(date, \"%a %b %d %Y %H:%M:%S GMT%z (%Z)\")\n",
    "            genres = split[2].split('-')\n",
    "            if(not(len(genres) == 1)):\n",
    "                genres = [None]\n",
    "            location = split[4]\n",
    "            festival = split[5]\n",
    "            if(len(artists) > 0):\n",
    "                self.data.append((location, festival, datetime.strftime(currentDate, \"%Y-%m-%d\"), artists, genres[0]))\n",
    "    \n",
    "    def getData(self):\n",
    "        return self.data\n",
    "    \n",
    "class EventHTMLParser(HTMLParser):\n",
    "    def __init__(self):\n",
    "        super( EventHTMLParser, self ).__init__()\n",
    "        self.artist_string = \"\"\n",
    "        self.date = \"\"\n",
    "        self.grab_artists = False\n",
    "        self.artists = []\n",
    "    \n",
    "    def handle_starttag(self, tag, attrs):\n",
    "        if(tag == 'h2' and len(attrs) == 2 and attrs[1][1] == \"event-subtitle\"):\n",
    "            self.grab_artists = True\n",
    "        if(tag == 'time' and attrs[0][0] == 'datetime' and self.date == \"\"):\n",
    "            self.date = attrs[0][1]\n",
    "        \n",
    "    def handle_endtag(self, tag):\n",
    "        self.grab_artists = False\n",
    "\n",
    "    def handle_data(self, data):\n",
    "        if(self.grab_artists == True):\n",
    "            self.artist_string = data\n",
    "    \n",
    "    def cleanArtists(self):\n",
    "        temp = self.artist_string.split(',')\n",
    "        for s in temp:\n",
    "            if('(' in s):\n",
    "                self.artists.append(s.split('(')[0])\n",
    "    \n",
    "    def getData(self):\n",
    "        self.cleanArtists()\n",
    "        return (self.artists, self.date)"
   ]
  },
  {
   "cell_type": "code",
   "execution_count": 6,
   "metadata": {
    "collapsed": false
   },
   "outputs": [
    {
     "name": "stdout",
     "output_type": "stream",
     "text": [
      "https://events.ch/en/Classic/Eglise/Verbier/Verbier-Festival/e-484526/\n",
      "https://events.ch/en/Rock-Indie-Punk-Heavy-Metal-Gothic/Bierhalle-Wolf/Z%C3%BCrich/Happy-Sound/e-489253/\n",
      "https://events.ch/en/Pop/Pal%C3%A9o/Nyon/Pal%C3%A9o-Festival/e-492482/\n",
      "https://events.ch/en/Rock-Indie-Punk-Heavy-Metal-Gothic/Pal%C3%A9o/Nyon/Pal%C3%A9o-Festival/e-492484/\n",
      "https://events.ch/en/Hip-Hop-R%27n%27B/Pal%C3%A9o/Nyon/Pal%C3%A9o-Festival/e-492485/\n",
      "https://events.ch/en/traditional/Kasernenareal/Basel/Basel-Tattoo/e-484477/\n",
      "https://events.ch/en/Rock-Indie-Punk-Heavy-Metal-Gothic/Usine/null/Colaris/e-493757/\n",
      "https://events.ch/en/Jazz-Blues-Soul/KKL/Luzern/Blue-Balls-Festival/e-484818/\n",
      "https://events.ch/en/Jazz-Blues-Soul/KKL/Luzern/Blue-Balls-Festival/e-484819/\n",
      "https://events.ch/en/Hip-Hop-R%27n%27B/Pavillon/Luzern/Blue-Balls-Festival/e-484823/\n",
      "[('Verbier', 'Verbier-Festival', '2015-07-23', ['Yekwon Sunwoo '], 'Classic'), ('Nyon', 'Paléo-Festival', '2015-07-23', ['Husbands '], 'Pop'), ('Nyon', 'Paléo-Festival', '2015-07-23', ['Pascals ', ' The Paradise Bangkok Molam International Band ', ' A Moving Sound '], None), ('Nyon', 'Paléo-Festival', '2015-07-23', ['Biga Ranx ', ' Chinese Man ', ' Anthony B ', ' Yaniss Odua '], None), ('Basel', 'Basel-Tattoo', '2015-07-23', ['Ailsa Craig Highland Dancers ', ' Blue Devils International Corps ', ' Celtic Stars Irish Dancers ', ' Fanfara 8° Reggimento Bersaglieri ', ' Imps Motorcycle Display Team '], 'traditional'), ('null', 'Colaris', '2015-07-23', ['Colaris '], None)]\n"
     ]
    }
   ],
   "source": [
    "parser = MainHTMLParser()\n",
    "parser.feed(page)\n",
    "print(parser.getData())"
   ]
  },
  {
   "cell_type": "code",
   "execution_count": 29,
   "metadata": {
    "collapsed": false
   },
   "outputs": [],
   "source": [
    "def getEventsForDates(eventType, startDate, maxPage=10):\n",
    "    data = []\n",
    "    base_url = \"https://events.ch/en/search\"\n",
    "    end_search = \"6/cs\"\n",
    "    tempData = []\n",
    "    page_number = 1\n",
    "    (startYear, startMonth, startDay) = startDate.split('-')\n",
    "    while(page_number <= maxPage):\n",
    "        querry_url = base_url + '/' + eventType + '/' + startDate + '/' + end_search + '/' + str(page_number)\n",
    "        page = urllib.request.urlopen(querry_url).read().decode('utf-8')\n",
    "        parser = MainHTMLParser()\n",
    "        parser.feed(page)\n",
    "        tempData = parser.getData()\n",
    "        for l in tempData:\n",
    "            (location, festival, date_string, artists, genre) = l\n",
    "            \"\"\"(currentYear, currentMonth, currentDay) = date_string.split('-')\n",
    "            if(len(tempData) <= 0 or page_number > maxPage or \\\n",
    "              (startYear <= currentYear and startMonth <= currentMonth and startDay < currentDay)):\n",
    "                return data\"\"\"\n",
    "            data = data + [(location, festival, date_string, artists, genre)]\n",
    "        print(\"page_number:\" + str(page_number))\n",
    "        page_number = page_number + 1\n",
    "    return data\n",
    "    \n",
    "    "
   ]
  },
  {
   "cell_type": "code",
   "execution_count": 28,
   "metadata": {
    "collapsed": false
   },
   "outputs": [
    {
     "name": "stdout",
     "output_type": "stream",
     "text": [
      "https://events.ch/en/world-music/Ono-Das-Kulturlokal/Bern/Einat-Betzalel-%26-Hakim-Boukhit/e-153066/\n",
      "https://events.ch/en/traditional/Bierhalle-Wolf/Z%C3%BCrich/Austria-Band/e-124424/\n",
      "https://events.ch/en/Classic/Kongress-und-Kulturzentrum-Rondo/Pontresina/Neujahrskonzert/e-123457/\n",
      "https://events.ch/en/Rock-Indie-Punk-Heavy-Metal-Gothic/Ice-Rock-Openair/Wasen-im-Emmental/Ice-Rock/e-128184/\n",
      "https://events.ch/en/Classic/Tonhalle/Z%C3%BCrich/Brillante-Neujahrs-Konzertgala/e-121681/\n",
      "https://events.ch/en/Jazz-Blues-Soul/Madeleine/Luzern/Salty-Dog-Blues-Band/e-133063/\n",
      "https://events.ch/en/Jazz-Blues-Soul/Madeleine/Luzern/Dewaser-%26-Pisotelero-Pepe/e-133065/\n",
      "https://events.ch/en/Jazz-Blues-Soul/Restaurant-Gr%C3%BCnwald/Z%C3%BCrich/Jazz-Happening/e-113561/\n",
      "https://events.ch/en/Ragga-Reggae-African-Music-Dancehall/Gare-de-Lion/Wil/Gare-Tango/e-125899/\n",
      "https://events.ch/en/traditional/Bierhalle-Wolf/Z%C3%BCrich/Austria-Band/e-124328/\n"
     ]
    }
   ],
   "source": [
    "data = getEventsForDates(\"concerts\", u\"2012-01-01\", 1)"
   ]
  },
  {
   "cell_type": "code",
   "execution_count": 9,
   "metadata": {
    "collapsed": false
   },
   "outputs": [],
   "source": [
    "import numpy as np\n",
    "import pandas as pd"
   ]
  },
  {
   "cell_type": "code",
   "execution_count": 26,
   "metadata": {
    "collapsed": false
   },
   "outputs": [],
   "source": [
    "df = pd.DataFrame(data, columns=['location', 'event', 'date', 'artists', 'genre'])"
   ]
  },
  {
   "cell_type": "code",
   "execution_count": 27,
   "metadata": {
    "collapsed": false
   },
   "outputs": [
    {
     "data": {
      "text/html": [
       "<div>\n",
       "<table border=\"1\" class=\"dataframe\">\n",
       "  <thead>\n",
       "    <tr style=\"text-align: right;\">\n",
       "      <th></th>\n",
       "      <th>location</th>\n",
       "      <th>event</th>\n",
       "      <th>date</th>\n",
       "      <th>artists</th>\n",
       "      <th>genre</th>\n",
       "    </tr>\n",
       "  </thead>\n",
       "  <tbody>\n",
       "    <tr>\n",
       "      <th>0</th>\n",
       "      <td>Thun</td>\n",
       "      <td>Neujahrskonzert</td>\n",
       "      <td>2016-01-01</td>\n",
       "      <td>[ Leticia Kahraman ,  Marysol Schalit ,  Mikhe...</td>\n",
       "      <td>Classic</td>\n",
       "    </tr>\n",
       "    <tr>\n",
       "      <th>1</th>\n",
       "      <td>Luzern</td>\n",
       "      <td>Tanti-affeti-Neujahrskonzert</td>\n",
       "      <td>2016-01-01</td>\n",
       "      <td>[Julia Lezhneva ,  Mikhail Anonenko ]</td>\n",
       "      <td>Classic</td>\n",
       "    </tr>\n",
       "    <tr>\n",
       "      <th>2</th>\n",
       "      <td>Bern</td>\n",
       "      <td>Neujahrskonzert</td>\n",
       "      <td>2016-01-01</td>\n",
       "      <td>[ Svetlana Ignatovich ,  Marie-Claude Chappuis...</td>\n",
       "      <td>Classic</td>\n",
       "    </tr>\n",
       "  </tbody>\n",
       "</table>\n",
       "</div>"
      ],
      "text/plain": [
       "  location                         event        date  \\\n",
       "0     Thun               Neujahrskonzert  2016-01-01   \n",
       "1   Luzern  Tanti-affeti-Neujahrskonzert  2016-01-01   \n",
       "2     Bern               Neujahrskonzert  2016-01-01   \n",
       "\n",
       "                                             artists    genre  \n",
       "0  [ Leticia Kahraman ,  Marysol Schalit ,  Mikhe...  Classic  \n",
       "1              [Julia Lezhneva ,  Mikhail Anonenko ]  Classic  \n",
       "2  [ Svetlana Ignatovich ,  Marie-Claude Chappuis...  Classic  "
      ]
     },
     "execution_count": 27,
     "metadata": {},
     "output_type": "execute_result"
    }
   ],
   "source": [
    "df"
   ]
  }
 ],
 "metadata": {
  "kernelspec": {
   "display_name": "Python 3",
   "language": "python",
   "name": "python3"
  },
  "language_info": {
   "codemirror_mode": {
    "name": "ipython",
    "version": 3
   },
   "file_extension": ".py",
   "mimetype": "text/x-python",
   "name": "python",
   "nbconvert_exporter": "python",
   "pygments_lexer": "ipython3",
   "version": "3.5.2+"
  }
 },
 "nbformat": 4,
 "nbformat_minor": 1
}
