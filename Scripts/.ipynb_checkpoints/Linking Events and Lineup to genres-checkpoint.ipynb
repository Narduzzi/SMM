{
 "cells": [
  {
   "cell_type": "markdown",
   "metadata": {},
   "source": [
    "## Here is the code for linking each event with it's main genre"
   ]
  },
  {
   "cell_type": "code",
   "execution_count": 143,
   "metadata": {
    "collapsed": true
   },
   "outputs": [],
   "source": [
    "import numpy as np\n",
    "import ArtistExtractor as AE\n",
    "import pandas as pd\n",
    "import glob\n",
    "import os\n",
    "import LocationUtils as LU\n",
    "from ExtractGenreClubs import SplitLineup\n",
    "from ast import literal_eval\n",
    "import logging\n"
   ]
  },
  {
   "cell_type": "code",
   "execution_count": 144,
   "metadata": {
    "collapsed": false
   },
   "outputs": [],
   "source": [
    "def printToLog(str,filename=\"Log/ArtistAndEventGenre_merging.txt\"):\n",
    "    f = open(filename)\n",
    "    lines = f.readlines()\n",
    "    \n",
    "    print(lines)"
   ]
  },
  {
   "cell_type": "code",
   "execution_count": 145,
   "metadata": {
    "collapsed": false
   },
   "outputs": [],
   "source": [
    "def mergeEventsWithGenres(eventsdf_filename,artists_filename,dictionnaryOfGenres_filename,str_saveTo):\n",
    "    events = pd.read_csv(eventsdf_filename, encoding=\"utf-8\")\n",
    "    artists = pd.read_csv(artists_filename, encoding=\"utf-8\")\n",
    "    dictionnaryOfGenres = LU.loadDictionary(dictionnaryOfGenres_filename,enc=\"utf-8\")\n",
    "    \n",
    "    dataframe_merged = events.copy()\n",
    "   \n",
    "    i =0\n",
    "    \n",
    "    logging.basicConfig(filename='LOG/merging_events_and_artists.log',level=logging.DEBUG)\n",
    "    \n",
    "    \n",
    "    for id, row in dataframe_merged.iterrows():\n",
    "        logging.info(\"-------------------------------\")\n",
    "        i+=1\n",
    "        if(i%1000==0):\n",
    "            print(i)\n",
    "            #Saving actual state\n",
    "            artists.to_csv(artists_filename.replace(\".csv\",\"_merged.csv\"))\n",
    "            events.to_csv(eventsdf_filename.replace(\".csv\",\"_merged.csv\"))\n",
    "        \n",
    "        #getting genre\n",
    "        genre = str(row[\"genre\"])\n",
    "        #getting artist\n",
    "        lineup = literal_eval(row[\"artists\"])\n",
    "        logging.info(lineup)\n",
    "        \n",
    "        #looking for corresponding genre in dictionnary:\n",
    "        maingenre = dictionnaryOfGenres.get(genre.lower())\n",
    "\n",
    "        logging.info(\"event genre is: \"+str(genre)+\"->\"+str(maingenre))\n",
    "\n",
    "        maxGenre = None\n",
    "        #check if artists has a genre to complete artists database\n",
    "        if(maingenre!=\"None\" and maingenre!=None and maingenre in dictionnaryOfGenres):\n",
    "            for a in lineup:\n",
    "                \n",
    "                #Getting value\n",
    "                vals = artists[artists[\"artist\"] == a.strip()][\"genre\"].values\n",
    "                genre_artist = \"None\"\n",
    "                if(len(vals)>0):\n",
    "                    genre_artist = str(vals[0])\n",
    "                    \n",
    "                #Setting artist genre\n",
    "                if(genre_artist==\"nan\" or genre_artist==\"None\"):\n",
    "                    #set genre of artist to genre of event and convert genre in dataframe\n",
    "                    artists.loc[artists[\"artist\"] == a.strip(),\"genre\"] = maingenre.lower()\n",
    "                    maxGenre = maingenre.lower()\n",
    "                    logging.info(str(a)+\"<-\"+maingenre.lower())\n",
    "        \n",
    "        genres_in_lineup = []\n",
    "        \n",
    "        for a in lineup:\n",
    "            \n",
    "            #Getting value\n",
    "            vals = artists[artists[\"artist\"] == a.strip()][\"genre\"].values\n",
    "            genre_artist = \"None\"\n",
    "            if(len(vals)>0):\n",
    "                genre_artist = str(vals[0])\n",
    "                \n",
    "            #Getting corresponding maingenre for this artist   \n",
    "            if(genre_artist!=\"nan\" and genre_artist!=\"None\" and genre_artist!=None):\n",
    "                genres_in_lineup.append(genre_artist)\n",
    "            \n",
    "        #getting most representative genre among all artists\n",
    "        maxGenre = AE.getMaxGenre(genres_in_lineup)\n",
    "        \n",
    "        #If an artist has a genre, then we set the genre of event to this artist genre\n",
    "        if(maxGenre!=None):\n",
    "            logging.info(\"From lineup : \"+str(genres_in_lineup)+\"->\"+str(maxGenre[0]))\n",
    "            if(maxGenre[0] in dictionnaryOfGenres):\n",
    "                events.loc[id,\"genre\"] = maxGenre[0].lower()\n",
    "            else:\n",
    "                #Not in dictionnary\n",
    "                events.loc[id,\"genre\"] = None\n",
    "        else:\n",
    "            events.loc[id,\"genre\"] = None\n",
    "            \n",
    "    artists.to_csv(artists_filename.replace(\".csv\",\"_merged.csv\"))\n",
    "    events.to_csv(eventsdf_filename.replace(\".csv\",\"_merged.csv\"))\n",
    "    return events"
   ]
  },
  {
   "cell_type": "code",
   "execution_count": null,
   "metadata": {
    "collapsed": false
   },
   "outputs": [
    {
     "name": "stdout",
     "output_type": "stream",
     "text": [
      "1000\n",
      "2000\n",
      "3000\n",
      "4000\n",
      "5000\n",
      "6000\n",
      "7000\n",
      "8000\n",
      "9000\n",
      "10000\n",
      "11000\n",
      "12000\n",
      "13000\n",
      "14000\n",
      "15000\n",
      "16000\n",
      "17000\n",
      "18000\n",
      "19000\n",
      "20000\n",
      "21000\n",
      "22000\n",
      "23000\n",
      "24000\n",
      "25000\n",
      "26000\n",
      "27000\n",
      "28000\n",
      "29000\n",
      "30000\n",
      "31000\n",
      "32000\n",
      "33000\n",
      "34000\n"
     ]
    }
   ],
   "source": [
    "eventsdf_filename = \"FullData/EventsAndClubs.csv\"\n",
    "artists_filename = \"FullData/ArtistDF_withGenres.csv\"\n",
    "dictionnaryOfGenres_filename = \"FullData/AllGenresDic\"\n",
    "\n",
    "mergeEventsWithGenres(eventsdf_filename,artists_filename,dictionnaryOfGenres_filename,\"SavedMerged.csv\")"
   ]
  },
  {
   "cell_type": "code",
   "execution_count": null,
   "metadata": {
    "collapsed": true
   },
   "outputs": [],
   "source": []
  },
  {
   "cell_type": "code",
   "execution_count": null,
   "metadata": {
    "collapsed": true
   },
   "outputs": [],
   "source": []
  }
 ],
 "metadata": {
  "anaconda-cloud": {},
  "kernelspec": {
   "display_name": "Python [Root]",
   "language": "python",
   "name": "Python [Root]"
  },
  "language_info": {
   "codemirror_mode": {
    "name": "ipython",
    "version": 3
   },
   "file_extension": ".py",
   "mimetype": "text/x-python",
   "name": "python",
   "nbconvert_exporter": "python",
   "pygments_lexer": "ipython3",
   "version": "3.5.2"
  }
 },
 "nbformat": 4,
 "nbformat_minor": 0
}
