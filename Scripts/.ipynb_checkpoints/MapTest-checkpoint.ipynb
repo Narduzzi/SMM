{
 "cells": [
  {
   "cell_type": "markdown",
   "metadata": {},
   "source": [
    "# Plotting the Map of the clubs"
   ]
  },
  {
   "cell_type": "code",
   "execution_count": 66,
   "metadata": {
    "collapsed": true
   },
   "outputs": [],
   "source": [
    "import pandas as pd\n",
    "import numpy as np\n",
    "import folium\n",
    "import matplotlib.pyplot as plt"
   ]
  },
  {
   "cell_type": "code",
   "execution_count": 24,
   "metadata": {
    "collapsed": false
   },
   "outputs": [
    {
     "name": "stderr",
     "output_type": "stream",
     "text": [
      "C:\\Users\\Simon\\Anaconda3\\lib\\site-packages\\ipykernel\\__main__.py:9: SettingWithCopyWarning: \n",
      "A value is trying to be set on a copy of a slice from a DataFrame.\n",
      "Try using .loc[row_indexer,col_indexer] = value instead\n",
      "\n",
      "See the caveats in the documentation: http://pandas.pydata.org/pandas-docs/stable/indexing.html#indexing-view-versus-copy\n"
     ]
    },
    {
     "data": {
      "text/plain": [
       "'1993'"
      ]
     },
     "execution_count": 24,
     "metadata": {},
     "output_type": "execute_result"
    }
   ],
   "source": [
    "ClubDataFrame = pd.read_csv(\"ClubDataGeo/ClubDataFrame.csv\", encoding='utf-8')\n",
    "\n",
    "#Drop Useless columns\n",
    "ClubDataFrame = ClubDataFrame.drop('Unnamed: 0', 1)\n",
    "ClubDataFrame = ClubDataFrame.drop_duplicates()\n",
    "GeoPoints = ClubDataFrame[[\"ClubID\",\"ClubName\",\"Location\",\"Date\"]]\n",
    "\n",
    "parseDate = (lambda x : x.split(\"-\")[0])\n",
    "GeoPoints[\"Year\"] = GeoPoints[\"Date\"].apply(parseDate)\n",
    "GeoPoints = GeoPoints.drop_duplicates()\n",
    "GeoPoints.head(5)\n",
    "GeoPoints.Year.min()"
   ]
  },
  {
   "cell_type": "markdown",
   "metadata": {},
   "source": [
    "## BaseMap"
   ]
  },
  {
   "cell_type": "code",
   "execution_count": 3,
   "metadata": {
    "collapsed": false
   },
   "outputs": [],
   "source": [
    "# Get a basic world map.\n",
    "clubs_map = folium.Map(location=[46.7, 8], zoom_start=8)\n",
    "#Add layer\n",
    "t = folium.TileLayer('cartodbdark_matter')\n",
    "clubs_map.add_child(t)\n",
    "\n",
    "def updateClubForYear(clubs_map, year):\n",
    "    \n",
    "    '''# Get a basic world map.\n",
    "    clubs_map = folium.Map(location=[46.7, 8], zoom_start=8)\n",
    "    #Add layer\n",
    "    t = folium.TileLayer('cartodbdark_matter')\n",
    "    clubs_map.add_child(t)\n",
    "    '''\n",
    "    \n",
    "    #Select clubs by year\n",
    "    ClubThisYear = GeoPoints[GeoPoints.Year==str(year)]\n",
    "    ClubThisYear = ClubThisYear[[\"ClubName\",\"Location\"]]\n",
    "    ClubThisYear = ClubThisYear.drop_duplicates()\n",
    "    \n",
    "    for id,row in ClubThisYear.iterrows():\n",
    "        loc = row[\"Location\"].replace(\"(\",\"\").replace(\")\",\"\").split(\",\")\n",
    "        name = row[\"ClubName\"]\n",
    "        if(loc[0]!='None'):\n",
    "            lat = float(loc[0])\n",
    "            lng = float(loc[1])\n",
    "            c = folium.CircleMarker(location=[lat, lng], radius = 30, popup=name,color=\"red\")\n",
    "            clubs_map.add_children(c)\n",
    "            \n",
    "    return clubs_map"
   ]
  },
  {
   "cell_type": "code",
   "execution_count": 44,
   "metadata": {
    "collapsed": false
   },
   "outputs": [
    {
     "name": "stdout",
     "output_type": "stream",
     "text": [
      "1990\n",
      "1991\n",
      "1992\n",
      "1993\n",
      "1994\n",
      "1995\n",
      "1996\n",
      "1997\n",
      "1998\n",
      "1999\n",
      "2000\n",
      "2001\n",
      "2002\n",
      "2003\n",
      "2004\n",
      "2005\n",
      "2006\n",
      "2007\n",
      "2008\n",
      "2009\n",
      "2010\n",
      "2011\n",
      "2012\n",
      "2013\n",
      "2014\n",
      "2015\n"
     ]
    }
   ],
   "source": [
    "foliumDir = \"Folium/\"\n",
    "\n",
    "clubs_map = folium.Map(location=[46.7, 8], zoom_start=8,tiles='cartodbdark_matter')    \n",
    "#Add layer\n",
    "#t = folium.TileLayer('cartodbdark_matter')\n",
    "#clubs_map.add_child(t)\n",
    "\n",
    "for i in range(1990,2016):\n",
    "    print(i)\n",
    "    clubs_map = updateClubForYear(clubs_map,i)\n",
    "    path = foliumDir+\"Map\"+str(i)+\".html\"\n",
    "    clubs_map.save(path)"
   ]
  },
  {
   "cell_type": "code",
   "execution_count": 76,
   "metadata": {
    "collapsed": false
   },
   "outputs": [
    {
     "data": {
      "text/plain": [
       "True"
      ]
     },
     "execution_count": 76,
     "metadata": {},
     "output_type": "execute_result"
    }
   ],
   "source": [
    "from IPython.core.display import HTML,display\n",
    "import os\n",
    "filename=str(os.getcwd())+'/Folium/Map2000.html'\n",
    "webbrowser.open_new_tab(filename)"
   ]
  },
  {
   "cell_type": "code",
   "execution_count": null,
   "metadata": {
    "collapsed": false
   },
   "outputs": [],
   "source": [
    "s = Slider\n",
    "clubs_map.add_child(sl)"
   ]
  },
  {
   "cell_type": "code",
   "execution_count": null,
   "metadata": {
    "collapsed": true
   },
   "outputs": [],
   "source": []
  },
  {
   "cell_type": "code",
   "execution_count": null,
   "metadata": {
    "collapsed": true
   },
   "outputs": [],
   "source": []
  }
 ],
 "metadata": {
  "anaconda-cloud": {},
  "kernelspec": {
   "display_name": "Python [Root]",
   "language": "python",
   "name": "Python [Root]"
  },
  "language_info": {
   "codemirror_mode": {
    "name": "ipython",
    "version": 3
   },
   "file_extension": ".py",
   "mimetype": "text/x-python",
   "name": "python",
   "nbconvert_exporter": "python",
   "pygments_lexer": "ipython3",
   "version": "3.5.2"
  }
 },
 "nbformat": 4,
 "nbformat_minor": 0
}
