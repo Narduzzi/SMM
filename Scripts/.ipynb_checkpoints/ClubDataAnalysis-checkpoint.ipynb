{
 "cells": [
  {
   "cell_type": "code",
   "execution_count": 14,
   "metadata": {
    "collapsed": true
   },
   "outputs": [],
   "source": [
    "import numpy as np\n",
    "import pandas as pd\n",
    "import matplotlib.pyplot as plt\n",
    "import collections"
   ]
  },
  {
   "cell_type": "markdown",
   "metadata": {},
   "source": [
    "# Analysing the data of Resident Advisor"
   ]
  },
  {
   "cell_type": "code",
   "execution_count": 13,
   "metadata": {
    "collapsed": false
   },
   "outputs": [
    {
     "data": {
      "text/html": [
       "<div>\n",
       "<table border=\"1\" class=\"dataframe\">\n",
       "  <thead>\n",
       "    <tr style=\"text-align: right;\">\n",
       "      <th></th>\n",
       "      <th>Unnamed: 0</th>\n",
       "      <th>ClubID</th>\n",
       "      <th>ClubName</th>\n",
       "      <th>Address</th>\n",
       "      <th>EventID</th>\n",
       "      <th>EventName</th>\n",
       "      <th>Date</th>\n",
       "      <th>LineUp</th>\n",
       "      <th>Genre</th>\n",
       "      <th>All Genres</th>\n",
       "    </tr>\n",
       "  </thead>\n",
       "  <tbody>\n",
       "    <tr>\n",
       "      <th>0</th>\n",
       "      <td>0</td>\n",
       "      <td>100121.0</td>\n",
       "      <td>Cyclo Café</td>\n",
       "      <td>Boulevard de Pérolles 91, Fribourg</td>\n",
       "      <td>707619.0</td>\n",
       "      <td>Light My Fridays: with Ariane Effect, DJ H-ERA...</td>\n",
       "      <td>10 April 2015</td>\n",
       "      <td>['DJ HERA', 'Ariane Effect', 'Chris Ahn']</td>\n",
       "      <td>techno</td>\n",
       "      <td>['None', 'techno', 'techno']</td>\n",
       "    </tr>\n",
       "    <tr>\n",
       "      <th>1</th>\n",
       "      <td>1</td>\n",
       "      <td>100121.0</td>\n",
       "      <td>Cyclo Café</td>\n",
       "      <td>Boulevard de Pérolles 91, Fribourg</td>\n",
       "      <td>673119.0</td>\n",
       "      <td>Chris Ahn's 4AM Mixtape - Ep. 4</td>\n",
       "      <td>14 November 2014</td>\n",
       "      <td>['Chris Ahn']</td>\n",
       "      <td>techno</td>\n",
       "      <td>['techno']</td>\n",
       "    </tr>\n",
       "    <tr>\n",
       "      <th>2</th>\n",
       "      <td>2</td>\n",
       "      <td>100121.0</td>\n",
       "      <td>Cyclo Café</td>\n",
       "      <td>Boulevard de Pérolles 91, Fribourg</td>\n",
       "      <td>672938.0</td>\n",
       "      <td>Chris Ahn's 4AM Mixtape - Episode 1</td>\n",
       "      <td>16 May 2014</td>\n",
       "      <td>['Chris Ahn']</td>\n",
       "      <td>techno</td>\n",
       "      <td>['techno']</td>\n",
       "    </tr>\n",
       "    <tr>\n",
       "      <th>3</th>\n",
       "      <td>3</td>\n",
       "      <td>100121.0</td>\n",
       "      <td>Cyclo Café</td>\n",
       "      <td>Boulevard de Pérolles 91, Fribourg</td>\n",
       "      <td>707619.0</td>\n",
       "      <td>Light My Fridays: with Ariane Effect, DJ H-ERA...</td>\n",
       "      <td>10 April 2015</td>\n",
       "      <td>['DJ HERA', 'Ariane Effect', 'Chris Ahn']</td>\n",
       "      <td>techno</td>\n",
       "      <td>['None', 'techno', 'techno']</td>\n",
       "    </tr>\n",
       "  </tbody>\n",
       "</table>\n",
       "</div>"
      ],
      "text/plain": [
       "   Unnamed: 0    ClubID     ClubName                             Address  \\\n",
       "0           0  100121.0   Cyclo Café  Boulevard de Pérolles 91, Fribourg   \n",
       "1           1  100121.0   Cyclo Café  Boulevard de Pérolles 91, Fribourg   \n",
       "2           2  100121.0   Cyclo Café  Boulevard de Pérolles 91, Fribourg   \n",
       "3           3  100121.0   Cyclo Café  Boulevard de Pérolles 91, Fribourg   \n",
       "\n",
       "    EventID                                          EventName  \\\n",
       "0  707619.0  Light My Fridays: with Ariane Effect, DJ H-ERA...   \n",
       "1  673119.0                    Chris Ahn's 4AM Mixtape - Ep. 4   \n",
       "2  672938.0                Chris Ahn's 4AM Mixtape - Episode 1   \n",
       "3  707619.0  Light My Fridays: with Ariane Effect, DJ H-ERA...   \n",
       "\n",
       "                 Date                                     LineUp   Genre  \\\n",
       "0      10 April 2015   ['DJ HERA', 'Ariane Effect', 'Chris Ahn']  techno   \n",
       "1   14 November 2014                               ['Chris Ahn']  techno   \n",
       "2        16 May 2014                               ['Chris Ahn']  techno   \n",
       "3      10 April 2015   ['DJ HERA', 'Ariane Effect', 'Chris Ahn']  techno   \n",
       "\n",
       "                     All Genres  \n",
       "0  ['None', 'techno', 'techno']  \n",
       "1                    ['techno']  \n",
       "2                    ['techno']  \n",
       "3  ['None', 'techno', 'techno']  "
      ]
     },
     "execution_count": 13,
     "metadata": {},
     "output_type": "execute_result"
    }
   ],
   "source": [
    "Data = pd.read_csv(\"ClubData/EventsWithGenre.csv\",encoding=\"UTF-8\")\n",
    "Data.head(4)"
   ]
  },
  {
   "cell_type": "markdown",
   "metadata": {},
   "source": [
    "## Analysis of genres"
   ]
  },
  {
   "cell_type": "code",
   "execution_count": 17,
   "metadata": {
    "collapsed": false
   },
   "outputs": [
    {
     "ename": "ValueError",
     "evalue": "object of too small depth for desired array",
     "output_type": "error",
     "traceback": [
      "\u001b[1;31m---------------------------------------------------------------------------\u001b[0m",
      "\u001b[1;31mValueError\u001b[0m                                Traceback (most recent call last)",
      "\u001b[1;32m<ipython-input-17-8001cf710161>\u001b[0m in \u001b[0;36m<module>\u001b[1;34m()\u001b[0m\n\u001b[0;32m      1\u001b[0m \u001b[0mEventsGenre\u001b[0m \u001b[1;33m=\u001b[0m \u001b[0mData\u001b[0m\u001b[1;33m[\u001b[0m\u001b[1;34m\"Genre\"\u001b[0m\u001b[1;33m]\u001b[0m\u001b[1;33m.\u001b[0m\u001b[0mvalues\u001b[0m\u001b[1;33m\u001b[0m\u001b[0m\n\u001b[1;32m----> 2\u001b[1;33m \u001b[0mgbars\u001b[0m \u001b[1;33m=\u001b[0m \u001b[0mdict\u001b[0m\u001b[1;33m(\u001b[0m\u001b[1;33m(\u001b[0m\u001b[0mx\u001b[0m\u001b[1;33m,\u001b[0m \u001b[0mnp\u001b[0m\u001b[1;33m.\u001b[0m\u001b[0mbincount\u001b[0m\u001b[1;33m(\u001b[0m\u001b[0mx\u001b[0m\u001b[1;33m)\u001b[0m\u001b[1;33m)\u001b[0m \u001b[1;32mfor\u001b[0m \u001b[0mx\u001b[0m \u001b[1;32min\u001b[0m \u001b[0mEventsGenre\u001b[0m\u001b[1;33m)\u001b[0m\u001b[1;33m\u001b[0m\u001b[0m\n\u001b[0m\u001b[0;32m      3\u001b[0m \u001b[0mplt\u001b[0m\u001b[1;33m.\u001b[0m\u001b[0mplot\u001b[0m\u001b[1;33m(\u001b[0m\u001b[0mgbars\u001b[0m\u001b[1;33m)\u001b[0m\u001b[1;33m\u001b[0m\u001b[0m\n",
      "\u001b[1;32m<ipython-input-17-8001cf710161>\u001b[0m in \u001b[0;36m<genexpr>\u001b[1;34m(.0)\u001b[0m\n\u001b[0;32m      1\u001b[0m \u001b[0mEventsGenre\u001b[0m \u001b[1;33m=\u001b[0m \u001b[0mData\u001b[0m\u001b[1;33m[\u001b[0m\u001b[1;34m\"Genre\"\u001b[0m\u001b[1;33m]\u001b[0m\u001b[1;33m.\u001b[0m\u001b[0mvalues\u001b[0m\u001b[1;33m\u001b[0m\u001b[0m\n\u001b[1;32m----> 2\u001b[1;33m \u001b[0mgbars\u001b[0m \u001b[1;33m=\u001b[0m \u001b[0mdict\u001b[0m\u001b[1;33m(\u001b[0m\u001b[1;33m(\u001b[0m\u001b[0mx\u001b[0m\u001b[1;33m,\u001b[0m \u001b[0mnp\u001b[0m\u001b[1;33m.\u001b[0m\u001b[0mbincount\u001b[0m\u001b[1;33m(\u001b[0m\u001b[0mx\u001b[0m\u001b[1;33m)\u001b[0m\u001b[1;33m)\u001b[0m \u001b[1;32mfor\u001b[0m \u001b[0mx\u001b[0m \u001b[1;32min\u001b[0m \u001b[0mEventsGenre\u001b[0m\u001b[1;33m)\u001b[0m\u001b[1;33m\u001b[0m\u001b[0m\n\u001b[0m\u001b[0;32m      3\u001b[0m \u001b[0mplt\u001b[0m\u001b[1;33m.\u001b[0m\u001b[0mplot\u001b[0m\u001b[1;33m(\u001b[0m\u001b[0mgbars\u001b[0m\u001b[1;33m)\u001b[0m\u001b[1;33m\u001b[0m\u001b[0m\n",
      "\u001b[1;31mValueError\u001b[0m: object of too small depth for desired array"
     ]
    }
   ],
   "source": [
    "EventsGenre = Data[\"Genre\"].values\n",
    "gbars = collection."
   ]
  },
  {
   "cell_type": "code",
   "execution_count": null,
   "metadata": {
    "collapsed": true
   },
   "outputs": [],
   "source": []
  }
 ],
 "metadata": {
  "kernelspec": {
   "display_name": "Python [Root]",
   "language": "python",
   "name": "Python [Root]"
  },
  "language_info": {
   "codemirror_mode": {
    "name": "ipython",
    "version": 3
   },
   "file_extension": ".py",
   "mimetype": "text/x-python",
   "name": "python",
   "nbconvert_exporter": "python",
   "pygments_lexer": "ipython3",
   "version": "3.5.2"
  }
 },
 "nbformat": 4,
 "nbformat_minor": 0
}
