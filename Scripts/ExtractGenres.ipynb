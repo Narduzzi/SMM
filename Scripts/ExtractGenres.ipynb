{
 "cells": [
  {
   "cell_type": "code",
   "execution_count": 1,
   "metadata": {
    "collapsed": true
   },
   "outputs": [],
   "source": [
    "import numpy as np\n",
    "import ArtistExtractor as AE\n",
    "import pandas as pd\n",
    "import glob\n",
    "import os"
   ]
  },
  {
   "cell_type": "code",
   "execution_count": 91,
   "metadata": {
    "collapsed": false,
    "scrolled": true
   },
   "outputs": [
    {
     "name": "stdout",
     "output_type": "stream",
     "text": [
      "1312\n",
      "(10069, 7)\n"
     ]
    },
    {
     "data": {
      "text/plain": [
       "0               ['DJ H.ERA', 'Ariane Effect', 'Chris Ahn']\n",
       "1                                            ['Chris Ahn']\n",
       "2                                            ['Chris Ahn']\n",
       "3               ['DJ H.ERA', 'Ariane Effect', 'Chris Ahn']\n",
       "4                                            ['Chris Ahn']\n",
       "5                                            ['Chris Ahn']\n",
       "6        ['', ' New Order) >>>Andrew Weatherall (Two Lo...\n",
       "7                                             ['Lemonick']\n",
       "8                                         ['Jamie Lidell']\n",
       "9              ['Dj Never Die', 'Jack Demon', 'Vitronic ']\n",
       "10       [' Christian Elefante', ' Emre', ' Valentin', ...\n",
       "11       [' Beppe Loda (Invisible City Editions)', ' Of...\n",
       "12       ['Lexx (ESP Institute', ' Permanent Vacation',...\n",
       "13       ['Jan Schulte', ' El Tigre Sound (zweikommasie...\n",
       "14                                              ['Khidja']\n",
       "15            [\"Marc D'Arrigo\", 'Herman', 'Daniele Cosmo']\n",
       "16       ['Kaan Düzarat (FOC Edits/Istanbul)', ' Mehmet...\n",
       "17            ['Dave Eleanor', 'Lord Kesseli & The Drums']\n",
       "18       [' DJ Aunt One & Napoleton (Talen/Laserwolf)',...\n",
       "19       ['Alma Negra (Sofrito', ' Basic Fingers', ' Hi...\n",
       "20       ['Lexx (Permanent Vacation)', ' Kejeblos (Phan...\n",
       "21                   [' Cosmo & Faber', 'Cold Colors (F)']\n",
       "22       [' Tako & Jamie Tiller (Redlight Records', ' L...\n",
       "23               ['DJ P-Tess', ' Faust (Bass Vandalizm).']\n",
       "24       [' Daniele Cosmo', ' Fabio Riccio', 'Aurora Ha...\n",
       "25       [' Raban', ' Oscar Schubaq', \" T'N'T\", ' Licht...\n",
       "26       ['Twoets', 'LIVE: Alessandro Parisi (I)', 'D C...\n",
       "27       ['James Pants (Stones Throw/USA)', 'J. Sayne (...\n",
       "28                [' Malik', 'MTDF', ' Das Pferd  (live)']\n",
       "29              ['', 'CCO', 'Echo 106', 'D Cosmo & Faber']\n",
       "                               ...                        \n",
       "10039                             ['SpaceK', 'Funky Chap']\n",
       "10040                                         ['DJ Mateo']\n",
       "10041                           ['Funky Chap', 'Space K ']\n",
       "10042                      ['Cool Tigers', ' Svensk Fisk']\n",
       "10043                                      ['Cool Tigers']\n",
       "10044                         ['\"Funky Chap', ' Space K\"']\n",
       "10045         ['Philipp Weibel', 'Garçon', 'Simon Lemont']\n",
       "10046    ['Simon Lemont (Pitch Black / SENSE)', 'Philip...\n",
       "10047    ['Philipp Weibel (Pitch Black', 'Simon Lemont ...\n",
       "10048            ['Morard', 'Idealist (Idealistmusic zH)']\n",
       "10049    ['', 'Peter Stoffel & Cobeia > Electronic boog...\n",
       "10050      [' Ghoster', 'Dejan', ' Ata', ' Selim & Armin']\n",
       "10051    [' Phil Riss & Ali C', ' P.A.S.K', ' Pazkal', ...\n",
       "10052                                [' Salar', 'Christo']\n",
       "10053                      [' Christo...', 'Andrea Oliva']\n",
       "10054                               ['Scrap & Jimi Jules']\n",
       "10055    [' Stereo Riders & DJ Big B', 'DJ Tonic & DJ T...\n",
       "10056    [' Ramin', ' Daitan', ' Dottore', 'Dj Style', ...\n",
       "10057    ['Gigi LP', 'DJ Never', 'Nelson Garcia', 'Ilar...\n",
       "10058          ['Alex Kennon', 'Marco Faraone', 'Cirillo']\n",
       "10059    ['Kenny Ground b2b Ivan Alvarez', 'Edison Cabr...\n",
       "10060    ['Ivan Alvarez b2b Kenny Ground', 'Cuartero (d...\n",
       "10061                                             ['Yaya']\n",
       "10062    ['( Detroit - Visionquest )', '', '( Overless ...\n",
       "10063    ['', 'ivan alvarez', 'Gianni Callipari', 'edis...\n",
       "10064         ['Dan Noël', 'Maickel Esse', 'Extrastunden']\n",
       "10065    ['Le Horla ', 'CMYK (GE', 'Cruz Jr (BE', 'Goya...\n",
       "10066    ['Journée Standard (Genf) : live', ' Elvira (H...\n",
       "10067    ['Krassen Krastev (ch) : performance', 'STAVA ...\n",
       "10068    ['Lain (Berlin) : (dj set) + Vj set', 'Maciek ...\n",
       "Name: LineUp, dtype: object"
      ]
     },
     "execution_count": 91,
     "metadata": {},
     "output_type": "execute_result"
    }
   ],
   "source": [
    "files = []\n",
    "files = glob.glob(\"ClubData0/*.csv\")+glob.glob(\"ClubData1/*.csv\")+glob.glob(\"ClubData2/*.csv\")+glob.glob(\"ClubData3/*.csv\")\n",
    "print(len(files))\n",
    "ClubDataFrame = pd.read_csv(files[0],sep=\"\\t\")\n",
    "\n",
    "for file in files:\n",
    "    df= pd.read_csv(file,sep =\"\\t\")\n",
    "    ClubDataFrame = ClubDataFrame.append(df,ignore_index = True)\n",
    "\n",
    "#Drop Useless columns\n",
    "ClubDataFrame = ClubDataFrame.drop('Unnamed: 0', 1)\n",
    "ClubDataFrame.reset_index()\n",
    "print(ClubDataFrame.shape)\n",
    "ClubDataFrame[\"LineUp\"]"
   ]
  },
  {
   "cell_type": "code",
   "execution_count": 92,
   "metadata": {
    "collapsed": false
   },
   "outputs": [],
   "source": [
    "def SplitLineup(st):\n",
    "    cleaned = \"\"\n",
    "    for i in st:\n",
    "        if(i.isalnum() or i==\" \" or i==\",\" or i == \"(\" or i==\")\" or i == \"&\"):\n",
    "            cleaned+=i\n",
    "    clean_lineup = cleaned.split(\",\")\n",
    "    artists = []\n",
    "    for a in clean_lineup:\n",
    "        a = dropLabel(a)\n",
    "        artists.append(a.strip())\n",
    "    \n",
    "    return artists\n",
    "\n",
    "def dropLabel(artist):\n",
    "    a = \"\"\n",
    "    for i in artist :\n",
    "        if(i==\"(\"):\n",
    "            break\n",
    "        a+=i\n",
    "    return a "
   ]
  },
  {
   "cell_type": "markdown",
   "metadata": {},
   "source": [
    "## Creating dataframe of artists"
   ]
  },
  {
   "cell_type": "code",
   "execution_count": 94,
   "metadata": {
    "collapsed": false
   },
   "outputs": [
    {
     "name": "stdout",
     "output_type": "stream",
     "text": [
      "10\n",
      "20\n"
     ]
    }
   ],
   "source": [
    "ArtistsSet = set()\n",
    "ArtistDicoMain = dict()\n",
    "ArtistDicoAll = dict()\n",
    "\n",
    "ClubDataFrame[\"Genre\"] = None\n",
    "ClubDataFrame[\"All Genres\"] = None\n",
    "\n",
    "print(\"Retrieving genre over \" +str(ClubDataFrame.shape)+\" events:\")\n",
    "\n",
    "for id,row in ClubDataFrame.iterrows():\n",
    "    genres = []\n",
    "    lineup = row[\"LineUp\"]\n",
    "    artists = SplitLineup(lineup)\n",
    "\n",
    "    for artist in artists:\n",
    "        mainGenre = None\n",
    "        allGenres = None\n",
    "        \n",
    "        if(artist in ArtistsSet):\n",
    "            mainGenre = ArtistDicoMain.get(artist)\n",
    "            allGenres = ArtistDicoAll.get(artist)\n",
    "        else:\n",
    "            #Updating dictionnaries\n",
    "            ArtistsSet.add(artist)\n",
    "            allGenres = AE.getGenre(artist,ReturnAllGenres=True)\n",
    "            mainGenre = AE.getMaxGenre(allGenres)\n",
    "            ArtistDicoMain.update({artist : mainGenre})\n",
    "            ArtistDicoAll.update({artist : allGenres})\n",
    "        \n",
    "        #Adding to LineUp genres\n",
    "        genres.append(mainGenre) \n",
    "        \n",
    "            \n",
    "    if(len(genres)==0):\n",
    "        print(artists)\n",
    "    else:\n",
    "        maxGenre =AE.getMaxGenre(genres)\n",
    "        #updating dataframe\n",
    "        ClubDataFrame[\"Genre\"] = maxGenre\n",
    "        ClubDataFrame[\"All Genres\"] = str(genres)\n",
    "    \n",
    "    i+=1\n",
    "    if(i%100==0):\n",
    "        print(str(i))\n",
    "        \n",
    "print(\"FINISHED\")"
   ]
  },
  {
   "cell_type": "code",
   "execution_count": null,
   "metadata": {
    "collapsed": false
   },
   "outputs": [],
   "source": [
    "Lineup = ClubDataFrame[ClubDataFrame.index==10065]\n",
    "a = pd.DataFrame(Lineup[\"LineUp\"])\n",
    "l = a[\"LineUp\"].values\n",
    "print(l)\n",
    "SplitLineup(l[0])"
   ]
  },
  {
   "cell_type": "code",
   "execution_count": null,
   "metadata": {
    "collapsed": false
   },
   "outputs": [],
   "source": [
    "AE.getGenre(\"Simon & Garfunkel\")"
   ]
  },
  {
   "cell_type": "code",
   "execution_count": null,
   "metadata": {
    "collapsed": true
   },
   "outputs": [],
   "source": []
  }
 ],
 "metadata": {
  "kernelspec": {
   "display_name": "Python [Root]",
   "language": "python",
   "name": "Python [Root]"
  },
  "language_info": {
   "codemirror_mode": {
    "name": "ipython",
    "version": 3
   },
   "file_extension": ".py",
   "mimetype": "text/x-python",
   "name": "python",
   "nbconvert_exporter": "python",
   "pygments_lexer": "ipython3",
   "version": "3.5.2"
  }
 },
 "nbformat": 4,
 "nbformat_minor": 0
}
