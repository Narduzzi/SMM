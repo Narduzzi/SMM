{
 "cells": [
  {
   "cell_type": "code",
   "execution_count": null,
   "metadata": {
    "collapsed": false
   },
   "outputs": [],
   "source": [
    "import numpy as np\n",
    "import ArtistExtractor as AE\n",
    "import pandas as pd\n",
    "import glob\n",
    "import os\n",
    "import LocationUtils as LU\n",
    "from ExtractGenreClubs import SplitLineup\n",
    "from ast import literal_eval"
   ]
  },
  {
   "cell_type": "code",
   "execution_count": null,
   "metadata": {
    "collapsed": false
   },
   "outputs": [],
   "source": [
    "dictionnaryOfGenres = LU.loadDictionary(\"FullData/AllGenresDic\",enc=\"utf-8\")"
   ]
  },
  {
   "cell_type": "code",
   "execution_count": null,
   "metadata": {
    "collapsed": false
   },
   "outputs": [],
   "source": [
    "a = \"Hello\"\n",
    "AE.getMaxGenre(a,2)"
   ]
  },
  {
   "cell_type": "code",
   "execution_count": null,
   "metadata": {
    "collapsed": false
   },
   "outputs": [],
   "source": [
    "begin = 0\n",
    "end = 45378\n",
    "\n",
    "df = pd.read_csv(\"FullData/ArtistDataframe_21000_45378.csv\")\n",
    "df2 = pd.read_csv(\"FullData/ArtistDataframe_0_21000.csv\")\n",
    "df3 = df.copy()\n",
    "df3[\"all_genres\"] = None\n",
    "i=0\n",
    "dictionnaryOfGenres = LU.loadDictionary(\"FullData/AllGenresDic\",enc=\"utf-8\")\n",
    "\n",
    "for id,row in df3.iterrows():\n",
    "    i+=1\n",
    "    #if(i>20):\n",
    "     #   break\n",
    "    if(i%1000==0):\n",
    "        print(i)\n",
    "        \n",
    "    artist = row[\"artist\"]\n",
    "    corresponding_df2=df2[df2.artist==row[\"artist\"]][\"genres_ra\"]           \n",
    "     \n",
    "    str_df2 = str(None)\n",
    "    if(len(corresponding_df2.values)>0):\n",
    "        str_df2 = str(corresponding_df2.values[0])\n",
    "    str_df2.replace(\"{\",\"[\").replace(\"}\",\"]\")\n",
    "    \n",
    "    gs = df3[df3.artist == artist][\"genres_spotify\"]    \n",
    "    genres_s =str(None)\n",
    "    if(len(gs)>0):\n",
    "        genres_s = df3[df3.artist == artist][\"genres_spotify\"].values[0]#,df3.genres_spotify]\n",
    "        \n",
    "    genres_a = str_df2.replace(\"{\",\"[\").replace(\"}\",\"]\")\n",
    "    \n",
    "    if(genres_s!=\"None\"):\n",
    "        genres_s = literal_eval(genres_s)\n",
    "    else:\n",
    "        genres_s = []\n",
    "        \n",
    "    if(genres_a!=\"None\" and str(genres_a)!=\"nan\"):\n",
    "        try:\n",
    "            genres_a = literal_eval(genres_a)\n",
    "        except:\n",
    "            print(genres_a)\n",
    "    else:\n",
    "        genres_a = []\n",
    "    \n",
    "    genres = genres_s+genres_a\n",
    "    \n",
    "    main_genres = AE.mainGenres(genres,dictionnaryOfGenres)\n",
    "    top3 = AE.getMaxGenre(main_genres,3)\n",
    "    main_genre = None\n",
    "    \n",
    "    if(top3!=None and len(top3)>1):\n",
    "        main_genre = top3[0]\n",
    "        \n",
    "        \n",
    "    if(len(genres)==0):\n",
    "        genres = None\n",
    "    if(len(genres_a)==0):\n",
    "        genres_a = None\n",
    "    if(len(main_genres)==0):\n",
    "        main_genres = None\n",
    "        \n",
    "    df3.loc[id,\"genres_ra\"] = str(genres_a)\n",
    "    df3.loc[id,\"main_genres\"] = str(main_genres)\n",
    "    df3.loc[id,\"top3_genres\"] = str(top3)\n",
    "    df3.loc[id,\"all_genres\"] = str(genres)\n",
    "    df3.loc[id,\"genre\"] = main_genre\n",
    "    \n",
    "        \n",
    "df3.to_csv(\"FullData/ArtistDF_withGenres.csv\",encoding=\"utf-8\")\n",
    "df3"
   ]
  },
  {
   "cell_type": "code",
   "execution_count": null,
   "metadata": {
    "collapsed": true
   },
   "outputs": [],
   "source": [
    "def downloadGenresWikipedia(str_file,dictionnary,begin=0,end=100000):\n",
    "\n",
    "    Artists = pd.read_csv(str_file,index_col=0)\n",
    "    \n",
    "    if(end>Artists.shape[0]):\n",
    "        end = Artists.shape[0]\n",
    "    \n",
    "    path = \"FullData/ArtistDataframe_\"+str(begin)+\"_\"+str(end)+\".csv\"\n",
    "    print(\"Downloading genres of \"+str(end-begin)+\" artist...\")\n",
    "    last_read = 0\n",
    "    for i in range(begin,end):\n",
    "        S = Artists[Artists.index==i]\n",
    "        artist = S[\"artist\"].values[0]\n",
    "        genres_ra = AE.getGenresFromWikipedia(artist,dictionnary)\n",
    "        if(len(genres_ra)<1):\n",
    "            genres_ra = None\n",
    "        Artists.loc[Artists.index==i,\"genres_ra\"] = str(genres_ra)\n",
    "\n",
    "        if(i%300==0):\n",
    "            Artists.to_csv(path,encoding=\"utf-8\")\n",
    "            print(str(i)+\": Saved under \"+path)\n",
    "    \n",
    "    Artists.to_csv(path,encoding=\"utf-8\")\n",
    "    \n",
    "    print(str(i)+\": Saved under \"+path)\n",
    "    last_read = i\n",
    "\n",
    "    print(\"Last read = \"+str(last_read))\n",
    "    return Artists"
   ]
  },
  {
   "cell_type": "code",
   "execution_count": null,
   "metadata": {
    "collapsed": false
   },
   "outputs": [],
   "source": [
    "a = downloadGenresWikipedia(\"FullData/ArtistDataframe.csv\",dictionnaryOfGenres,9,18)\n",
    "a"
   ]
  },
  {
   "cell_type": "raw",
   "metadata": {
    "collapsed": false,
    "scrolled": true
   },
   "source": [
    "files = []\n",
    "files = glob.glob(\"ClubData/ClubData0/*.csv\")+glob.glob(\"ClubData/ClubData1/*.csv\")+glob.glob(\"ClubData/ClubData2/*.csv\")+glob.glob(\"ClubData/ClubData3/*.csv\")\n",
    "print(len(files))\n",
    "ClubDataFrame = pd.read_csv(files[0],sep=\"\\t\")\n",
    "\n",
    "for file in files:\n",
    "    df= pd.read_csv(file,sep =\"\\t\")\n",
    "    ClubDataFrame = ClubDataFrame.append(df,ignore_index = True)\n",
    "\n",
    "#Drop Useless columns\n",
    "ClubDataFrame = ClubDataFrame.drop('Unnamed: 0', 1)\n",
    "ClubDataFrame.reset_index()\n",
    "print(ClubDataFrame.shape)"
   ]
  },
  {
   "cell_type": "code",
   "execution_count": null,
   "metadata": {
    "collapsed": false
   },
   "outputs": [],
   "source": [
    "\n",
    "file = \"ClubData/ClubDataGeo/ClubDataFrame.csv\"\n",
    "ClubDataFrame = pd.read_csv(file,sep=\",\")\n",
    "ClubDataFrame[\"Genre\"] = None\n",
    "ClubDataFrame[\"location\"] = None\n",
    "ClubDataFrame[\"club\"] = 1\n",
    "ClubDataFrame = ClubDataFrame[[\"ClubName\",\"club\",\"Address\",\"location\",\"EventName\",\"Date\",\"LineUp\",\"Genre\",\"Location\"]]\n",
    "ClubDataFrame.columns = [\"place\",\"club\",\"address\",\"location\",\"event\",\"date\",\"artists\",\"genre\",\"coordinates\"]\n",
    "ClubDataFrame"
   ]
  },
  {
   "cell_type": "code",
   "execution_count": null,
   "metadata": {
    "collapsed": false
   },
   "outputs": [],
   "source": [
    "file = \"EventsChData/completeWithCoordinates.csv\"\n",
    "EventsDataFrame = pd.read_csv(file)\n",
    "EventsDataFrame[\"address\"] = None\n",
    "EventsDataFrame[\"place\"] = None\n",
    "EventsDataFrame[\"club\"] = 0\n",
    "EventsDataFrame = EventsDataFrame[[\"place\",\"club\",\"address\",\"location\",\"event\",\"date\",\"artists\",\"genre\",\"coordinates\"]]\n",
    "EventsDataFrame"
   ]
  },
  {
   "cell_type": "code",
   "execution_count": null,
   "metadata": {
    "collapsed": false
   },
   "outputs": [],
   "source": [
    "Dataframe = pd.DataFrame()\n",
    "Dataframe = Dataframe.append(EventsDataFrame)\n",
    "Dataframe = Dataframe.append(ClubDataFrame)\n",
    "Dataframe.to_csv(\"FullData/EventsAndClubs.csv\", encoding=\"utf-8\")"
   ]
  },
  {
   "cell_type": "markdown",
   "metadata": {},
   "source": [
    "# Getting all artists"
   ]
  },
  {
   "cell_type": "code",
   "execution_count": null,
   "metadata": {
    "collapsed": false
   },
   "outputs": [],
   "source": [
    "import moreFunction  \n",
    "file = \"ClubData/ClubDataGeo/ClubDataFrame.csv\"\n",
    "ClubDataFrame = pd.read_csv(file,sep=\",\")\n",
    "ClubDataFrame[\"Genre\"] = None\n",
    "ClubDataFrame[\"location\"] = None\n",
    "ClubDataFrame[\"club\"] = 1\n",
    "ClubDataFrame = ClubDataFrame[[\"ClubName\",\"club\",\"Address\",\"location\",\"EventName\",\"Date\",\"LineUp\",\"Genre\",\"Location\"]]\n",
    "ClubDataFrame.columns = [\"place\",\"club\",\"address\",\"location\",\"event\",\"date\",\"artists\",\"genre\",\"coordinates\"]\n",
    "ClubDataFrame\n",
    "\n",
    "file = \"events.ch/EventsChData/completeWithCoordinates.csv\"\n",
    "EventsDataFrame = pd.read_csv(file)\n",
    "EventsDataFrame[\"address\"] = None\n",
    "EventsDataFrame[\"place\"] = None\n",
    "EventsDataFrame[\"club\"] = 0\n",
    "EventsDataFrame = EventsDataFrame[[\"place\",\"club\",\"address\",\"location\",\"event\",\"date\",\"artists\",\"genre\",\"coordinates\"]]\n",
    "EventsDataFrame\n",
    "\n",
    "Dataframe = pd.DataFrame()\n",
    "Dataframe = Dataframe.append(EventsDataFrame)\n",
    "Dataframe = Dataframe.append(ClubDataFrame)\n",
    "Dataframe.to_csv(\"FullData/EventsAndClubs.csv\", encoding=\"utf-8\")\n",
    "\n",
    "ArtistsDataFrame = pd.DataFrame()\n",
    "i=0\n",
    "print(Dataframe.shape)\n",
    "for index,row in Dataframe.iterrows():\n",
    "    lineup = row[\"artists\"] #get line-up\n",
    "    artists = literal_eval(lineup)\n",
    "    for a in artists:\n",
    "        a = a.split(\"(\")[0]#Remove parenthesis at end of artist (record label, live act..)\n",
    "        \n",
    "        artist_list = []\n",
    "        artist_list.append(a)\n",
    "        cleaned_artist = moreFunction.clean_artists(artist_list)\n",
    "        if(len(cleaned_artist)>0):\n",
    "            a = cleaned_artist[0]\n",
    "        a = pd.Series(a.strip())\n",
    "        ArtistsDataFrame = ArtistsDataFrame.append(a,ignore_index=True)\n",
    "    i+=1\n",
    "    if(i%5000==0):\n",
    "        print(i)\n",
    "        \n",
    "ArtistsDataFrame.columns=[\"artist\"]\n",
    "ArtistsDataFrame.to_csv(\"FullData/ArtistsList.csv\",encoding=\"utf-8\")\n",
    "ArtistsDataFrame.head(10)"
   ]
  },
  {
   "cell_type": "code",
   "execution_count": null,
   "metadata": {
    "collapsed": false
   },
   "outputs": [],
   "source": [
    "import ArtistExtractor as AE\n",
    "def generateDictionnary(artistsDF):\n",
    "    df = artistsDF.copy()\n",
    "\n",
    "    i=0\n",
    "    AllGenresDownloaded = []\n",
    "    print(\"Populating dictionnary with other genres:\")\n",
    "    print(\"Reading all genres from dataframe : \"+path)\n",
    "    for id,row in df.iterrows():\n",
    "        listGenres = literal_eval(row[2])\n",
    "        if(listGenres!=None):\n",
    "            AllGenresDownloaded+=listGenres\n",
    "    print(\"All genre extracted from dataframe. Updating dictionnary..\")\n",
    "    dic = AE.createDictionnary()\n",
    "    dic = AE.updateDictionnary(AllGenresDownloaded,dic,debug=True)\n",
    "    LU.saveDictionary(dic,\"FullData/AllGenresDic\",enc=\"utf-8\")\n",
    "    print(\"Dictionnary of genre saved.\")\n",
    "    \n",
    "    return dic"
   ]
  },
  {
   "cell_type": "code",
   "execution_count": null,
   "metadata": {
    "collapsed": false
   },
   "outputs": [],
   "source": [
    "ArtistsDataFrame.to_csv(\"FullData/ArtistsList.csv\",encoding=\"utf-8\")"
   ]
  },
  {
   "cell_type": "code",
   "execution_count": null,
   "metadata": {
    "collapsed": true
   },
   "outputs": [],
   "source": [
    "def downloadGenres(artistsDF,begin=0,end=100000):\n",
    "\n",
    "    Artists = artistsDF.copy()\n",
    "    Artists = Artists.drop_duplicates().reset_index()[[\"artist\"]]\n",
    "    Artists.columns=[\"artist\"]\n",
    "    Artists[\"genres_spotify\"]=None\n",
    "    Artists[\"genres_ra\"]=None\n",
    "    Artists[\"main_genres\"]=None\n",
    "    Artists[\"top3_genres\"]=None\n",
    "    Artists[\"genre\"]=None    \n",
    "    \n",
    "    if(end>Artists.shape[0]):\n",
    "        end = Artists.shape[0]\n",
    "    \n",
    "    path = \"FullData/ArtistDataframe_\"+str(begin)+\"_\"+str(end)+\".csv\"\n",
    "    print(\"Downloading genres of \"+str(end-begin)+\" artist...\")\n",
    "    last_read = 0\n",
    "    for i in range(begin,end):\n",
    "        S = Artists[Artists.index==i]\n",
    "        artist = S[\"artist\"].values[0]\n",
    "        genres_spotify = AE.getGenresFromSpotify(artist)\n",
    "        \n",
    "        if(len(genres_spotify)<1):\n",
    "            genres_spotify = None\n",
    "        Artists.loc[Artists.index==i,\"genres_spotify\"] = str(genres_spotify)\n",
    "\n",
    "        if(i%300==0):\n",
    "            Artists.to_csv(path,encoding=\"utf-8\")\n",
    "            print(str(i)+\": Saved under \"+path)\n",
    "    \n",
    "    Artists.to_csv(path,encoding=\"utf-8\")\n",
    "    \n",
    "    print(str(i)+\": Saved under \"+path)\n",
    "    last_read = i\n",
    "\n",
    "    print(\"Last read = \"+str(last_read))\n",
    "    return Artists"
   ]
  },
  {
   "cell_type": "code",
   "execution_count": null,
   "metadata": {
    "collapsed": false
   },
   "outputs": [],
   "source": [
    "A = downloadGenres(\"FullData/ArtistsList.csv\",0)"
   ]
  },
  {
   "cell_type": "code",
   "execution_count": null,
   "metadata": {
    "collapsed": false
   },
   "outputs": [],
   "source": [
    "dictionnaryOfGenres = LU.loadDictionary(\"FullData/AllGenresDic\",enc=\"utf-8\")\n",
    "for a in dictionnaryOfGenres:\n",
    "    if(a==\"rap\"):\n",
    "        print(a)"
   ]
  },
  {
   "cell_type": "code",
   "execution_count": null,
   "metadata": {
    "collapsed": false
   },
   "outputs": [],
   "source": [
    "import ArtistExtractor as AE\n",
    "\n",
    "begin = 0\n",
    "end = 45378\n",
    "\n",
    "df = pd.read_csv(\"FullData/ArtistDataframe.csv\")\n",
    "df\n",
    "\n",
    "i=0\n",
    "AllGenresDownloaded = []\n",
    "for id,row in df.iterrows():\n",
    "    listGenres = literal_eval(row[2])\n",
    "    print(listGenres)\n",
    "    if(listGenres!=None):\n",
    "        AllGenresDownloaded+=listGenres\n",
    "    i+=1\n",
    "    if(i>10):\n",
    "        break\n",
    "print(AllGenresDownloaded)\n",
    "\n",
    "dic = AE.createDictionnary()\n",
    "AE.updateDictionnary(AllGenresDownloaded,dic,debug=True)"
   ]
  },
  {
   "cell_type": "markdown",
   "metadata": {
    "collapsed": false
   },
   "source": [
    "# Construct full artist dictionnary"
   ]
  },
  {
   "cell_type": "code",
   "execution_count": null,
   "metadata": {
    "collapsed": false
   },
   "outputs": [],
   "source": [
    "files = []\n",
    "files = glob.glob(\"Artists/*.txt\")\n",
    "print(\"Nb files : \"+str(len(files)))\n",
    "ArtistsMainDic = dict()\n",
    "ArtistsAllDic = dict()\n",
    "\n",
    "for file in files :\n",
    "    filename = file.replace(\".txt\",\"\")\n",
    "    dictTemp = LU.loadDictionary(filename,path=\"\")\n",
    "    \n",
    "    if(\"All\" in file):\n",
    "        ArtistsAllDic = {**ArtistsAllDic,**dictTemp}\n",
    "        \n",
    "    if(\"Main\" in file):\n",
    "        ArtistsMainDic = {**ArtistsMainDic,**dictTemp}\n",
    "        \n",
    "print(\"Artist dictionaries loaded. Merging...\",end=\"\")\n",
    "LU.saveDictionary(ArtistsAllDic,\"ArtistsAllGenres\",\"Artists/\",enc=\"UTF-8\")\n",
    "LU.saveDictionary(ArtistsMainDic,\"ArtistsMainGenre\",\"Artists/\",enc=\"UTF-8\")\n",
    "print(\"done.\")\n",
    "print(\"Deleting temp files...\")\n",
    "for file in files :\n",
    "    if(\"-\" in file and \"temp\" in file):\n",
    "        print(\"Deleting temp file \"+file)\n",
    "        os.remove(file)\n",
    "print(\"DONE.\")"
   ]
  },
  {
   "cell_type": "markdown",
   "metadata": {},
   "source": [
    "## Creating dataframe of artists"
   ]
  },
  {
   "cell_type": "code",
   "execution_count": null,
   "metadata": {
    "collapsed": false
   },
   "outputs": [],
   "source": [
    "ArtistDicoMain = LU.loadDictionary(\"ArtistsMainGenreOld\",\"Artists/\",enc=\"UTF-8\")\n",
    "ArtistDicoAll =  LU.loadDictionary(\"ArtistsAllGenresOld\",\"Artists/\",enc=\"UTF-8\")\n",
    "ArtistsSet = set(a.encode(\"UTF-8\") for a in ArtistDicoMain.keys())\n",
    "\n",
    "ArtistsSet.update(ArtistDicoAll.keys())\n",
    "\n",
    "DictionnaryGenre = LU.loadDictionary(\"MusicGenres\",\"Artists/\",enc=\"UTF-8\")\n",
    "\n",
    "ClubDataFrame[\"Genre\"] = None\n",
    "ClubDataFrame[\"All Genres\"] = None\n",
    "print(\"Retrieving genre over \" +str(ClubDataFrame.shape)+\" events:\")\n",
    "\n",
    "MissingGenres = set()\n",
    "\n",
    "i=0\n",
    "for id,row in ClubDataFrame.iterrows():\n",
    "    genres = []\n",
    "    lineup = row[\"LineUp\"]\n",
    "    artists = SplitLineup(lineup)\n",
    "    \n",
    "    for artist in artists:\n",
    "        mainGenre = None\n",
    "        allGenres = None\n",
    "        \n",
    "        if(artist in ArtistsSet):\n",
    "            mainGenre = ArtistDicoMain.get(artist)\n",
    "            if(mainGenre!=\"None\" and mainGenre!=None):\n",
    "                if(mainGenre not in DictionnaryGenre):\n",
    "                    MissingGenres.add(mainGenre)\n",
    "                else:\n",
    "                    translatedGenre = DictionnaryGenre[mainGenre]\n",
    "                if(translatedGenre!=None):\n",
    "                    mainGenre = translatedGenre\n",
    "                allGenres = ArtistDicoAll.get(artist)\n",
    "        else:\n",
    "            print(\"Not found in dictionnary :\"+str(artist),end = \"\")\n",
    "            #Updating dictionnaries\n",
    "            ArtistsSet.add(artist)\n",
    "            allGenres = AE.getGenre(artist,dictionnary=DictionnaryGenre,ReturnAllGenres=True)\n",
    "            mainGenre = AE.getMaxGenre(allGenres,)\n",
    "            print(\", MainGenre is : \"+str(mainGenre))\n",
    "            ArtistDicoMain.update({artist : mainGenre})\n",
    "            ArtistDicoAll.update({artist : allGenres})\n",
    "        \n",
    "        #Adding to LineUp genres\n",
    "        genres.append(mainGenre) \n",
    "        \n",
    "            \n",
    "    if(len(genres)==0):\n",
    "        print(artists)\n",
    "    else:\n",
    "        maxGenre =AE.getMaxGenre(genres)\n",
    "        #updating dataframe\n",
    "        ClubDataFrame = ClubDataFrame.set_value(id,\"Genre\",maxGenre)\n",
    "        ClubDataFrame = ClubDataFrame.set_value(id,\"All Genres\",str(genres))\n",
    "        ClubDataFrame = ClubDataFrame.set_value(id,\"LineUp\",str(artists))\n",
    "    \n",
    "    i+=1\n",
    "    if(i%200==0):\n",
    "        print(str(i))\n",
    "    if(i%200==0):\n",
    "        LU.saveDictionary(ArtistDicoMain,\"ArtistDicoMain\",path = \"Artists/\",enc=\"UTF-8\")\n",
    "        LU.saveDictionary(ArtistDicoAll,\"ArtistDicoAll\",path = \"Artists/\",enc=\"UTF-8\")\n",
    "        \n",
    "print(\"FINISHED\")\n",
    "LU.saveDictionary(ArtistDicoMain,\"ArtistDicoMain\",path = \"Artists/\",enc=\"UTF-8\")\n",
    "LU.saveDictionary(ArtistDicoAll,\"ArtistDicoAll\",path = \"Artists/\",enc=\"UTF-8\")\n",
    "\n",
    "print(\"\\n\\n These genres were not found in dictionary : \")\n",
    "print(MissingGenres)"
   ]
  },
  {
   "cell_type": "code",
   "execution_count": null,
   "metadata": {
    "collapsed": false
   },
   "outputs": [],
   "source": [
    "AE.createDictionnary()\n",
    "ClubDataFrame[0:50]"
   ]
  },
  {
   "cell_type": "code",
   "execution_count": null,
   "metadata": {
    "collapsed": false
   },
   "outputs": [],
   "source": [
    "ClubDataFrame.to_csv(\"ClubData/EventsWithGenre.csv\",encoding=\"UTF-8\")"
   ]
  },
  {
   "cell_type": "code",
   "execution_count": null,
   "metadata": {
    "collapsed": true
   },
   "outputs": [],
   "source": []
  }
 ],
 "metadata": {
  "anaconda-cloud": {},
  "kernelspec": {
   "display_name": "Python [Root]",
   "language": "python",
   "name": "Python [Root]"
  },
  "language_info": {
   "codemirror_mode": {
    "name": "ipython",
    "version": 3
   },
   "file_extension": ".py",
   "mimetype": "text/x-python",
   "name": "python",
   "nbconvert_exporter": "python",
   "pygments_lexer": "ipython3",
   "version": "3.5.2"
  }
 },
 "nbformat": 4,
 "nbformat_minor": 0
}
