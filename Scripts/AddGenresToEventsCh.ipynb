{
 "cells": [
  {
   "cell_type": "markdown",
   "metadata": {},
   "source": [
    "### IPYNB To add genres to the EventsCh Dataframe"
   ]
  },
  {
   "cell_type": "code",
   "execution_count": 24,
   "metadata": {
    "collapsed": true
   },
   "outputs": [],
   "source": [
    "import numpy as np\n",
    "import pandas as pd\n",
    "import ArtistExtractor as AE\n",
    "import LocationUtils as LU"
   ]
  },
  {
   "cell_type": "code",
   "execution_count": 4,
   "metadata": {
    "collapsed": false
   },
   "outputs": [
    {
     "data": {
      "text/html": [
       "<div>\n",
       "<table border=\"1\" class=\"dataframe\">\n",
       "  <thead>\n",
       "    <tr style=\"text-align: right;\">\n",
       "      <th></th>\n",
       "      <th>location</th>\n",
       "      <th>event</th>\n",
       "      <th>date</th>\n",
       "      <th>artists</th>\n",
       "      <th>genre</th>\n",
       "      <th>coordinates</th>\n",
       "    </tr>\n",
       "  </thead>\n",
       "  <tbody>\n",
       "    <tr>\n",
       "      <th>0</th>\n",
       "      <td>Zürich</td>\n",
       "      <td>Andy-Gruber-Band</td>\n",
       "      <td>2016-04-22</td>\n",
       "      <td>['Andy Gruber Band ']</td>\n",
       "      <td>traditional</td>\n",
       "      <td>(47.3768866, 8.541694)</td>\n",
       "    </tr>\n",
       "    <tr>\n",
       "      <th>1</th>\n",
       "      <td>Basel</td>\n",
       "      <td>Lilian's-White-Party</td>\n",
       "      <td>2016-04-22</td>\n",
       "      <td>['DJ Raykard ']</td>\n",
       "      <td>Pop</td>\n",
       "      <td>(47.55959860000001, 7.588576099999999)</td>\n",
       "    </tr>\n",
       "    <tr>\n",
       "      <th>2</th>\n",
       "      <td>Basel</td>\n",
       "      <td>Orgelspiel-zum-Feierabend</td>\n",
       "      <td>2016-04-22</td>\n",
       "      <td>['Martin Sander ']</td>\n",
       "      <td>Classic</td>\n",
       "      <td>(47.55959860000001, 7.588576099999999)</td>\n",
       "    </tr>\n",
       "    <tr>\n",
       "      <th>3</th>\n",
       "      <td>Dietikon</td>\n",
       "      <td>Feierabendmusik</td>\n",
       "      <td>2016-04-22</td>\n",
       "      <td>['Bernhard Hörler ']</td>\n",
       "      <td>Classic</td>\n",
       "      <td>(47.4053885, 8.39977)</td>\n",
       "    </tr>\n",
       "    <tr>\n",
       "      <th>4</th>\n",
       "      <td>Zürich</td>\n",
       "      <td>Oomph</td>\n",
       "      <td>2016-04-22</td>\n",
       "      <td>['Oomph ']</td>\n",
       "      <td>Electronic</td>\n",
       "      <td>(47.3768866, 8.541694)</td>\n",
       "    </tr>\n",
       "  </tbody>\n",
       "</table>\n",
       "</div>"
      ],
      "text/plain": [
       "   location                      event        date                artists  \\\n",
       "0    Zürich           Andy-Gruber-Band  2016-04-22  ['Andy Gruber Band ']   \n",
       "1     Basel       Lilian's-White-Party  2016-04-22        ['DJ Raykard ']   \n",
       "2     Basel  Orgelspiel-zum-Feierabend  2016-04-22     ['Martin Sander ']   \n",
       "3  Dietikon            Feierabendmusik  2016-04-22   ['Bernhard Hörler ']   \n",
       "4    Zürich                      Oomph  2016-04-22             ['Oomph ']   \n",
       "\n",
       "         genre                             coordinates  \n",
       "0  traditional                  (47.3768866, 8.541694)  \n",
       "1          Pop  (47.55959860000001, 7.588576099999999)  \n",
       "2      Classic  (47.55959860000001, 7.588576099999999)  \n",
       "3      Classic                   (47.4053885, 8.39977)  \n",
       "4   Electronic                  (47.3768866, 8.541694)  "
      ]
     },
     "execution_count": 4,
     "metadata": {},
     "output_type": "execute_result"
    }
   ],
   "source": [
    "path = \"EventsChData/completeWithCoordinates.csv\"\n",
    "df = pd.read_csv(path)\n",
    "df.head()"
   ]
  },
  {
   "cell_type": "code",
   "execution_count": 23,
   "metadata": {
    "collapsed": false
   },
   "outputs": [
    {
     "data": {
      "text/html": [
       "<div>\n",
       "<table border=\"1\" class=\"dataframe\">\n",
       "  <thead>\n",
       "    <tr style=\"text-align: right;\">\n",
       "      <th></th>\n",
       "      <th>location</th>\n",
       "      <th>event</th>\n",
       "      <th>date</th>\n",
       "      <th>artists</th>\n",
       "      <th>genre</th>\n",
       "      <th>coordinates</th>\n",
       "    </tr>\n",
       "  </thead>\n",
       "  <tbody>\n",
       "    <tr>\n",
       "      <th>5</th>\n",
       "      <td>Zürich</td>\n",
       "      <td>Plusmacher</td>\n",
       "      <td>2016-04-22</td>\n",
       "      <td>['Plusmacher ']</td>\n",
       "      <td>NaN</td>\n",
       "      <td>(47.3768866, 8.541694)</td>\n",
       "    </tr>\n",
       "    <tr>\n",
       "      <th>8</th>\n",
       "      <td>Bern</td>\n",
       "      <td>Internationales-Jazzfestival-Bern</td>\n",
       "      <td>2016-04-22</td>\n",
       "      <td>['T. S. Monk Sextet ']</td>\n",
       "      <td>NaN</td>\n",
       "      <td>(46.9479739, 7.447446800000001)</td>\n",
       "    </tr>\n",
       "    <tr>\n",
       "      <th>11</th>\n",
       "      <td>Pratteln</td>\n",
       "      <td>Borknagar</td>\n",
       "      <td>2016-04-22</td>\n",
       "      <td>['Borknagar ', ' Kampfar ', ' Diabolical ']</td>\n",
       "      <td>NaN</td>\n",
       "      <td>(47.5183198, 7.6919889)</td>\n",
       "    </tr>\n",
       "    <tr>\n",
       "      <th>14</th>\n",
       "      <td>Basel</td>\n",
       "      <td>Jazzfestival-Basel</td>\n",
       "      <td>2016-04-22</td>\n",
       "      <td>[' Kenny Garrett ', ' Vernell Brown ', ' Corco...</td>\n",
       "      <td>NaN</td>\n",
       "      <td>(47.55959860000001, 7.588576099999999)</td>\n",
       "    </tr>\n",
       "    <tr>\n",
       "      <th>18</th>\n",
       "      <td>Zürich</td>\n",
       "      <td>Buck-Wolfarth</td>\n",
       "      <td>2016-04-22</td>\n",
       "      <td>[' Christian Buck ', ' Christian Wolfarth ']</td>\n",
       "      <td>NaN</td>\n",
       "      <td>(47.3768866, 8.541694)</td>\n",
       "    </tr>\n",
       "  </tbody>\n",
       "</table>\n",
       "</div>"
      ],
      "text/plain": [
       "    location                              event        date  \\\n",
       "5     Zürich                         Plusmacher  2016-04-22   \n",
       "8       Bern  Internationales-Jazzfestival-Bern  2016-04-22   \n",
       "11  Pratteln                          Borknagar  2016-04-22   \n",
       "14     Basel                 Jazzfestival-Basel  2016-04-22   \n",
       "18    Zürich                      Buck-Wolfarth  2016-04-22   \n",
       "\n",
       "                                              artists genre  \\\n",
       "5                                     ['Plusmacher ']   NaN   \n",
       "8                              ['T. S. Monk Sextet ']   NaN   \n",
       "11        ['Borknagar ', ' Kampfar ', ' Diabolical ']   NaN   \n",
       "14  [' Kenny Garrett ', ' Vernell Brown ', ' Corco...   NaN   \n",
       "18       [' Christian Buck ', ' Christian Wolfarth ']   NaN   \n",
       "\n",
       "                               coordinates  \n",
       "5                   (47.3768866, 8.541694)  \n",
       "8          (46.9479739, 7.447446800000001)  \n",
       "11                 (47.5183198, 7.6919889)  \n",
       "14  (47.55959860000001, 7.588576099999999)  \n",
       "18                  (47.3768866, 8.541694)  "
      ]
     },
     "execution_count": 23,
     "metadata": {},
     "output_type": "execute_result"
    }
   ],
   "source": [
    "df[df.genre.isnull()].head()"
   ]
  },
  {
   "cell_type": "code",
   "execution_count": null,
   "metadata": {
    "collapsed": true
   },
   "outputs": [],
   "source": [
    "dic = LU.loadDictionary()"
   ]
  }
 ],
 "metadata": {
  "kernelspec": {
   "display_name": "Python 3",
   "language": "python",
   "name": "python3"
  },
  "language_info": {
   "codemirror_mode": {
    "name": "ipython",
    "version": 3
   },
   "file_extension": ".py",
   "mimetype": "text/x-python",
   "name": "python",
   "nbconvert_exporter": "python",
   "pygments_lexer": "ipython3",
   "version": "3.5.2+"
  }
 },
 "nbformat": 4,
 "nbformat_minor": 1
}
