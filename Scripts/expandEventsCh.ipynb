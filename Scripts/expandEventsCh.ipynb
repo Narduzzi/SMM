{
 "cells": [
  {
   "cell_type": "markdown",
   "metadata": {},
   "source": [
    "## IPYNB to add a column coordinates with (long, lat) to the data from the website events.ch"
   ]
  },
  {
   "cell_type": "code",
   "execution_count": 1,
   "metadata": {
    "collapsed": false
   },
   "outputs": [],
   "source": [
    "import glob\n",
    "import numpy as np\n",
    "import pandas as pd\n",
    "import LocationUtils as lu\n",
    "dictionaryFile = \"ClubsGeo\"\n",
    "debug = False"
   ]
  },
  {
   "cell_type": "markdown",
   "metadata": {},
   "source": [
    "Import all csv from the website events.ch"
   ]
  },
  {
   "cell_type": "code",
   "execution_count": 2,
   "metadata": {
    "collapsed": false
   },
   "outputs": [
    {
     "name": "stdout",
     "output_type": "stream",
     "text": [
      "1456\n",
      "(36340, 6)\n"
     ]
    },
    {
     "data": {
      "text/html": [
       "<div>\n",
       "<table border=\"1\" class=\"dataframe\">\n",
       "  <thead>\n",
       "    <tr style=\"text-align: right;\">\n",
       "      <th></th>\n",
       "      <th>Unnamed: 0</th>\n",
       "      <th>location</th>\n",
       "      <th>event</th>\n",
       "      <th>date</th>\n",
       "      <th>artists</th>\n",
       "      <th>genre</th>\n",
       "    </tr>\n",
       "  </thead>\n",
       "  <tbody>\n",
       "    <tr>\n",
       "      <th>0</th>\n",
       "      <td>0</td>\n",
       "      <td>Zürich</td>\n",
       "      <td>Andy-Gruber-Band</td>\n",
       "      <td>2016-04-22</td>\n",
       "      <td>['Andy Gruber Band ']</td>\n",
       "      <td>traditional</td>\n",
       "    </tr>\n",
       "    <tr>\n",
       "      <th>1</th>\n",
       "      <td>1</td>\n",
       "      <td>Basel</td>\n",
       "      <td>Lilian's-White-Party</td>\n",
       "      <td>2016-04-22</td>\n",
       "      <td>['DJ Raykard ']</td>\n",
       "      <td>Pop</td>\n",
       "    </tr>\n",
       "    <tr>\n",
       "      <th>2</th>\n",
       "      <td>2</td>\n",
       "      <td>Basel</td>\n",
       "      <td>Orgelspiel-zum-Feierabend</td>\n",
       "      <td>2016-04-22</td>\n",
       "      <td>['Martin Sander ']</td>\n",
       "      <td>Classic</td>\n",
       "    </tr>\n",
       "    <tr>\n",
       "      <th>3</th>\n",
       "      <td>3</td>\n",
       "      <td>Dietikon</td>\n",
       "      <td>Feierabendmusik</td>\n",
       "      <td>2016-04-22</td>\n",
       "      <td>['Bernhard Hörler ']</td>\n",
       "      <td>Classic</td>\n",
       "    </tr>\n",
       "    <tr>\n",
       "      <th>4</th>\n",
       "      <td>4</td>\n",
       "      <td>Zürich</td>\n",
       "      <td>Oomph</td>\n",
       "      <td>2016-04-22</td>\n",
       "      <td>['Oomph ']</td>\n",
       "      <td>Electronic</td>\n",
       "    </tr>\n",
       "  </tbody>\n",
       "</table>\n",
       "</div>"
      ],
      "text/plain": [
       "   Unnamed: 0  location                      event        date  \\\n",
       "0           0    Zürich           Andy-Gruber-Band  2016-04-22   \n",
       "1           1     Basel       Lilian's-White-Party  2016-04-22   \n",
       "2           2     Basel  Orgelspiel-zum-Feierabend  2016-04-22   \n",
       "3           3  Dietikon            Feierabendmusik  2016-04-22   \n",
       "4           4    Zürich                      Oomph  2016-04-22   \n",
       "\n",
       "                 artists        genre  \n",
       "0  ['Andy Gruber Band ']  traditional  \n",
       "1        ['DJ Raykard ']          Pop  \n",
       "2     ['Martin Sander ']      Classic  \n",
       "3   ['Bernhard Hörler ']      Classic  \n",
       "4             ['Oomph ']   Electronic  "
      ]
     },
     "execution_count": 2,
     "metadata": {},
     "output_type": "execute_result"
    }
   ],
   "source": [
    "files = []\n",
    "files = glob.glob(\"EventsChData/????-??-??.csv\")\n",
    "print(len(files))\n",
    "ClubDataFrame = pd.read_csv(files[0])\n",
    "\n",
    "for file in files[1:]:\n",
    "    df= pd.read_csv(file)\n",
    "    ClubDataFrame = ClubDataFrame.append(df,ignore_index = True)\n",
    "    \n",
    "print(ClubDataFrame.shape)\n",
    "ClubDataFrame.head()\n"
   ]
  },
  {
   "cell_type": "markdown",
   "metadata": {},
   "source": [
    "We have this annoying column because the csv was written without \"index=False\" (my bad)."
   ]
  },
  {
   "cell_type": "code",
   "execution_count": 3,
   "metadata": {
    "collapsed": true
   },
   "outputs": [],
   "source": [
    "ClubDataFrame = ClubDataFrame.drop('Unnamed: 0', 1)"
   ]
  },
  {
   "cell_type": "markdown",
   "metadata": {},
   "source": [
    "Check if DF is correct now"
   ]
  },
  {
   "cell_type": "code",
   "execution_count": 4,
   "metadata": {
    "collapsed": false
   },
   "outputs": [
    {
     "data": {
      "text/html": [
       "<div>\n",
       "<table border=\"1\" class=\"dataframe\">\n",
       "  <thead>\n",
       "    <tr style=\"text-align: right;\">\n",
       "      <th></th>\n",
       "      <th>location</th>\n",
       "      <th>event</th>\n",
       "      <th>date</th>\n",
       "      <th>artists</th>\n",
       "      <th>genre</th>\n",
       "    </tr>\n",
       "  </thead>\n",
       "  <tbody>\n",
       "    <tr>\n",
       "      <th>13</th>\n",
       "      <td>Bern</td>\n",
       "      <td>Schuberts-Tragische</td>\n",
       "      <td>2016-04-22</td>\n",
       "      <td>[' Veronika Eberle ']</td>\n",
       "      <td>Classic</td>\n",
       "    </tr>\n",
       "    <tr>\n",
       "      <th>14</th>\n",
       "      <td>Basel</td>\n",
       "      <td>Jazzfestival-Basel</td>\n",
       "      <td>2016-04-22</td>\n",
       "      <td>[' Kenny Garrett ', ' Vernell Brown ', ' Corco...</td>\n",
       "      <td>NaN</td>\n",
       "    </tr>\n",
       "    <tr>\n",
       "      <th>15</th>\n",
       "      <td>null</td>\n",
       "      <td>Konzert</td>\n",
       "      <td>2016-04-22</td>\n",
       "      <td>[' Tine Thing Helseth ']</td>\n",
       "      <td>Classic</td>\n",
       "    </tr>\n",
       "  </tbody>\n",
       "</table>\n",
       "</div>"
      ],
      "text/plain": [
       "   location                event        date  \\\n",
       "13     Bern  Schuberts-Tragische  2016-04-22   \n",
       "14    Basel   Jazzfestival-Basel  2016-04-22   \n",
       "15     null              Konzert  2016-04-22   \n",
       "\n",
       "                                              artists    genre  \n",
       "13                              [' Veronika Eberle ']  Classic  \n",
       "14  [' Kenny Garrett ', ' Vernell Brown ', ' Corco...      NaN  \n",
       "15                           [' Tine Thing Helseth ']  Classic  "
      ]
     },
     "execution_count": 4,
     "metadata": {},
     "output_type": "execute_result"
    }
   ],
   "source": [
    "ClubDataFrame[13:16]"
   ]
  },
  {
   "cell_type": "markdown",
   "metadata": {},
   "source": [
    "run once cells below to populate the dictionary = create entry from \"1020 Renens\" and \"1020;Renens\" to \"Renens\" to avoid some searches."
   ]
  },
  {
   "cell_type": "raw",
   "metadata": {
    "collapsed": false
   },
   "source": [
    "dic = lu.loadDictionary(dictionaryFile)"
   ]
  },
  {
   "cell_type": "raw",
   "metadata": {
    "collapsed": false
   },
   "source": [
    "print(len(dic))"
   ]
  },
  {
   "cell_type": "raw",
   "metadata": {},
   "source": [
    "lu.populateDictionary(dic)"
   ]
  },
  {
   "cell_type": "raw",
   "metadata": {},
   "source": [
    "print(len(dic))"
   ]
  },
  {
   "cell_type": "raw",
   "metadata": {},
   "source": [
    "lu.saveDictionary(dic, \"newDic\")"
   ]
  },
  {
   "cell_type": "code",
   "execution_count": 5,
   "metadata": {
    "collapsed": true
   },
   "outputs": [],
   "source": [
    "dic = lu.loadDictionary(\"newDic\")"
   ]
  },
  {
   "cell_type": "code",
   "execution_count": 6,
   "metadata": {
    "collapsed": false
   },
   "outputs": [
    {
     "name": "stdout",
     "output_type": "stream",
     "text": [
      "1552\n"
     ]
    }
   ],
   "source": [
    "print(len(dic))"
   ]
  },
  {
   "cell_type": "code",
   "execution_count": 7,
   "metadata": {
    "collapsed": false
   },
   "outputs": [],
   "source": [
    "ClubDataFrame = ClubDataFrame[ClubDataFrame.location != \"null\"]"
   ]
  },
  {
   "cell_type": "markdown",
   "metadata": {},
   "source": [
    "Check if invalid location are gone"
   ]
  },
  {
   "cell_type": "code",
   "execution_count": 8,
   "metadata": {
    "collapsed": false
   },
   "outputs": [
    {
     "data": {
      "text/html": [
       "<div>\n",
       "<table border=\"1\" class=\"dataframe\">\n",
       "  <thead>\n",
       "    <tr style=\"text-align: right;\">\n",
       "      <th></th>\n",
       "      <th>location</th>\n",
       "      <th>event</th>\n",
       "      <th>date</th>\n",
       "      <th>artists</th>\n",
       "      <th>genre</th>\n",
       "    </tr>\n",
       "  </thead>\n",
       "  <tbody>\n",
       "    <tr>\n",
       "      <th>13</th>\n",
       "      <td>Bern</td>\n",
       "      <td>Schuberts-Tragische</td>\n",
       "      <td>2016-04-22</td>\n",
       "      <td>[' Veronika Eberle ']</td>\n",
       "      <td>Classic</td>\n",
       "    </tr>\n",
       "    <tr>\n",
       "      <th>14</th>\n",
       "      <td>Basel</td>\n",
       "      <td>Jazzfestival-Basel</td>\n",
       "      <td>2016-04-22</td>\n",
       "      <td>[' Kenny Garrett ', ' Vernell Brown ', ' Corco...</td>\n",
       "      <td>NaN</td>\n",
       "    </tr>\n",
       "    <tr>\n",
       "      <th>16</th>\n",
       "      <td>Bern</td>\n",
       "      <td>Oli-Kehrli</td>\n",
       "      <td>2016-04-22</td>\n",
       "      <td>['Oli Kehrli ']</td>\n",
       "      <td>Pop</td>\n",
       "    </tr>\n",
       "  </tbody>\n",
       "</table>\n",
       "</div>"
      ],
      "text/plain": [
       "   location                event        date  \\\n",
       "13     Bern  Schuberts-Tragische  2016-04-22   \n",
       "14    Basel   Jazzfestival-Basel  2016-04-22   \n",
       "16     Bern           Oli-Kehrli  2016-04-22   \n",
       "\n",
       "                                              artists    genre  \n",
       "13                              [' Veronika Eberle ']  Classic  \n",
       "14  [' Kenny Garrett ', ' Vernell Brown ', ' Corco...      NaN  \n",
       "16                                    ['Oli Kehrli ']      Pop  "
      ]
     },
     "execution_count": 8,
     "metadata": {},
     "output_type": "execute_result"
    }
   ],
   "source": [
    "ClubDataFrame[13:16]"
   ]
  },
  {
   "cell_type": "code",
   "execution_count": 9,
   "metadata": {
    "collapsed": true
   },
   "outputs": [],
   "source": [
    "def addCoordinatesColumn(df, dictionary=None, location_column_name=\"location\", coordinates_column_name = \"coordinates\",replace=False, inplace = False):\n",
    "    \n",
    "    tmp = df.copy()\n",
    "    if(coordinates_column_name in df.columns):\n",
    "        if(replace):\n",
    "            if(inplace):\n",
    "                df.drop(coordinates_column_name,1, inplace=True)\n",
    "            else:\n",
    "                tmp.drop(coordinates_column_name,1, inplace=True)\n",
    "        else:\n",
    "            print(\"column \",coordinates_column_name,\" already in dataframe.\")\n",
    "            return \n",
    "    serie = pd.Series(data = np.nan, index = df.index, dtype = np.dtype)\n",
    "    for (i,r) in df.iterrows():\n",
    "        serie[i]= lu.getLocation(df.loc[i,location_column_name], dictionary)[0]\n",
    "        if(debug and i%128 == 0): \n",
    "            print(i)\n",
    "    if(inplace):\n",
    "        df.insert(len(df.columns), coordinates_column_name,serie)\n",
    "    else: \n",
    "        tmp.insert(len(tmp.columns), coordinates_column_name,serie)\n",
    "        return tmp"
   ]
  },
  {
   "cell_type": "markdown",
   "metadata": {},
   "source": [
    "Add the coordinate column to he dataframe"
   ]
  },
  {
   "cell_type": "code",
   "execution_count": 10,
   "metadata": {
    "collapsed": false
   },
   "outputs": [
    {
     "name": "stdout",
     "output_type": "stream",
     "text": [
      "out of bounds:  Palais-des-Congrès  :  45.5050927 , -73.5598036\n",
      "out of bounds:  Théâtre-La-Fourmi  :  45.823884 , 1.267253\n",
      "out of bounds:  Paléo  :  43.2256401 , -8.3525459\n",
      "out of bounds:  Il-Caffè  :  34.0425531 , -118.2561154\n",
      "out of bounds:  Festivalgelände  :  47.81091379999999 , 12.4925763\n"
     ]
    }
   ],
   "source": [
    "addCoordinatesColumn(ClubDataFrame, dic, replace = True, inplace=True)"
   ]
  },
  {
   "cell_type": "markdown",
   "metadata": {},
   "source": [
    "Run manual check on these locations:<br>\n",
    "* Palais-des-Congrès is in Biel, coordinates are false. good ones = (47.134881, 7.248004000000001)\n",
    "* Théatre-La-Fourmi is in Luzern and is ok\n",
    "* Paléo is in Nyon, coordinates ok\n",
    "* Il-Caffè is in Langnau im Emmental (between Bern and Lucern), the coordinates are false. good ones = 46.9382202, 7.787970900000001\n",
    "* Festivalgelände was not found, correct coordinates are (47.4222173, 9.3395195)\n"
   ]
  },
  {
   "cell_type": "code",
   "execution_count": 20,
   "metadata": {
    "collapsed": false
   },
   "outputs": [
    {
     "data": {
      "text/html": [
       "<div>\n",
       "<table border=\"1\" class=\"dataframe\">\n",
       "  <thead>\n",
       "    <tr style=\"text-align: right;\">\n",
       "      <th></th>\n",
       "      <th>location</th>\n",
       "      <th>event</th>\n",
       "      <th>date</th>\n",
       "      <th>artists</th>\n",
       "      <th>genre</th>\n",
       "      <th>coordinates</th>\n",
       "    </tr>\n",
       "  </thead>\n",
       "  <tbody>\n",
       "    <tr>\n",
       "      <th>400</th>\n",
       "      <td>Palais-des-Congrès</td>\n",
       "      <td>null</td>\n",
       "      <td>2015-10-20</td>\n",
       "      <td>[' Giovanni Bellucci ']</td>\n",
       "      <td>Classic</td>\n",
       "      <td>(46.2266738, 6.140292199999999)</td>\n",
       "    </tr>\n",
       "    <tr>\n",
       "      <th>887</th>\n",
       "      <td>Théâtre-La-Fourmi</td>\n",
       "      <td>Luzern</td>\n",
       "      <td>2013-04-11</td>\n",
       "      <td>['Jon Ladeau ']</td>\n",
       "      <td>NaN</td>\n",
       "      <td>(47.0481924, 8.304023)</td>\n",
       "    </tr>\n",
       "    <tr>\n",
       "      <th>1194</th>\n",
       "      <td>Paléo</td>\n",
       "      <td>Nyon</td>\n",
       "      <td>2013-07-26</td>\n",
       "      <td>['Nick Cave &amp; The Bad Seeds ', ' M ', ' Dizzee...</td>\n",
       "      <td>NaN</td>\n",
       "      <td>(46.4023785, 6.211587)</td>\n",
       "    </tr>\n",
       "    <tr>\n",
       "      <th>11842</th>\n",
       "      <td>Il-Caffè</td>\n",
       "      <td>null</td>\n",
       "      <td>2013-05-27</td>\n",
       "      <td>['Morgan Finlay ']</td>\n",
       "      <td>NaN</td>\n",
       "      <td>(47.3779882, 8.532843699999999)</td>\n",
       "    </tr>\n",
       "    <tr>\n",
       "      <th>15399</th>\n",
       "      <td>Festivalgelände</td>\n",
       "      <td>Rümlang</td>\n",
       "      <td>2013-08-30</td>\n",
       "      <td>['DJs Pendulum ', ' Pretty Lights ', ' live: M...</td>\n",
       "      <td>NaN</td>\n",
       "      <td>(None, None)</td>\n",
       "    </tr>\n",
       "  </tbody>\n",
       "</table>\n",
       "</div>"
      ],
      "text/plain": [
       "                 location    event        date  \\\n",
       "400    Palais-des-Congrès     null  2015-10-20   \n",
       "887     Théâtre-La-Fourmi   Luzern  2013-04-11   \n",
       "1194                Paléo     Nyon  2013-07-26   \n",
       "11842            Il-Caffè     null  2013-05-27   \n",
       "15399     Festivalgelände  Rümlang  2013-08-30   \n",
       "\n",
       "                                                 artists    genre  \\\n",
       "400                              [' Giovanni Bellucci ']  Classic   \n",
       "887                                      ['Jon Ladeau ']      NaN   \n",
       "1194   ['Nick Cave & The Bad Seeds ', ' M ', ' Dizzee...      NaN   \n",
       "11842                                 ['Morgan Finlay ']      NaN   \n",
       "15399  ['DJs Pendulum ', ' Pretty Lights ', ' live: M...      NaN   \n",
       "\n",
       "                           coordinates  \n",
       "400    (46.2266738, 6.140292199999999)  \n",
       "887             (47.0481924, 8.304023)  \n",
       "1194            (46.4023785, 6.211587)  \n",
       "11842  (47.3779882, 8.532843699999999)  \n",
       "15399                     (None, None)  "
      ]
     },
     "execution_count": 20,
     "metadata": {},
     "output_type": "execute_result"
    }
   ],
   "source": [
    "ClubDataFrame[ClubDataFrame.location==\"Palais-des-Congrès\"].head(1).append(ClubDataFrame[ClubDataFrame.location==\"Théâtre-La-Fourmi\"].head(1)).append(ClubDataFrame[ClubDataFrame.location==\"Paléo\"].head(1)).append(ClubDataFrame[ClubDataFrame.location==\"Il-Caffè\"].head(1)).append(ClubDataFrame[ClubDataFrame.location==\"Festivalgelände\"].head(1))"
   ]
  },
  {
   "cell_type": "code",
   "execution_count": 21,
   "metadata": {
    "collapsed": true
   },
   "outputs": [],
   "source": [
    "dic[\"Palais-des-Congrès\"] = (47.134881, 7.248004000000001)\n",
    "dic[\"Il_Caffè\"] = (46.9382202, 7.787970900000001)\n",
    "dic[\"Festivalgelände\"] = (47.4222173, 9.3395195)"
   ]
  },
  {
   "cell_type": "code",
   "execution_count": 22,
   "metadata": {
    "collapsed": true
   },
   "outputs": [],
   "source": [
    "addCoordinatesColumn(ClubDataFrame, dic, replace = True, inplace=True)"
   ]
  },
  {
   "cell_type": "code",
   "execution_count": 23,
   "metadata": {
    "collapsed": false
   },
   "outputs": [
    {
     "data": {
      "text/html": [
       "<div>\n",
       "<table border=\"1\" class=\"dataframe\">\n",
       "  <thead>\n",
       "    <tr style=\"text-align: right;\">\n",
       "      <th></th>\n",
       "      <th>location</th>\n",
       "      <th>event</th>\n",
       "      <th>date</th>\n",
       "      <th>artists</th>\n",
       "      <th>genre</th>\n",
       "      <th>coordinates</th>\n",
       "    </tr>\n",
       "  </thead>\n",
       "  <tbody>\n",
       "    <tr>\n",
       "      <th>400</th>\n",
       "      <td>Palais-des-Congrès</td>\n",
       "      <td>null</td>\n",
       "      <td>2015-10-20</td>\n",
       "      <td>[' Giovanni Bellucci ']</td>\n",
       "      <td>Classic</td>\n",
       "      <td>(47.134881, 7.248004000000001)</td>\n",
       "    </tr>\n",
       "    <tr>\n",
       "      <th>887</th>\n",
       "      <td>Théâtre-La-Fourmi</td>\n",
       "      <td>Luzern</td>\n",
       "      <td>2013-04-11</td>\n",
       "      <td>['Jon Ladeau ']</td>\n",
       "      <td>NaN</td>\n",
       "      <td>(47.0481924, 8.304023)</td>\n",
       "    </tr>\n",
       "    <tr>\n",
       "      <th>1194</th>\n",
       "      <td>Paléo</td>\n",
       "      <td>Nyon</td>\n",
       "      <td>2013-07-26</td>\n",
       "      <td>['Nick Cave &amp; The Bad Seeds ', ' M ', ' Dizzee...</td>\n",
       "      <td>NaN</td>\n",
       "      <td>(46.4023785, 6.211587)</td>\n",
       "    </tr>\n",
       "    <tr>\n",
       "      <th>11842</th>\n",
       "      <td>Il-Caffè</td>\n",
       "      <td>null</td>\n",
       "      <td>2013-05-27</td>\n",
       "      <td>['Morgan Finlay ']</td>\n",
       "      <td>NaN</td>\n",
       "      <td>(47.3779882, 8.532843699999999)</td>\n",
       "    </tr>\n",
       "    <tr>\n",
       "      <th>15399</th>\n",
       "      <td>Festivalgelände</td>\n",
       "      <td>Rümlang</td>\n",
       "      <td>2013-08-30</td>\n",
       "      <td>['DJs Pendulum ', ' Pretty Lights ', ' live: M...</td>\n",
       "      <td>NaN</td>\n",
       "      <td>(47.4222173, 9.3395195)</td>\n",
       "    </tr>\n",
       "  </tbody>\n",
       "</table>\n",
       "</div>"
      ],
      "text/plain": [
       "                 location    event        date  \\\n",
       "400    Palais-des-Congrès     null  2015-10-20   \n",
       "887     Théâtre-La-Fourmi   Luzern  2013-04-11   \n",
       "1194                Paléo     Nyon  2013-07-26   \n",
       "11842            Il-Caffè     null  2013-05-27   \n",
       "15399     Festivalgelände  Rümlang  2013-08-30   \n",
       "\n",
       "                                                 artists    genre  \\\n",
       "400                              [' Giovanni Bellucci ']  Classic   \n",
       "887                                      ['Jon Ladeau ']      NaN   \n",
       "1194   ['Nick Cave & The Bad Seeds ', ' M ', ' Dizzee...      NaN   \n",
       "11842                                 ['Morgan Finlay ']      NaN   \n",
       "15399  ['DJs Pendulum ', ' Pretty Lights ', ' live: M...      NaN   \n",
       "\n",
       "                           coordinates  \n",
       "400     (47.134881, 7.248004000000001)  \n",
       "887             (47.0481924, 8.304023)  \n",
       "1194            (46.4023785, 6.211587)  \n",
       "11842  (47.3779882, 8.532843699999999)  \n",
       "15399          (47.4222173, 9.3395195)  "
      ]
     },
     "execution_count": 23,
     "metadata": {},
     "output_type": "execute_result"
    }
   ],
   "source": [
    "ClubDataFrame[ClubDataFrame.location==\"Palais-des-Congrès\"].head(1).append(ClubDataFrame[ClubDataFrame.location==\"Théâtre-La-Fourmi\"].head(1)).append(ClubDataFrame[ClubDataFrame.location==\"Paléo\"].head(1)).append(ClubDataFrame[ClubDataFrame.location==\"Il-Caffè\"].head(1)).append(ClubDataFrame[ClubDataFrame.location==\"Festivalgelände\"].head(1))"
   ]
  },
  {
   "cell_type": "markdown",
   "metadata": {},
   "source": [
    "We still have events where no coordinates could be found."
   ]
  },
  {
   "cell_type": "code",
   "execution_count": 36,
   "metadata": {
    "collapsed": false
   },
   "outputs": [
    {
     "data": {
      "text/plain": [
       "array(['Festivalgelände-am-Rotten', 'Römerareal'], dtype=object)"
      ]
     },
     "execution_count": 36,
     "metadata": {},
     "output_type": "execute_result"
    }
   ],
   "source": [
    "ClubDataFrame[\"location\"].loc[ClubDataFrame[\"coordinates\"]==(None, None)].unique()"
   ]
  },
  {
   "cell_type": "markdown",
   "metadata": {},
   "source": [
    "* Festivalgelände-am-Rotten is the same location as Festivalgelände.\n",
    "* Römerareal is the Royal Arena Festival in Biel at (47.136266, 7.30622)."
   ]
  },
  {
   "cell_type": "code",
   "execution_count": 38,
   "metadata": {
    "collapsed": false
   },
   "outputs": [],
   "source": [
    "dic[\"Festivalgelände-am-Rotten\"] = dic[\"Festivalgelände\"]\n",
    "dic[\"Römerareal\"] = (47.136266, 7.30622)"
   ]
  },
  {
   "cell_type": "code",
   "execution_count": 39,
   "metadata": {
    "collapsed": true
   },
   "outputs": [],
   "source": [
    "addCoordinatesColumn(ClubDataFrame, dic, replace = True, inplace=True)"
   ]
  },
  {
   "cell_type": "code",
   "execution_count": 40,
   "metadata": {
    "collapsed": false
   },
   "outputs": [
    {
     "data": {
      "text/plain": [
       "array([], dtype=object)"
      ]
     },
     "execution_count": 40,
     "metadata": {},
     "output_type": "execute_result"
    }
   ],
   "source": [
    "ClubDataFrame[\"location\"].loc[ClubDataFrame[\"coordinates\"]==(None, None)].unique()"
   ]
  },
  {
   "cell_type": "markdown",
   "metadata": {},
   "source": [
    "Save the dictionary for further use"
   ]
  },
  {
   "cell_type": "code",
   "execution_count": 41,
   "metadata": {
    "collapsed": false
   },
   "outputs": [],
   "source": [
    "lu.saveDictionary(dic, \"newDic\")"
   ]
  },
  {
   "cell_type": "markdown",
   "metadata": {},
   "source": [
    "Save csv with geographic coordinates"
   ]
  },
  {
   "cell_type": "code",
   "execution_count": 42,
   "metadata": {
    "collapsed": true
   },
   "outputs": [],
   "source": [
    "ClubDataFrame.to_csv(\"EventsChData/completeWithCoordinates.csv\", index=False)"
   ]
  },
  {
   "cell_type": "markdown",
   "metadata": {},
   "source": [
    "Check if write good"
   ]
  },
  {
   "cell_type": "code",
   "execution_count": 43,
   "metadata": {
    "collapsed": false
   },
   "outputs": [],
   "source": [
    "tmp = pd.read_csv(\"EventsChData/completeWithCoordinates.csv\", index_col = False)"
   ]
  },
  {
   "cell_type": "code",
   "execution_count": 44,
   "metadata": {
    "collapsed": false
   },
   "outputs": [
    {
     "data": {
      "text/html": [
       "<div>\n",
       "<table border=\"1\" class=\"dataframe\">\n",
       "  <thead>\n",
       "    <tr style=\"text-align: right;\">\n",
       "      <th></th>\n",
       "      <th>location</th>\n",
       "      <th>event</th>\n",
       "      <th>date</th>\n",
       "      <th>artists</th>\n",
       "      <th>genre</th>\n",
       "      <th>coordinates</th>\n",
       "    </tr>\n",
       "  </thead>\n",
       "  <tbody>\n",
       "    <tr>\n",
       "      <th>0</th>\n",
       "      <td>Zürich</td>\n",
       "      <td>Andy-Gruber-Band</td>\n",
       "      <td>2016-04-22</td>\n",
       "      <td>['Andy Gruber Band ']</td>\n",
       "      <td>traditional</td>\n",
       "      <td>(47.3768866, 8.541694)</td>\n",
       "    </tr>\n",
       "    <tr>\n",
       "      <th>1</th>\n",
       "      <td>Basel</td>\n",
       "      <td>Lilian's-White-Party</td>\n",
       "      <td>2016-04-22</td>\n",
       "      <td>['DJ Raykard ']</td>\n",
       "      <td>Pop</td>\n",
       "      <td>(47.55959860000001, 7.588576099999999)</td>\n",
       "    </tr>\n",
       "    <tr>\n",
       "      <th>2</th>\n",
       "      <td>Basel</td>\n",
       "      <td>Orgelspiel-zum-Feierabend</td>\n",
       "      <td>2016-04-22</td>\n",
       "      <td>['Martin Sander ']</td>\n",
       "      <td>Classic</td>\n",
       "      <td>(47.55959860000001, 7.588576099999999)</td>\n",
       "    </tr>\n",
       "    <tr>\n",
       "      <th>3</th>\n",
       "      <td>Dietikon</td>\n",
       "      <td>Feierabendmusik</td>\n",
       "      <td>2016-04-22</td>\n",
       "      <td>['Bernhard Hörler ']</td>\n",
       "      <td>Classic</td>\n",
       "      <td>(47.4053885, 8.39977)</td>\n",
       "    </tr>\n",
       "    <tr>\n",
       "      <th>4</th>\n",
       "      <td>Zürich</td>\n",
       "      <td>Oomph</td>\n",
       "      <td>2016-04-22</td>\n",
       "      <td>['Oomph ']</td>\n",
       "      <td>Electronic</td>\n",
       "      <td>(47.3768866, 8.541694)</td>\n",
       "    </tr>\n",
       "  </tbody>\n",
       "</table>\n",
       "</div>"
      ],
      "text/plain": [
       "   location                      event        date                artists  \\\n",
       "0    Zürich           Andy-Gruber-Band  2016-04-22  ['Andy Gruber Band ']   \n",
       "1     Basel       Lilian's-White-Party  2016-04-22        ['DJ Raykard ']   \n",
       "2     Basel  Orgelspiel-zum-Feierabend  2016-04-22     ['Martin Sander ']   \n",
       "3  Dietikon            Feierabendmusik  2016-04-22   ['Bernhard Hörler ']   \n",
       "4    Zürich                      Oomph  2016-04-22             ['Oomph ']   \n",
       "\n",
       "         genre                             coordinates  \n",
       "0  traditional                  (47.3768866, 8.541694)  \n",
       "1          Pop  (47.55959860000001, 7.588576099999999)  \n",
       "2      Classic  (47.55959860000001, 7.588576099999999)  \n",
       "3      Classic                   (47.4053885, 8.39977)  \n",
       "4   Electronic                  (47.3768866, 8.541694)  "
      ]
     },
     "execution_count": 44,
     "metadata": {},
     "output_type": "execute_result"
    }
   ],
   "source": [
    "tmp.head()"
   ]
  }
 ],
 "metadata": {
  "kernelspec": {
   "display_name": "Python 3",
   "language": "python",
   "name": "python3"
  },
  "language_info": {
   "codemirror_mode": {
    "name": "ipython",
    "version": 3
   },
   "file_extension": ".py",
   "mimetype": "text/x-python",
   "name": "python",
   "nbconvert_exporter": "python",
   "pygments_lexer": "ipython3",
   "version": "3.5.2+"
  }
 },
 "nbformat": 4,
 "nbformat_minor": 1
}
