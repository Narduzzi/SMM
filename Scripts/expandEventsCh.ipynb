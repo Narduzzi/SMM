{
 "cells": [
  {
   "cell_type": "markdown",
   "metadata": {},
   "source": [
    "## IPYNB to add a column coordinates with (long, lat) to the data from the website events.ch"
   ]
  },
  {
   "cell_type": "code",
   "execution_count": 1,
   "metadata": {
    "collapsed": false
   },
   "outputs": [],
   "source": [
    "import glob\n",
    "import numpy as np\n",
    "import pandas as pd\n",
    "import LocationUtils as lu\n",
    "dictionaryFile = \"ClubsGeo\""
   ]
  },
  {
   "cell_type": "markdown",
   "metadata": {},
   "source": [
    "Import all csv from the website events.ch"
   ]
  },
  {
   "cell_type": "code",
   "execution_count": 2,
   "metadata": {
    "collapsed": false
   },
   "outputs": [
    {
     "name": "stdout",
     "output_type": "stream",
     "text": [
      "1456\n",
      "(36340, 6)\n"
     ]
    },
    {
     "data": {
      "text/html": [
       "<div>\n",
       "<table border=\"1\" class=\"dataframe\">\n",
       "  <thead>\n",
       "    <tr style=\"text-align: right;\">\n",
       "      <th></th>\n",
       "      <th>Unnamed: 0</th>\n",
       "      <th>location</th>\n",
       "      <th>event</th>\n",
       "      <th>date</th>\n",
       "      <th>artists</th>\n",
       "      <th>genre</th>\n",
       "    </tr>\n",
       "  </thead>\n",
       "  <tbody>\n",
       "    <tr>\n",
       "      <th>0</th>\n",
       "      <td>0</td>\n",
       "      <td>Zürich</td>\n",
       "      <td>Andy-Gruber-Band</td>\n",
       "      <td>2016-04-22</td>\n",
       "      <td>['Andy Gruber Band ']</td>\n",
       "      <td>traditional</td>\n",
       "    </tr>\n",
       "    <tr>\n",
       "      <th>1</th>\n",
       "      <td>1</td>\n",
       "      <td>Basel</td>\n",
       "      <td>Lilian's-White-Party</td>\n",
       "      <td>2016-04-22</td>\n",
       "      <td>['DJ Raykard ']</td>\n",
       "      <td>Pop</td>\n",
       "    </tr>\n",
       "    <tr>\n",
       "      <th>2</th>\n",
       "      <td>2</td>\n",
       "      <td>Basel</td>\n",
       "      <td>Orgelspiel-zum-Feierabend</td>\n",
       "      <td>2016-04-22</td>\n",
       "      <td>['Martin Sander ']</td>\n",
       "      <td>Classic</td>\n",
       "    </tr>\n",
       "    <tr>\n",
       "      <th>3</th>\n",
       "      <td>3</td>\n",
       "      <td>Dietikon</td>\n",
       "      <td>Feierabendmusik</td>\n",
       "      <td>2016-04-22</td>\n",
       "      <td>['Bernhard Hörler ']</td>\n",
       "      <td>Classic</td>\n",
       "    </tr>\n",
       "    <tr>\n",
       "      <th>4</th>\n",
       "      <td>4</td>\n",
       "      <td>Zürich</td>\n",
       "      <td>Oomph</td>\n",
       "      <td>2016-04-22</td>\n",
       "      <td>['Oomph ']</td>\n",
       "      <td>Electronic</td>\n",
       "    </tr>\n",
       "  </tbody>\n",
       "</table>\n",
       "</div>"
      ],
      "text/plain": [
       "   Unnamed: 0  location                      event        date  \\\n",
       "0           0    Zürich           Andy-Gruber-Band  2016-04-22   \n",
       "1           1     Basel       Lilian's-White-Party  2016-04-22   \n",
       "2           2     Basel  Orgelspiel-zum-Feierabend  2016-04-22   \n",
       "3           3  Dietikon            Feierabendmusik  2016-04-22   \n",
       "4           4    Zürich                      Oomph  2016-04-22   \n",
       "\n",
       "                 artists        genre  \n",
       "0  ['Andy Gruber Band ']  traditional  \n",
       "1        ['DJ Raykard ']          Pop  \n",
       "2     ['Martin Sander ']      Classic  \n",
       "3   ['Bernhard Hörler ']      Classic  \n",
       "4             ['Oomph ']   Electronic  "
      ]
     },
     "execution_count": 2,
     "metadata": {},
     "output_type": "execute_result"
    }
   ],
   "source": [
    "files = []\n",
    "files = glob.glob(\"EventsChData/*.csv\")\n",
    "print(len(files))\n",
    "ClubDataFrame = pd.read_csv(files[0])\n",
    "\n",
    "for file in files[1:]:\n",
    "    df= pd.read_csv(file)\n",
    "    ClubDataFrame = ClubDataFrame.append(df,ignore_index = True)\n",
    "    \n",
    "print(ClubDataFrame.shape)\n",
    "ClubDataFrame.head()\n"
   ]
  },
  {
   "cell_type": "markdown",
   "metadata": {},
   "source": [
    "We have this annoying column because the csv was written without \"index=False\" (my bad)."
   ]
  },
  {
   "cell_type": "code",
   "execution_count": 3,
   "metadata": {
    "collapsed": true
   },
   "outputs": [],
   "source": [
    "ClubDataFrame = ClubDataFrame.drop('Unnamed: 0', 1)"
   ]
  },
  {
   "cell_type": "markdown",
   "metadata": {},
   "source": [
    "Check if DF is correct now"
   ]
  },
  {
   "cell_type": "code",
   "execution_count": 4,
   "metadata": {
    "collapsed": false
   },
   "outputs": [
    {
     "data": {
      "text/html": [
       "<div>\n",
       "<table border=\"1\" class=\"dataframe\">\n",
       "  <thead>\n",
       "    <tr style=\"text-align: right;\">\n",
       "      <th></th>\n",
       "      <th>location</th>\n",
       "      <th>event</th>\n",
       "      <th>date</th>\n",
       "      <th>artists</th>\n",
       "      <th>genre</th>\n",
       "    </tr>\n",
       "  </thead>\n",
       "  <tbody>\n",
       "    <tr>\n",
       "      <th>13</th>\n",
       "      <td>Bern</td>\n",
       "      <td>Schuberts-Tragische</td>\n",
       "      <td>2016-04-22</td>\n",
       "      <td>[' Veronika Eberle ']</td>\n",
       "      <td>Classic</td>\n",
       "    </tr>\n",
       "    <tr>\n",
       "      <th>14</th>\n",
       "      <td>Basel</td>\n",
       "      <td>Jazzfestival-Basel</td>\n",
       "      <td>2016-04-22</td>\n",
       "      <td>[' Kenny Garrett ', ' Vernell Brown ', ' Corco...</td>\n",
       "      <td>NaN</td>\n",
       "    </tr>\n",
       "    <tr>\n",
       "      <th>15</th>\n",
       "      <td>null</td>\n",
       "      <td>Konzert</td>\n",
       "      <td>2016-04-22</td>\n",
       "      <td>[' Tine Thing Helseth ']</td>\n",
       "      <td>Classic</td>\n",
       "    </tr>\n",
       "  </tbody>\n",
       "</table>\n",
       "</div>"
      ],
      "text/plain": [
       "   location                event        date  \\\n",
       "13     Bern  Schuberts-Tragische  2016-04-22   \n",
       "14    Basel   Jazzfestival-Basel  2016-04-22   \n",
       "15     null              Konzert  2016-04-22   \n",
       "\n",
       "                                              artists    genre  \n",
       "13                              [' Veronika Eberle ']  Classic  \n",
       "14  [' Kenny Garrett ', ' Vernell Brown ', ' Corco...      NaN  \n",
       "15                           [' Tine Thing Helseth ']  Classic  "
      ]
     },
     "execution_count": 4,
     "metadata": {},
     "output_type": "execute_result"
    }
   ],
   "source": [
    "ClubDataFrame[13:16]"
   ]
  },
  {
   "cell_type": "markdown",
   "metadata": {},
   "source": [
    "run once cells below to populate the dictionary = create entry from \"1020 Renens\" and \"1020;Renens\" to \"Renens\" to avoid some searches."
   ]
  },
  {
   "cell_type": "raw",
   "metadata": {
    "collapsed": false
   },
   "source": [
    "dic = lu.loadDictionary(dictionaryFile)"
   ]
  },
  {
   "cell_type": "raw",
   "metadata": {
    "collapsed": false
   },
   "source": [
    "print(len(dic))"
   ]
  },
  {
   "cell_type": "raw",
   "metadata": {},
   "source": [
    "lu.populateDictionary(dic)"
   ]
  },
  {
   "cell_type": "raw",
   "metadata": {},
   "source": [
    "print(len(dic))"
   ]
  },
  {
   "cell_type": "raw",
   "metadata": {},
   "source": [
    "lu.saveDictionary(dic, \"newDic\")"
   ]
  },
  {
   "cell_type": "code",
   "execution_count": null,
   "metadata": {
    "collapsed": true
   },
   "outputs": [],
   "source": []
  },
  {
   "cell_type": "code",
   "execution_count": 5,
   "metadata": {
    "collapsed": true
   },
   "outputs": [],
   "source": [
    "dic = lu.loadDictionary(\"newDic\")"
   ]
  },
  {
   "cell_type": "code",
   "execution_count": 6,
   "metadata": {
    "collapsed": false
   },
   "outputs": [
    {
     "name": "stdout",
     "output_type": "stream",
     "text": [
      "650\n"
     ]
    }
   ],
   "source": [
    "print(len(dic))"
   ]
  },
  {
   "cell_type": "code",
   "execution_count": 7,
   "metadata": {
    "collapsed": false
   },
   "outputs": [],
   "source": [
    "ClubDataFrame = ClubDataFrame[ClubDataFrame.location != \"null\"]"
   ]
  },
  {
   "cell_type": "markdown",
   "metadata": {},
   "source": [
    "Check if invalid location are gone"
   ]
  },
  {
   "cell_type": "code",
   "execution_count": 8,
   "metadata": {
    "collapsed": false
   },
   "outputs": [
    {
     "data": {
      "text/html": [
       "<div>\n",
       "<table border=\"1\" class=\"dataframe\">\n",
       "  <thead>\n",
       "    <tr style=\"text-align: right;\">\n",
       "      <th></th>\n",
       "      <th>location</th>\n",
       "      <th>event</th>\n",
       "      <th>date</th>\n",
       "      <th>artists</th>\n",
       "      <th>genre</th>\n",
       "    </tr>\n",
       "  </thead>\n",
       "  <tbody>\n",
       "    <tr>\n",
       "      <th>13</th>\n",
       "      <td>Bern</td>\n",
       "      <td>Schuberts-Tragische</td>\n",
       "      <td>2016-04-22</td>\n",
       "      <td>[' Veronika Eberle ']</td>\n",
       "      <td>Classic</td>\n",
       "    </tr>\n",
       "    <tr>\n",
       "      <th>14</th>\n",
       "      <td>Basel</td>\n",
       "      <td>Jazzfestival-Basel</td>\n",
       "      <td>2016-04-22</td>\n",
       "      <td>[' Kenny Garrett ', ' Vernell Brown ', ' Corco...</td>\n",
       "      <td>NaN</td>\n",
       "    </tr>\n",
       "    <tr>\n",
       "      <th>16</th>\n",
       "      <td>Bern</td>\n",
       "      <td>Oli-Kehrli</td>\n",
       "      <td>2016-04-22</td>\n",
       "      <td>['Oli Kehrli ']</td>\n",
       "      <td>Pop</td>\n",
       "    </tr>\n",
       "  </tbody>\n",
       "</table>\n",
       "</div>"
      ],
      "text/plain": [
       "   location                event        date  \\\n",
       "13     Bern  Schuberts-Tragische  2016-04-22   \n",
       "14    Basel   Jazzfestival-Basel  2016-04-22   \n",
       "16     Bern           Oli-Kehrli  2016-04-22   \n",
       "\n",
       "                                              artists    genre  \n",
       "13                              [' Veronika Eberle ']  Classic  \n",
       "14  [' Kenny Garrett ', ' Vernell Brown ', ' Corco...      NaN  \n",
       "16                                    ['Oli Kehrli ']      Pop  "
      ]
     },
     "execution_count": 8,
     "metadata": {},
     "output_type": "execute_result"
    }
   ],
   "source": [
    "ClubDataFrame[13:16]"
   ]
  },
  {
   "cell_type": "code",
   "execution_count": 9,
   "metadata": {
    "collapsed": true
   },
   "outputs": [],
   "source": [
    "def addCoordinatesColumn(df, dictionary=None, location_column_name=\"location\", coordinates_column_name = \"coordinates\",replace=False, inplace = False):\n",
    "    tmp = df.copy()\n",
    "    if(coordinates_column_name in df.columns):\n",
    "        if(replace):\n",
    "            if(inplace):\n",
    "                df.drop(coordinates_column_name,1, inplace=True)\n",
    "            else:\n",
    "                tmp.drop(coordinates_column_name,1, inplace=True)\n",
    "        else:\n",
    "            print(\"column \",coordinates_column_name,\" already in dataframe.\")\n",
    "            return \n",
    "    serie = pd.Series(data = np.nan, index = df.index, dtype = np.dtype)\n",
    "    for (i,r) in df.iterrows():\n",
    "        serie[i]= lu.getLocation(df.loc[i,location_column_name], dictionary)[0]\n",
    "        if(i%128 == 0): \n",
    "            print(i)\n",
    "    if(inplace):\n",
    "        df.insert(len(df.columns), coordinates_column_name,serie)\n",
    "    else: \n",
    "        tmp.insert(len(tmp.columns), coordinates_column_name,serie)\n",
    "        return tmp"
   ]
  },
  {
   "cell_type": "markdown",
   "metadata": {},
   "source": [
    "Add the coordinate column to he dataframe"
   ]
  },
  {
   "cell_type": "code",
   "execution_count": 10,
   "metadata": {
    "collapsed": false
   },
   "outputs": [
    {
     "name": "stdout",
     "output_type": "stream",
     "text": [
      "0\n",
      "out of bounds:  Baden  :  48.56992809999999 , 8.530397199999998\n",
      "out of bounds:  Kuppel  :  50.1810945 , 12.1549795\n",
      "128\n",
      "256\n",
      "out of bounds:  Gampel  :  41.805293 , -72.2544231\n",
      "384\n",
      "out of bounds:  Palais-des-Congrès  :  45.5050927 , -73.5598036\n",
      "out of bounds:  X-tra  :  55.8564658 , 13.0611227\n",
      "512\n",
      "out of bounds:  -Festplatz-am-See  :  49.52110089999999 , 6.667535999999999\n",
      "out of bounds:  Rougemont  :  36.2184752 , -78.926397\n",
      "out of bounds:  Wabern  :  51.1011758 , 9.350158\n",
      "640\n",
      "768\n",
      "out of bounds:  Palace  :  36.11616850000001 , -115.174499\n",
      "out of bounds:  Théâtre-La-Fourmi  :  45.823884 , 1.267253\n",
      "out of bounds:  Usine  :  51.4406171 , 5.475026299999999\n",
      "896\n",
      "out of bounds:  Cully  :  45.565921 , -122.6066627\n",
      "out of bounds:  Vernissage  :  40.9402461 , -74.1618139\n",
      "1024\n",
      "out of bounds:  Altstadt  :  51.2286604 , 6.772650800000001\n",
      "1152\n",
      "out of bounds:  Degen  :  40.70345570000001 , -73.97177959999999\n",
      "out of bounds:  Paléo  :  43.2256401 , -8.3525459\n",
      "out of bounds:  St.-Stephan  :  50.9272436 , 6.9138315\n",
      "out of bounds:  e-198060  :  45.5092974 , -92.2842544\n",
      "out of bounds:  Z7  :  51.30326609999999 , 33.4405563\n",
      "1280\n",
      "out of bounds:  Place-Nova-Friburgo  :  -22.2894838 , -42.53133589999999\n",
      "out of bounds:  Dracula-Club  :  44.43108300000001 , 26.095479\n",
      "out of bounds:  Moods  :  40.75371519999999 , -73.99039479999999\n",
      "1408\n",
      "out of bounds:  Brunnen  :  48.62964330000001 , 11.3077715\n",
      "out of bounds:  Burgdorf  :  45.277123 , -115.9129022\n",
      "out of bounds:  Kirchberg  :  47.4477519 , 12.3151773\n",
      "1664\n",
      "1792\n",
      "out of bounds:  Trimbach  :  48.1949046 , 7.326016000000001\n",
      "out of bounds:  Cham  :  49.2238643 , 12.6620845\n",
      "1920\n",
      "2048\n",
      "2176\n",
      "2304\n",
      "out of bounds:  Marktplatz  :  48.4644042 , 8.410938600000001\n",
      "result using geocode\n",
      "2432\n",
      "out of bounds:  Piazza  :  39.9665611 , -75.1399345\n",
      "2560\n",
      "2688\n",
      "out of bounds:  Waldenburg  :  49.1832843 , 9.6385802\n",
      "2816\n",
      "out of bounds:  Birr  :  53.0980052 , -7.909688200000002\n",
      "2944\n",
      "3072\n",
      "out of bounds:  Piano-di-primo-al-primo-piano  :  45.06775500000001 , 7.690499999999999\n",
      "3200\n",
      "3328\n",
      "3456\n",
      "3584\n",
      "3712\n",
      "3840\n",
      "out of bounds:  Mascotte  :  28.5783313 , -81.8867451\n",
      "3968\n",
      "out of bounds:  Victoria-Hall  :  36.0956884 , -80.24128139999999\n",
      "4096\n",
      "4224\n",
      "out of bounds:  e-198144  :  45.5092974 , -92.2842544\n",
      "out of bounds:  Altes-Stadthaus  :  52.51654569999999 , 13.4122521\n",
      "result using textsearch\n",
      "4352\n",
      "out of bounds:  KiFF  :  19.3813664 , -99.14702659999999\n",
      "out of bounds:  La-Catrina  :  41.85791719999999 , -87.6520331\n",
      "4480\n",
      "out of bounds:  Rathausplatz  :  48.2106286 , 16.3587776\n",
      "out of bounds:  Bar  :  41.3060796 , -72.9304171\n",
      "out of bounds:  Prima-Vista  :  39.1060132 , -84.5563686\n",
      "out of bounds:  Orbital-Garden  :  34.264151 , -118.411071\n",
      "out of bounds:  Helsinki  :  60.16985569999999 , 24.938379\n",
      "4736\n",
      "out of bounds:  Dynamo  :  29.7522497 , -95.35771869999999\n",
      "4864\n",
      "4992\n",
      "5120\n",
      "5376\n",
      "5504\n",
      "5632\n",
      "5760\n",
      "5888\n",
      "6016\n",
      "6144\n",
      "out of bounds:  Mahogany-Hall  :  38.53673560000001 , -121.7582872\n",
      "6272\n",
      "out of bounds:  SAS  :  66.7613451 , 124.1237531\n",
      "6400\n",
      "6528\n",
      "6656\n",
      "6784\n",
      "6912\n",
      "7040\n",
      "out of bounds:  Bar-Rossi  :  53.563762 , 9.959604\n",
      "7296\n",
      "out of bounds:  Mariastein  :  40.415031 , -84.47599799999999\n",
      "7424\n",
      "out of bounds:  S-Event-Hall  :  35.2603356 , -81.19984520000001\n",
      "result using textsearch\n",
      "7552\n",
      "7680\n",
      "7936\n",
      "8064\n",
      "8192\n",
      "8320\n",
      "8448\n",
      "8576\n",
      "8704\n",
      "out of bounds:  -Sud-des-Alpes  :  44.56859840000001 , 6.069875999999999\n",
      "8832\n",
      "8960\n",
      "9088\n",
      "out of bounds:  Mundwerk  :  52.4378867 , 13.2628158\n",
      "9216\n",
      "9344\n",
      "9472\n",
      "out of bounds:  Shine-Bar  :  41.6608142 , -86.18011249999999\n",
      "9600\n",
      "9728\n",
      "9856\n",
      "9984\n",
      "10112\n",
      "out of bounds:  Mozart  :  41.8808731 , -87.69766159999999\n",
      "result using textsearch\n",
      "out of bounds:  Seerestaurant  :  32.3346806 , -90.8578338\n",
      "out of bounds:  Parterre-One  :  52.3311613 , 6.657492299999999\n",
      "10240\n",
      "10368\n",
      "10624\n",
      "out of bounds:  Marly  :  40.1341532 , -75.51275059999999\n",
      "10752\n",
      "out of bounds:  Wangs  :  40.67736419999999 , -73.9825141\n",
      "10880\n",
      "11008\n",
      "11264\n",
      "11392\n",
      "out of bounds:  Widen  :  38.4662066 , -80.8574241\n",
      "11520\n",
      "11648\n",
      "out of bounds:  -Maison-du-Peuple  :  6.3744761 , 2.447124\n",
      "11776\n",
      "out of bounds:  Il-Caffè  :  34.0425531 , -118.2561154\n",
      "out of bounds:  Restaurant  :  44.946804 , -93.298856\n",
      "11904\n",
      "12032\n",
      "out of bounds:  Olsberg  :  51.3556649 , 8.4801828\n",
      "12160\n",
      "result using textsearch\n",
      "out of bounds:  Sonnenberg  :  53.0188689 , 13.0890382\n",
      "12288\n",
      "12416\n",
      "12672\n",
      "out of bounds:  Mokka  :  39.0921701 , -84.49442859999999\n",
      "12928\n",
      "13056\n",
      "13184\n",
      "13312\n",
      "13440\n",
      "13568\n",
      "result using geocode\n",
      "out of bounds:  Amphitheater  :  32.2722975 , -110.9723154\n",
      "13696\n",
      "13824\n",
      "13952\n",
      "14080\n",
      "14208\n",
      "14464\n",
      "out of bounds:  Avegno  :  44.3860983 , 9.162913099999999\n",
      "14592\n",
      "14720\n",
      "14848\n",
      "14976\n",
      "15104\n",
      "out of bounds:  Speicher  :  49.93614050000001 , 6.6374691\n",
      "15232\n",
      "15360\n",
      "out of bounds:  Festivalgelände  :  51.0294994 , 6.9644201\n",
      "15488\n",
      "out of bounds:  -KuZeB  :  35.45513829999999 , 136.7380461\n",
      "15616\n",
      "15744\n",
      "15872\n",
      "16000\n",
      "out of bounds:  District-4  :  35.75007960000001 , 51.5255214\n",
      "16128\n",
      "out of bounds:  Treibhaus  :  47.2675786 , 11.3963948\n",
      "16256\n",
      "16384\n",
      "16512\n",
      "16640\n",
      "16768\n",
      "out of bounds:  Saland  :  32.882092 , -96.7612291\n",
      "17024\n",
      "17152\n",
      "17280\n",
      "17408\n",
      "17536\n",
      "17664\n",
      "17792\n",
      "17920\n",
      "18048\n",
      "18176\n",
      "18304\n",
      "18432\n",
      "18560\n",
      "18688\n",
      "18816\n",
      "18944\n",
      "out of bounds:  Kirchplatz  :  47.677978 , 12.4700462\n",
      "19072\n",
      "out of bounds:  Sportplatz-Kellen  :  51.79495529999999 , 6.159982599999999\n",
      "result using textsearch\n",
      "result using textsearch\n",
      "19200\n",
      "out of bounds:  Estrich  :  51.4035683 , 10.3399075\n",
      "19328\n",
      "19456\n",
      "19584\n",
      "19712\n",
      "19840\n",
      "out of bounds:  Maur  :  44.71106899999999 , 2.198334999999999\n",
      "19968\n",
      "20096\n",
      "20224\n",
      "20352\n",
      "out of bounds:  Gare-du-Nord  :  48.8809481 , 2.3553137\n",
      "20480\n",
      "20608\n",
      "20736\n",
      "20864\n",
      "out of bounds:  Star-Club  :  34.0152881 , -118.4963204\n",
      "out of bounds:  Wald  :  44.5640944 , -123.2772195\n",
      "20992\n",
      "21120\n",
      "out of bounds:  Hinterhof  :  47.61716999999999 , 15.39394\n",
      "21248\n",
      "21376\n",
      "21632\n",
      "21760\n",
      "21888\n",
      "out of bounds:  Rain  :  42.65406369999999 , -73.76634159999999\n",
      "22016\n",
      "22144\n",
      "22272\n",
      "22400\n",
      "22528\n",
      "out of bounds:  Pferderennbahn  :  51.51185799999999 , 7.528938200000001\n",
      "result using textsearch\n",
      "22656\n",
      "22784\n",
      "out of bounds:  Baronessa  :  39.09757999999999 , -77.13532099999999\n",
      "22912\n",
      "23040\n",
      "23168\n",
      "23296\n",
      "23552\n",
      "23680\n",
      "23808\n",
      "23936\n",
      "out of bounds:  e-198056  :  45.5092974 , -92.2842544\n",
      "out of bounds:  e-195155  :  45.5092974 , -92.2842544\n",
      "out of bounds:  e-198057  :  45.5092974 , -92.2842544\n",
      "24064\n",
      "24320\n",
      "24448\n",
      "24576\n",
      "24704\n",
      "24832\n",
      "24960\n",
      "25088\n",
      "25216\n",
      "out of bounds:  Villa-Wahnsinn  :  51.22606189999999 , 6.773688099999998\n",
      "25344\n",
      "25472\n",
      "result using geocode\n",
      "25600\n",
      "25728\n",
      "25856\n",
      "out of bounds:  Krempel  :  54.3169495 , 9.0293969\n",
      "25984\n",
      "26112\n",
      "26240\n",
      "out of bounds:  Sud  :  2.720283199999999 , 11.7068294\n",
      "out of bounds:  Horn  :  48.66607 , 15.65716\n",
      "26368\n",
      "26496\n",
      "out of bounds:  Metronom  :  53.55156059999999 , 10.0063965\n",
      "26624\n",
      "26752\n",
      "26880\n",
      "27008\n",
      "27136\n",
      "27264\n",
      "27392\n",
      "27520\n",
      "27648\n",
      "27776\n",
      "27904\n",
      "28032\n",
      "28160\n",
      "28288\n",
      "28416\n",
      "28544\n",
      "28672\n",
      "out of bounds:  Station-21  :  41.285044 , -70.09836899999999\n",
      "28800\n",
      "28928\n",
      "29056\n",
      "29184\n",
      "29312\n",
      "29440\n",
      "29568\n",
      "29696\n",
      "29824\n",
      "29952\n",
      "out of bounds:  Schlosshof  :  48.21389600000001 , 16.936939\n",
      "30336\n",
      "30464\n",
      "30592\n",
      "30720\n",
      "30848\n",
      "30976\n",
      "31104\n",
      "out of bounds:  Sils  :  41.81090039999999 , 2.743285799999999\n",
      "31232\n",
      "31360\n",
      "31488\n",
      "31616\n",
      "out of bounds:  -Halle-1019  :  39.2038674 , -83.96981889999999\n",
      "out of bounds:  Bar-3000  :  33.500207 , -86.796261\n",
      "31744\n",
      "31872\n",
      "32000\n",
      "32128\n",
      "32256\n",
      "32384\n",
      "out of bounds:  e-194618  :  45.5092974 , -92.2842544\n",
      "32512\n",
      "32640\n",
      "out of bounds:  Bondo  :  -0.1003371 , 34.2754988\n",
      "32768\n",
      "out of bounds:  -Club  :  -35.4665551 , -69.576607\n",
      "32896\n",
      "33024\n",
      "out of bounds:  Kaiserstuhl  :  48.10999999999999 , 7.664166699999998\n",
      "33408\n",
      "33536\n",
      "33664\n",
      "33792\n",
      "33920\n",
      "34048\n",
      "34176\n",
      "34304\n",
      "34432\n",
      "34560\n",
      "34688\n",
      "34816\n",
      "out of bounds:  Nouveau-Monde  :  50.642105 , 2.753868999999999\n",
      "out of bounds:  Cargo-Bar  :  -43.5412104 , 172.6151355\n",
      "out of bounds:  Aaredelta-Grien  :  49.18870099999999 , -123.090339\n",
      "34944\n",
      "out of bounds:  Eisenwerk  :  48.64191 , 14.76976\n",
      "35200\n",
      "35328\n",
      "out of bounds:  Kultwerk  :  47.9828957 , 7.844426899999999\n",
      "35456\n",
      "35584\n",
      "35712\n",
      "35840\n",
      "out of bounds:  Winkel  :  52.7546858 , 4.9024413\n",
      "35968\n",
      "out of bounds:  St.-Urban  :  34.0438618 , -118.4310844\n",
      "36224\n"
     ]
    }
   ],
   "source": [
    "addCoordinatesColumn(ClubDataFrame, dic, inplace=True)"
   ]
  },
  {
   "cell_type": "code",
   "execution_count": 11,
   "metadata": {
    "collapsed": false
   },
   "outputs": [
    {
     "data": {
      "text/html": [
       "<div>\n",
       "<table border=\"1\" class=\"dataframe\">\n",
       "  <thead>\n",
       "    <tr style=\"text-align: right;\">\n",
       "      <th></th>\n",
       "      <th>location</th>\n",
       "      <th>event</th>\n",
       "      <th>date</th>\n",
       "      <th>artists</th>\n",
       "      <th>genre</th>\n",
       "      <th>coordinates</th>\n",
       "    </tr>\n",
       "  </thead>\n",
       "  <tbody>\n",
       "    <tr>\n",
       "      <th>0</th>\n",
       "      <td>Zürich</td>\n",
       "      <td>Andy-Gruber-Band</td>\n",
       "      <td>2016-04-22</td>\n",
       "      <td>['Andy Gruber Band ']</td>\n",
       "      <td>traditional</td>\n",
       "      <td>(47.3768866, 8.541694)</td>\n",
       "    </tr>\n",
       "    <tr>\n",
       "      <th>1</th>\n",
       "      <td>Basel</td>\n",
       "      <td>Lilian's-White-Party</td>\n",
       "      <td>2016-04-22</td>\n",
       "      <td>['DJ Raykard ']</td>\n",
       "      <td>Pop</td>\n",
       "      <td>(47.55959860000001, 7.588576099999999)</td>\n",
       "    </tr>\n",
       "    <tr>\n",
       "      <th>2</th>\n",
       "      <td>Basel</td>\n",
       "      <td>Orgelspiel-zum-Feierabend</td>\n",
       "      <td>2016-04-22</td>\n",
       "      <td>['Martin Sander ']</td>\n",
       "      <td>Classic</td>\n",
       "      <td>(47.55959860000001, 7.588576099999999)</td>\n",
       "    </tr>\n",
       "    <tr>\n",
       "      <th>3</th>\n",
       "      <td>Dietikon</td>\n",
       "      <td>Feierabendmusik</td>\n",
       "      <td>2016-04-22</td>\n",
       "      <td>['Bernhard Hörler ']</td>\n",
       "      <td>Classic</td>\n",
       "      <td>(47.4053885, 8.39977)</td>\n",
       "    </tr>\n",
       "    <tr>\n",
       "      <th>4</th>\n",
       "      <td>Zürich</td>\n",
       "      <td>Oomph</td>\n",
       "      <td>2016-04-22</td>\n",
       "      <td>['Oomph ']</td>\n",
       "      <td>Electronic</td>\n",
       "      <td>(47.3768866, 8.541694)</td>\n",
       "    </tr>\n",
       "  </tbody>\n",
       "</table>\n",
       "</div>"
      ],
      "text/plain": [
       "   location                      event        date                artists  \\\n",
       "0    Zürich           Andy-Gruber-Band  2016-04-22  ['Andy Gruber Band ']   \n",
       "1     Basel       Lilian's-White-Party  2016-04-22        ['DJ Raykard ']   \n",
       "2     Basel  Orgelspiel-zum-Feierabend  2016-04-22     ['Martin Sander ']   \n",
       "3  Dietikon            Feierabendmusik  2016-04-22   ['Bernhard Hörler ']   \n",
       "4    Zürich                      Oomph  2016-04-22             ['Oomph ']   \n",
       "\n",
       "         genre                             coordinates  \n",
       "0  traditional                  (47.3768866, 8.541694)  \n",
       "1          Pop  (47.55959860000001, 7.588576099999999)  \n",
       "2      Classic  (47.55959860000001, 7.588576099999999)  \n",
       "3      Classic                   (47.4053885, 8.39977)  \n",
       "4   Electronic                  (47.3768866, 8.541694)  "
      ]
     },
     "execution_count": 11,
     "metadata": {},
     "output_type": "execute_result"
    }
   ],
   "source": [
    "ClubDataFrame.head()"
   ]
  },
  {
   "cell_type": "markdown",
   "metadata": {},
   "source": [
    "Save the dictionary for further use"
   ]
  },
  {
   "cell_type": "code",
   "execution_count": 12,
   "metadata": {
    "collapsed": false
   },
   "outputs": [],
   "source": [
    "lu.saveDictionary(dic, \"newDic\")"
   ]
  },
  {
   "cell_type": "markdown",
   "metadata": {},
   "source": [
    "We still have events where no coordinates could be found"
   ]
  },
  {
   "cell_type": "code",
   "execution_count": 23,
   "metadata": {
    "collapsed": false
   },
   "outputs": [
    {
     "data": {
      "text/html": [
       "<div>\n",
       "<table border=\"1\" class=\"dataframe\">\n",
       "  <thead>\n",
       "    <tr style=\"text-align: right;\">\n",
       "      <th></th>\n",
       "      <th>location</th>\n",
       "      <th>event</th>\n",
       "      <th>date</th>\n",
       "      <th>artists</th>\n",
       "      <th>genre</th>\n",
       "      <th>coordinates</th>\n",
       "    </tr>\n",
       "  </thead>\n",
       "  <tbody>\n",
       "    <tr>\n",
       "      <th>1270</th>\n",
       "      <td>e-198060</td>\n",
       "      <td>NaN</td>\n",
       "      <td>2013-06-12</td>\n",
       "      <td>['Marco Amherd ']</td>\n",
       "      <td>Classic</td>\n",
       "      <td>(None, None)</td>\n",
       "    </tr>\n",
       "    <tr>\n",
       "      <th>1308</th>\n",
       "      <td>Place-Nova-Friburgo</td>\n",
       "      <td>Estavayer-le-Lac</td>\n",
       "      <td>2013-07-31</td>\n",
       "      <td>['Lilly Wood &amp; The Prick ', ' Jil Is Lucky ']</td>\n",
       "      <td>NaN</td>\n",
       "      <td>(None, None)</td>\n",
       "    </tr>\n",
       "    <tr>\n",
       "      <th>3114</th>\n",
       "      <td>Schmittner-Openair</td>\n",
       "      <td>Schmitten</td>\n",
       "      <td>2013-06-22</td>\n",
       "      <td>['Animals &amp; Friends ']</td>\n",
       "      <td>Redwood</td>\n",
       "      <td>(None, None)</td>\n",
       "    </tr>\n",
       "    <tr>\n",
       "      <th>3133</th>\n",
       "      <td>Piano-di-primo-al-primo-piano</td>\n",
       "      <td>Allschwil</td>\n",
       "      <td>2013-06-22</td>\n",
       "      <td>['Gilad Atzmon &amp; Frank Harrison ']</td>\n",
       "      <td>NaN</td>\n",
       "      <td>(None, None)</td>\n",
       "    </tr>\n",
       "    <tr>\n",
       "      <th>4298</th>\n",
       "      <td>e-198144</td>\n",
       "      <td>NaN</td>\n",
       "      <td>2013-06-16</td>\n",
       "      <td>['Jimmy Cliff ']</td>\n",
       "      <td>NaN</td>\n",
       "      <td>(None, None)</td>\n",
       "    </tr>\n",
       "  </tbody>\n",
       "</table>\n",
       "</div>"
      ],
      "text/plain": [
       "                           location             event        date  \\\n",
       "1270                       e-198060               NaN  2013-06-12   \n",
       "1308            Place-Nova-Friburgo  Estavayer-le-Lac  2013-07-31   \n",
       "3114             Schmittner-Openair         Schmitten  2013-06-22   \n",
       "3133  Piano-di-primo-al-primo-piano         Allschwil  2013-06-22   \n",
       "4298                       e-198144               NaN  2013-06-16   \n",
       "\n",
       "                                            artists    genre   coordinates  \n",
       "1270                              ['Marco Amherd ']  Classic  (None, None)  \n",
       "1308  ['Lilly Wood & The Prick ', ' Jil Is Lucky ']      NaN  (None, None)  \n",
       "3114                         ['Animals & Friends ']  Redwood  (None, None)  \n",
       "3133             ['Gilad Atzmon & Frank Harrison ']      NaN  (None, None)  \n",
       "4298                               ['Jimmy Cliff ']      NaN  (None, None)  "
      ]
     },
     "execution_count": 23,
     "metadata": {},
     "output_type": "execute_result"
    }
   ],
   "source": [
    "ClubDataFrame[ClubDataFrame[\"coordinates\"]==(None, None)].head()"
   ]
  },
  {
   "cell_type": "markdown",
   "metadata": {},
   "source": [
    "Check if (None, None) coordinates are removed"
   ]
  },
  {
   "cell_type": "code",
   "execution_count": 30,
   "metadata": {
    "collapsed": false
   },
   "outputs": [
    {
     "data": {
      "text/html": [
       "<div>\n",
       "<table border=\"1\" class=\"dataframe\">\n",
       "  <thead>\n",
       "    <tr style=\"text-align: right;\">\n",
       "      <th></th>\n",
       "      <th>location</th>\n",
       "      <th>event</th>\n",
       "      <th>date</th>\n",
       "      <th>artists</th>\n",
       "      <th>genre</th>\n",
       "      <th>coordinates</th>\n",
       "    </tr>\n",
       "  </thead>\n",
       "  <tbody>\n",
       "    <tr>\n",
       "      <th>1268</th>\n",
       "      <td>Basel</td>\n",
       "      <td>Masterrezital</td>\n",
       "      <td>2013-06-12</td>\n",
       "      <td>[' Andrea Joy Walker ']</td>\n",
       "      <td>Classic</td>\n",
       "      <td>(47.55959860000001, 7.588576099999999)</td>\n",
       "    </tr>\n",
       "    <tr>\n",
       "      <th>1269</th>\n",
       "      <td>Luzern</td>\n",
       "      <td>Blue-Soul-&amp;-Me</td>\n",
       "      <td>2013-06-12</td>\n",
       "      <td>['Mark Tenger ']</td>\n",
       "      <td>NaN</td>\n",
       "      <td>(47.05016819999999, 8.309307200000001)</td>\n",
       "    </tr>\n",
       "    <tr>\n",
       "      <th>1271</th>\n",
       "      <td>Dübendorf</td>\n",
       "      <td>Christian-Muthspiel-4</td>\n",
       "      <td>2013-06-12</td>\n",
       "      <td>[' Christian Muthspiel ', ' Matthieu Michel ',...</td>\n",
       "      <td>NaN</td>\n",
       "      <td>(47.3971476, 8.618012799999999)</td>\n",
       "    </tr>\n",
       "    <tr>\n",
       "      <th>1272</th>\n",
       "      <td>Salzhaus</td>\n",
       "      <td>Winterthur</td>\n",
       "      <td>2013-06-12</td>\n",
       "      <td>['Element Of Crime ']</td>\n",
       "      <td>NaN</td>\n",
       "      <td>(47.4975354, 8.7222841)</td>\n",
       "    </tr>\n",
       "  </tbody>\n",
       "</table>\n",
       "</div>"
      ],
      "text/plain": [
       "       location                  event        date  \\\n",
       "1268      Basel          Masterrezital  2013-06-12   \n",
       "1269     Luzern         Blue-Soul-&-Me  2013-06-12   \n",
       "1271  Dübendorf  Christian-Muthspiel-4  2013-06-12   \n",
       "1272   Salzhaus             Winterthur  2013-06-12   \n",
       "\n",
       "                                                artists    genre  \\\n",
       "1268                            [' Andrea Joy Walker ']  Classic   \n",
       "1269                                   ['Mark Tenger ']      NaN   \n",
       "1271  [' Christian Muthspiel ', ' Matthieu Michel ',...      NaN   \n",
       "1272                              ['Element Of Crime ']      NaN   \n",
       "\n",
       "                                 coordinates  \n",
       "1268  (47.55959860000001, 7.588576099999999)  \n",
       "1269  (47.05016819999999, 8.309307200000001)  \n",
       "1271         (47.3971476, 8.618012799999999)  \n",
       "1272                 (47.4975354, 8.7222841)  "
      ]
     },
     "execution_count": 30,
     "metadata": {},
     "output_type": "execute_result"
    }
   ],
   "source": [
    "ClubDataFrame = ClubDataFrame[ClubDataFrame[\"coordinates\"]!=(None, None)]\n",
    "ClubDataFrame.loc[1268:1272]"
   ]
  },
  {
   "cell_type": "markdown",
   "metadata": {},
   "source": [
    "Save csv with geographic coordinates"
   ]
  },
  {
   "cell_type": "code",
   "execution_count": 32,
   "metadata": {
    "collapsed": true
   },
   "outputs": [],
   "source": [
    "ClubDataFrame.to_csv(\"EventsChData/completeWithCoordinates.csv\", index=False)"
   ]
  },
  {
   "cell_type": "markdown",
   "metadata": {},
   "source": [
    "Check if write good"
   ]
  },
  {
   "cell_type": "code",
   "execution_count": 34,
   "metadata": {
    "collapsed": false
   },
   "outputs": [],
   "source": [
    "tmp = pd.read_csv(\"EventsChData/completeWithCoordinates.csv\", index_col = False)"
   ]
  },
  {
   "cell_type": "code",
   "execution_count": 35,
   "metadata": {
    "collapsed": false
   },
   "outputs": [
    {
     "data": {
      "text/html": [
       "<div>\n",
       "<table border=\"1\" class=\"dataframe\">\n",
       "  <thead>\n",
       "    <tr style=\"text-align: right;\">\n",
       "      <th></th>\n",
       "      <th>location</th>\n",
       "      <th>event</th>\n",
       "      <th>date</th>\n",
       "      <th>artists</th>\n",
       "      <th>genre</th>\n",
       "      <th>coordinates</th>\n",
       "    </tr>\n",
       "  </thead>\n",
       "  <tbody>\n",
       "    <tr>\n",
       "      <th>0</th>\n",
       "      <td>Zürich</td>\n",
       "      <td>Andy-Gruber-Band</td>\n",
       "      <td>2016-04-22</td>\n",
       "      <td>['Andy Gruber Band ']</td>\n",
       "      <td>traditional</td>\n",
       "      <td>(47.3768866, 8.541694)</td>\n",
       "    </tr>\n",
       "    <tr>\n",
       "      <th>1</th>\n",
       "      <td>Basel</td>\n",
       "      <td>Lilian's-White-Party</td>\n",
       "      <td>2016-04-22</td>\n",
       "      <td>['DJ Raykard ']</td>\n",
       "      <td>Pop</td>\n",
       "      <td>(47.55959860000001, 7.588576099999999)</td>\n",
       "    </tr>\n",
       "    <tr>\n",
       "      <th>2</th>\n",
       "      <td>Basel</td>\n",
       "      <td>Orgelspiel-zum-Feierabend</td>\n",
       "      <td>2016-04-22</td>\n",
       "      <td>['Martin Sander ']</td>\n",
       "      <td>Classic</td>\n",
       "      <td>(47.55959860000001, 7.588576099999999)</td>\n",
       "    </tr>\n",
       "    <tr>\n",
       "      <th>3</th>\n",
       "      <td>Dietikon</td>\n",
       "      <td>Feierabendmusik</td>\n",
       "      <td>2016-04-22</td>\n",
       "      <td>['Bernhard Hörler ']</td>\n",
       "      <td>Classic</td>\n",
       "      <td>(47.4053885, 8.39977)</td>\n",
       "    </tr>\n",
       "    <tr>\n",
       "      <th>4</th>\n",
       "      <td>Zürich</td>\n",
       "      <td>Oomph</td>\n",
       "      <td>2016-04-22</td>\n",
       "      <td>['Oomph ']</td>\n",
       "      <td>Electronic</td>\n",
       "      <td>(47.3768866, 8.541694)</td>\n",
       "    </tr>\n",
       "  </tbody>\n",
       "</table>\n",
       "</div>"
      ],
      "text/plain": [
       "   location                      event        date                artists  \\\n",
       "0    Zürich           Andy-Gruber-Band  2016-04-22  ['Andy Gruber Band ']   \n",
       "1     Basel       Lilian's-White-Party  2016-04-22        ['DJ Raykard ']   \n",
       "2     Basel  Orgelspiel-zum-Feierabend  2016-04-22     ['Martin Sander ']   \n",
       "3  Dietikon            Feierabendmusik  2016-04-22   ['Bernhard Hörler ']   \n",
       "4    Zürich                      Oomph  2016-04-22             ['Oomph ']   \n",
       "\n",
       "         genre                             coordinates  \n",
       "0  traditional                  (47.3768866, 8.541694)  \n",
       "1          Pop  (47.55959860000001, 7.588576099999999)  \n",
       "2      Classic  (47.55959860000001, 7.588576099999999)  \n",
       "3      Classic                   (47.4053885, 8.39977)  \n",
       "4   Electronic                  (47.3768866, 8.541694)  "
      ]
     },
     "execution_count": 35,
     "metadata": {},
     "output_type": "execute_result"
    }
   ],
   "source": [
    "tmp.head()"
   ]
  }
 ],
 "metadata": {
  "kernelspec": {
   "display_name": "Python 3",
   "language": "python",
   "name": "python3"
  },
  "language_info": {
   "codemirror_mode": {
    "name": "ipython",
    "version": 3
   },
   "file_extension": ".py",
   "mimetype": "text/x-python",
   "name": "python",
   "nbconvert_exporter": "python",
   "pygments_lexer": "ipython3",
   "version": "3.5.2+"
  }
 },
 "nbformat": 4,
 "nbformat_minor": 1
}
