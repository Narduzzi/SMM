{
 "cells": [
  {
   "cell_type": "markdown",
   "metadata": {},
   "source": [
    "## Here is the code for linking each event with it's main genre"
   ]
  },
  {
   "cell_type": "code",
   "execution_count": 3,
   "metadata": {
    "collapsed": false
   },
   "outputs": [
    {
     "ename": "TabError",
     "evalue": "inconsistent use of tabs and spaces in indentation (moreFunction.py, line 27)",
     "output_type": "error",
     "traceback": [
      "\u001b[1;36m  File \u001b[1;32m\"C:\\Users\\Simon\\Documents\\EPFL\\Master\\Semestre1\\Applied Data Analysis\\SMM\\Scripts\\moreFunction.py\"\u001b[1;36m, line \u001b[1;32m27\u001b[0m\n\u001b[1;33m    if(len(w) > 3):\u001b[0m\n\u001b[1;37m                   ^\u001b[0m\n\u001b[1;31mTabError\u001b[0m\u001b[1;31m:\u001b[0m inconsistent use of tabs and spaces in indentation\n"
     ]
    }
   ],
   "source": [
    "import numpy as np\n",
    "import ArtistExtractor as AE\n",
    "import pandas as pd\n",
    "import glob\n",
    "import os\n",
    "import LocationUtils as LU\n",
    "from ExtractGenreClubs import SplitLineup\n",
    "from ast import literal_eval\n",
    "import logging\n",
    "import desaggregate\n",
    "import moreFunction"
   ]
  },
  {
   "cell_type": "code",
   "execution_count": null,
   "metadata": {
    "collapsed": false
   },
   "outputs": [],
   "source": [
    "def printToLog(str,filename=\"Log/ArtistAndEventGenre_merging.txt\"):\n",
    "    f = open(filename)\n",
    "    lines = f.readlines()\n",
    "    \n",
    "    print(lines)"
   ]
  },
  {
   "cell_type": "code",
   "execution_count": 278,
   "metadata": {
    "collapsed": false
   },
   "outputs": [],
   "source": [
    "def mergeEventsWithGenres(eventsdf_filename,artists_filename,dictionnaryOfGenres_filename,encoding = \"utf-8\"):\n",
    "    print(\"---BEGIN MERGE----\")\n",
    "    print(\"This script takes approximately one hour to perform\")\n",
    "    events = pd.read_csv(eventsdf_filename, encoding=\"utf-8\")\n",
    "    artists = pd.read_csv(artists_filename, encoding=\"utf-8\")\n",
    "    dictionnaryOfGenres = LU.loadDictionary(dictionnaryOfGenres_filename,enc=\"utf-8\")\n",
    "    \n",
    "    dataframe_merged = events.copy()\n",
    "    \n",
    "    \n",
    "    #Getting columns\n",
    "    columnsArtists = []\n",
    "    columnsEvents = []\n",
    "    for c in artists.columns:\n",
    "        if(\"Unnamed\" not in c):\n",
    "            columnsArtists.append(c)\n",
    "    \n",
    "    for c in events.columns:\n",
    "        if(\"Unnamed\" not in c):\n",
    "            columnsEvents.append(c)\n",
    "           \n",
    "    logging.basicConfig(filename='LOG/merging_events_and_artists.log',level=logging.DEBUG)\n",
    "    \n",
    "    i =0\n",
    "    for id, row in dataframe_merged.iterrows():\n",
    "        logging.info(\"-------------------------------\")\n",
    "        i+=1\n",
    "        #if(i>100000):\n",
    "         #   break\n",
    "        if(i%1000==0):\n",
    "            print(i)\n",
    "            #Saving actual state\n",
    "            artists = artists[columnsArtists]\n",
    "            events = events[columnsEvents]\n",
    "            artists.to_csv(artists_filename.replace(\".csv\",\"_merged.csv\"),encoding=encoding)\n",
    "            events.to_csv(eventsdf_filename.replace(\".csv\",\"_merged.csv\"),encoding=encoding)\n",
    "        \n",
    "        #getting genre\n",
    "        genre = str(row[\"genre\"])\n",
    "        #getting artist\n",
    "        lineup = literal_eval(moreFunctionrow[\"artists\"])\n",
    "        logging.info(lineup)\n",
    "        \n",
    "        #looking for corresponding genre in dictionnary:\n",
    "        maingenre = dictionnaryOfGenres.get(genre.lower())\n",
    "\n",
    "        logging.info(\"event genre is: \"+str(genre)+\"->\"+str(maingenre))\n",
    "\n",
    "        maxGenre = None\n",
    "        #check if artists has a genre to complete artists database\n",
    "        if(maingenre!=\"None\" and maingenre!=None and maingenre in dictionnaryOfGenres):\n",
    "            for a in lineup:\n",
    "                \n",
    "                #Getting value\n",
    "                vals = artists[artists[\"artist\"] == a.strip()][\"genre\"].values\n",
    "                genre_artist = \"None\"\n",
    "                if(len(vals)>0):\n",
    "                    genre_artist = str(vals[0])\n",
    "                    \n",
    "                #Setting artist genre\n",
    "                if(genre_artist==\"nan\" or genre_artist==\"None\"):\n",
    "                    #set genre of artist to genre of event and convert genre in dataframe\n",
    "                    artists.loc[artists[\"artist\"] == a.strip(),\"genre\"] = maingenre.lower()\n",
    "                    maxGenre = maingenre.lower()\n",
    "                    logging.info(str(a)+\"<-\"+maingenre.lower())\n",
    "        \n",
    "        genres_in_lineup = []\n",
    "        \n",
    "        for a in lineup:\n",
    "            \n",
    "            #Getting value\n",
    "            vals = artists[artists[\"artist\"] == a.strip()][\"genre\"].values\n",
    "            genre_artist = \"None\"\n",
    "            if(len(vals)>0):\n",
    "                genre_artist = str(vals[0])\n",
    "                \n",
    "            #Getting corresponding maingenre for this artist   \n",
    "            if(genre_artist!=\"nan\" and genre_artist!=\"None\" and genre_artist!=None):\n",
    "                genres_in_lineup.append(genre_artist)\n",
    "            \n",
    "        #getting most representative genre among all artists\n",
    "        maxGenre = AE.getMaxGenre(genres_in_lineup)\n",
    "        \n",
    "        #If an artist has a genre, then we set the genre of event to this artist genre\n",
    "        if(maxGenre!=None):\n",
    "            logging.info(\"From lineup : \"+str(genres_in_lineup)+\"->\"+str(maxGenre[0]))\n",
    "            if(maxGenre[0] in dictionnaryOfGenres):\n",
    "                events.loc[id,\"genre\"] = maxGenre[0].lower()\n",
    "            else:\n",
    "                #Not in dictionnary\n",
    "                events.loc[id,\"genre\"] = None\n",
    "        else:\n",
    "            events.loc[id,\"genre\"] = None\n",
    "    \n",
    "    artists = artists[columnsArtists]\n",
    "    events = events[columnsEvents]\n",
    "    artists.to_csv(artists_filename.replace(\".csv\",\"_merged.csv\"),encoding=encoding)\n",
    "    events.to_csv(eventsdf_filename.replace(\".csv\",\"_merged.csv\"),encoding=encoding)\n",
    "    \n",
    "    return events,artists"
   ]
  },
  {
   "cell_type": "code",
   "execution_count": 288,
   "metadata": {
    "collapsed": false
   },
   "outputs": [],
   "source": [
    "def extendingGenres(artists_df,dictionnaryOfGenres,debug=False):\n",
    "    genres = list(set(dictionnaryOfGenres.values()))\n",
    "    \n",
    "    #Extending\n",
    "    #Getting columns\n",
    "    columnsArtists = []\n",
    "    for c in artists_df.columns:\n",
    "        if(\"Unnamed\" not in c):\n",
    "            columnsArtists.append(c)\n",
    "    columnsArtists = columnsArtists+genres+[\"total_genres\"]\n",
    "\n",
    "    print(\"Extending columns to these genres :\")\n",
    "    print(columnsArtists)\n",
    "    \n",
    "    i=0\n",
    "    for id,row in artists_df.iterrows():\n",
    "        i+=1\n",
    "        if(debug and i%3000==0):\n",
    "            print(i)\n",
    "        main_genres = row[\"main_genres\"]\n",
    "        \n",
    "        \n",
    "        total = 0.0\n",
    "        \n",
    "        if(main_genres!=None and main_genres!=\"None\"):\n",
    "            total = len(literal_eval(main_genres))\n",
    "            \n",
    "            #Check if artist has a genre (from other dataframes)\n",
    "            if(total==0):\n",
    "                if(raw[\"genre\"]!=None and raw[\"genre\"]!=\"None\"):\n",
    "                    main_genres = list(literal_eval(raw[\"genre\"]))\n",
    "                    artists_df.loc[id,\"main_genres\"] = main_genres\n",
    "                    total = 1.0\n",
    "                \n",
    "        artists_df.loc[id,\"total_genres\"]=total\n",
    "        \n",
    "        #percententage of this genre\n",
    "        for c in genres:\n",
    "            if(total==0):\n",
    "                 artists_df.loc[id,c] = 0.0\n",
    "            else:\n",
    "                artists_df.loc[id,c] = main_genres.count(c)/total\n",
    "\n",
    "    return artists_df"
   ]
  },
  {
   "cell_type": "code",
   "execution_count": 279,
   "metadata": {
    "collapsed": false
   },
   "outputs": [
    {
     "name": "stdout",
     "output_type": "stream",
     "text": [
      "---BEGIN MERGE----\n",
      "This script takes approximately one hour to perform\n",
      "1000\n",
      "2000\n",
      "3000\n",
      "4000\n",
      "5000\n",
      "6000\n",
      "7000\n",
      "8000\n",
      "9000\n",
      "10000\n",
      "11000\n",
      "12000\n",
      "13000\n",
      "14000\n",
      "15000\n",
      "16000\n",
      "17000\n",
      "18000\n",
      "19000\n",
      "20000\n",
      "21000\n",
      "22000\n",
      "23000\n",
      "24000\n",
      "25000\n",
      "26000\n",
      "27000\n",
      "28000\n",
      "29000\n",
      "30000\n",
      "31000\n",
      "32000\n",
      "33000\n",
      "34000\n",
      "35000\n",
      "36000\n",
      "37000\n",
      "38000\n",
      "Extending genres of artists..\n",
      "['artist', 'genres_spotify', 'genres_ra', 'main_genres', 'top3_genres', 'genre', 'all_genres', 'avant-garde', 'latin', 'african', 'r&b and soul', 'jazz', 'classic', 'folklore', 'orchestral', 'hip hop', 'comedy', 'easy listening', 'country', 'blues', 'asian', 'electronic', 'rock', 'pop', 'folk', 'caribbean and caribbean-influenced', 'total_genres']\n",
      "Andy Gruber Band : None->0\n",
      "DJ Raykard : None->0\n",
      "Martin Sander : None->0\n",
      "Bernhard Hörler : None->0\n",
      "Oomph : ['rock', 'rock', 'rock', 'rock', 'electronic', 'jazz', 'latin', 'rock', 'rock', 'rock', 'electronic', 'pop', 'latin', 'hip hop', 'electronic', 'rock', 'rock']->17\n",
      "Plusmacher : ['hip hop', 'hip hop']->2\n",
      "Konstantin Scherbakov : ['orchestral', 'hip hop', 'r&b and soul']->3\n",
      "The Bosshoss : ['pop', 'rock']->2\n",
      "The Sore Loosers : None->0\n",
      "Viper Sniper : None->0\n",
      "T. S. Monk Sextet : None->0\n",
      "Markus Brönnimann : None->0\n",
      "Barbara Tillmann : ['rock', 'hip hop']->2\n",
      "Ulrike Jacoby : None->0\n",
      "Muriel Schweizer : None->0\n",
      "Anita Jehli : None->0\n",
      "Jaël Bertschinger : None->0\n",
      "Esther Fritzsche : None->0\n",
      "Borknagar : ['rock', 'rock', 'rock', 'rock', 'rock', 'rock', 'rock', 'rock', 'rock', 'rock', 'rock', 'rock', 'rock', 'rock', 'rock', 'rock', 'folk', 'hip hop', 'rock', 'rock']->20\n",
      "Kampfar : ['rock', 'rock', 'rock', 'rock', 'rock', 'rock', 'rock', 'rock', 'rock', 'rock', 'rock', 'folk', 'rock', 'hip hop', 'rock']->15\n",
      "Extended.\n",
      "Deaggregatin data..\n",
      "Saving..\n",
      "Done\n"
     ]
    }
   ],
   "source": [
    "eventsdf_filename = \"FullData/EventsAndClubs.csv\"\n",
    "artists_filename = \"FullData/ArtistDF_withGenres.csv\"\n",
    "dictionnaryOfGenres_filename = \"FullData/AllGenresDic\"\n",
    "\n",
    "events,artists = mergeEventsWithGenres(eventsdf_filename,artists_filename,dictionnaryOfGenres_filename)\n"
   ]
  },
  {
   "cell_type": "code",
   "execution_count": 289,
   "metadata": {
    "collapsed": false
   },
   "outputs": [
    {
     "name": "stdout",
     "output_type": "stream",
     "text": [
      "Extending genres of artists..\n",
      "Extending columns to these genres :\n",
      "['artist', 'genres_spotify', 'genres_ra', 'main_genres', 'top3_genres', 'genre', 'all_genres', 'avant-garde', 'latin', 'african', 'r&b and soul', 'jazz', 'classic', 'folklore', 'orchestral', 'hip hop', 'comedy', 'easy listening', 'country', 'blues', 'asian', 'electronic', 'rock', 'pop', 'folk', 'caribbean and caribbean-influenced', 'total_genres', 'avant-garde', 'latin', 'african', 'r&b and soul', 'jazz', 'classic', 'folklore', 'orchestral', 'hip hop', 'comedy', 'easy listening', 'country', 'blues', 'asian', 'electronic', 'rock', 'pop', 'folk', 'caribbean and caribbean-influenced', 'total_genres']\n",
      "3000\n",
      "6000\n",
      "9000\n",
      "12000\n",
      "15000\n",
      "18000\n",
      "21000\n",
      "24000\n",
      "27000\n",
      "30000\n",
      "33000\n",
      "36000\n",
      "39000\n",
      "42000\n",
      "45000\n",
      "Done\n"
     ]
    }
   ],
   "source": [
    "print(\"Extending genres of artists..\")\n",
    "\n",
    "dictionnaryOfGenres_filename = \"FullData/AllGenresDic\"\n",
    "dictionnaryOfGenres = LU.loadDictionary(dictionnaryOfGenres_filename,enc=\"utf-8\")\n",
    "artists_filename = \"FullData/ArtistDF_withGenres_merged.csv\"\n",
    "artists = pd.read_csv(artists_filename,encoding=\"utf-8\")\n",
    "\n",
    "artists = extendingGenres(artists,dictionnaryOfGenres,True)\n",
    "artists.to_csv(artists_filename.replace(\".csv\",\"_merged_ext.csv\"),encoding=\"utf-8\")\n",
    "print(\"Done\")"
   ]
  },
  {
   "cell_type": "code",
   "execution_count": 284,
   "metadata": {
    "collapsed": true
   },
   "outputs": [],
   "source": []
  },
  {
   "cell_type": "code",
   "execution_count": 287,
   "metadata": {
    "collapsed": false
   },
   "outputs": [
    {
     "name": "stdout",
     "output_type": "stream",
     "text": [
      "Deaggregatin data..\n",
      "Saving..\n",
      "Done\n"
     ]
    }
   ],
   "source": [
    "print(\"Deaggregatin data..\")\n",
    "deaggr = desaggregate.desaggregate(events,False)\n",
    "print(\"Saving..\")\n",
    "deaggr.to_csv(artists_filename.replace(\".csv\",\"_merged_deaggr.csv\"),encoding=\"utf-8\")\n",
    "print(\"Done\")"
   ]
  },
  {
   "cell_type": "code",
   "execution_count": 275,
   "metadata": {
    "collapsed": false
   },
   "outputs": [
    {
     "name": "stdout",
     "output_type": "stream",
     "text": [
      "['artist', 'genres_spotify', 'genres_ra', 'main_genres', 'top3_genres', 'genre', 'all_genres', 'avant-garde', 'latin', 'african', 'r&b and soul', 'jazz', 'classic', 'folklore', 'orchestral', 'hip hop', 'comedy', 'easy listening', 'country', 'blues', 'asian', 'electronic', 'rock', 'pop', 'folk', 'caribbean and caribbean-influenced', 'total_genres']\n"
     ]
    },
    {
     "data": {
      "text/plain": [
       "0         0.0\n",
       "1         0.0\n",
       "2         0.0\n",
       "3         0.0\n",
       "4        17.0\n",
       "5         2.0\n",
       "6         3.0\n",
       "7         2.0\n",
       "8         0.0\n",
       "9         0.0\n",
       "10        0.0\n",
       "11        0.0\n",
       "12        2.0\n",
       "13        0.0\n",
       "14        0.0\n",
       "15        0.0\n",
       "16        0.0\n",
       "17        0.0\n",
       "18       20.0\n",
       "19       15.0\n",
       "20        NaN\n",
       "21        NaN\n",
       "22        NaN\n",
       "23        NaN\n",
       "24        NaN\n",
       "25        NaN\n",
       "26        NaN\n",
       "27        NaN\n",
       "28        NaN\n",
       "29        NaN\n",
       "         ... \n",
       "45348     NaN\n",
       "45349     NaN\n",
       "45350     NaN\n",
       "45351     NaN\n",
       "45352     NaN\n",
       "45353     NaN\n",
       "45354     NaN\n",
       "45355     NaN\n",
       "45356     NaN\n",
       "45357     NaN\n",
       "45358     NaN\n",
       "45359     NaN\n",
       "45360     NaN\n",
       "45361     NaN\n",
       "45362     NaN\n",
       "45363     NaN\n",
       "45364     NaN\n",
       "45365     NaN\n",
       "45366     NaN\n",
       "45367     NaN\n",
       "45368     NaN\n",
       "45369     NaN\n",
       "45370     NaN\n",
       "45371     NaN\n",
       "45372     NaN\n",
       "45373     NaN\n",
       "45374     NaN\n",
       "45375     NaN\n",
       "45376     NaN\n",
       "45377     NaN\n",
       "Name: total_genres, dtype: float64"
      ]
     },
     "execution_count": 275,
     "metadata": {},
     "output_type": "execute_result"
    }
   ],
   "source": [
    "artists_filename = \"FullData/ArtistDF_withGenres.csv\"\n",
    "dictionnaryOfGenres_filename = \"FullData/AllGenresDic\"\n",
    "dictionnaryOfGenres = LU.loadDictionary(dictionnaryOfGenres_filename,enc=\"utf-8\")\n",
    "artists_df = pd.read_csv(artists_filename)\n",
    "\n",
    "artists = extendingGenres(artists_df,dictionnaryOfGenres)\n",
    "artists.to_csv(\"FullData/ArtistDF_withGenres_ext.csv\")"
   ]
  },
  {
   "cell_type": "code",
   "execution_count": null,
   "metadata": {
    "collapsed": true
   },
   "outputs": [],
   "source": []
  }
 ],
 "metadata": {
  "anaconda-cloud": {},
  "kernelspec": {
   "display_name": "Python [Root]",
   "language": "python",
   "name": "Python [Root]"
  },
  "language_info": {
   "codemirror_mode": {
    "name": "ipython",
    "version": 3
   },
   "file_extension": ".py",
   "mimetype": "text/x-python",
   "name": "python",
   "nbconvert_exporter": "python",
   "pygments_lexer": "ipython3",
   "version": "3.5.2"
  }
 },
 "nbformat": 4,
 "nbformat_minor": 0
}
