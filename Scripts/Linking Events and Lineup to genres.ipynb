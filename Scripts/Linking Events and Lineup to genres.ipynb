{
 "cells": [
  {
   "cell_type": "markdown",
   "metadata": {},
   "source": [
    "## Here is the code for linking each event with it's main genre"
   ]
  },
  {
   "cell_type": "code",
   "execution_count": 27,
   "metadata": {
    "collapsed": false
   },
   "outputs": [],
   "source": [
    "import numpy as np\n",
    "import ArtistExtractor as AE\n",
    "import pandas as pd\n",
    "import glob\n",
    "import os\n",
    "import LocationUtils as LU\n",
    "from ExtractGenreClubs import SplitLineup\n",
    "from ast import literal_eval\n",
    "import logging\n",
    "import desaggregate\n",
    "import moreFunction"
   ]
  },
  {
   "cell_type": "code",
   "execution_count": 28,
   "metadata": {
    "collapsed": false
   },
   "outputs": [],
   "source": [
    "def printToLog(str,filename=\"Log/ArtistAndEventGenre_merging.txt\"):\n",
    "    f = open(filename)\n",
    "    lines = f.readlines()\n",
    "    \n",
    "    print(lines)"
   ]
  },
  {
   "cell_type": "code",
   "execution_count": 32,
   "metadata": {
    "collapsed": true
   },
   "outputs": [],
   "source": [
    "def cleanArtistDF(artists):\n",
    "    i=0\n",
    "    for id,row in artists.iterrows():\n",
    "        i+=1\n",
    "        if(i>10):\n",
    "            break\n",
    "        artist_list = []\n",
    "        artist = row[\"artist\"]\n",
    "        artist_list.append(artist)\n",
    "        \n",
    "        cleaned_artist = moreFunction.clean_artists(artist_list)\n",
    "        if(len(cleaned_artist)>0):\n",
    "            artists.loc[id,\"artist\"] = cleaned_artist[0]"
   ]
  },
  {
   "cell_type": "code",
   "execution_count": 39,
   "metadata": {
    "collapsed": false
   },
   "outputs": [],
   "source": [
    "def mergeEventsWithGenres(eventsdf_filename,artists_filename,dictionnaryOfGenres_filename,encoding = \"utf-8\"):\n",
    "    print(\"---BEGIN MERGE----\")\n",
    "    print(\"This script takes approximately one hour to perform\")\n",
    "    events = pd.read_csv(eventsdf_filename, encoding=\"utf-8\")\n",
    "    artists = pd.read_csv(artists_filename, encoding=\"utf-8\")\n",
    "    dictionnaryOfGenres = LU.loadDictionary(dictionnaryOfGenres_filename,enc=\"utf-8\")\n",
    "    \n",
    "    dataframe_merged = events.copy()\n",
    "    \n",
    "    cleanArtistDF(artists)\n",
    "    \n",
    "    #Getting columns\n",
    "    columnsArtists = []\n",
    "    columnsEvents = []\n",
    "    for c in artists.columns:\n",
    "        if(\"Unnamed\" not in c):\n",
    "            columnsArtists.append(c)\n",
    "    \n",
    "    for c in events.columns:\n",
    "        if(\"Unnamed\" not in c):\n",
    "            columnsEvents.append(c)\n",
    "           \n",
    "    logging.basicConfig(filename='LOG/merging_events_and_artists.log',level=logging.DEBUG)\n",
    "    \n",
    "    i =0\n",
    "    for id, row in dataframe_merged.iterrows():\n",
    "        logging.info(\"-------------------------------\")\n",
    "        i+=1\n",
    "        if(i%1000==0):\n",
    "            print(i)\n",
    "            #Saving actual state\n",
    "            artists = artists[columnsArtists]\n",
    "            events = events[columnsEvents]\n",
    "            artists.to_csv(artists_filename.replace(\".csv\",\"_merged.csv\"),encoding=encoding)\n",
    "            events.to_csv(eventsdf_filename.replace(\".csv\",\"_merged.csv\"),encoding=encoding)\n",
    "        \n",
    "        #getting genre\n",
    "        genre = str(row[\"genre\"])\n",
    "        #getting artist\n",
    "        lineup = moreFunction.clean_artists(literal_eval(row[\"artists\"]))\n",
    "        #remplace\n",
    "        events.loc[id,\"artists\"] = str(lineup)\n",
    "        logging.info(lineup)\n",
    "        \n",
    "        #looking for corresponding genre in dictionnary:\n",
    "        maingenre = dictionnaryOfGenres.get(genre.lower())\n",
    "\n",
    "        logging.info(\"event genre is: \"+str(genre)+\"->\"+str(maingenre))\n",
    "\n",
    "        maxGenre = None\n",
    "        #check if artists has a genre to complete artists database\n",
    "        if(maingenre!=\"None\" and maingenre!=None and maingenre in dictionnaryOfGenres):\n",
    "            for a in lineup:\n",
    "                \n",
    "                #Getting value\n",
    "                vals = artists[artists[\"artist\"] == a.strip()][\"genre\"].values\n",
    "                genre_artist = \"None\"\n",
    "                if(len(vals)>0):\n",
    "                    genre_artist = str(vals[0])\n",
    "                    \n",
    "                #Setting artist genre\n",
    "                if(genre_artist==\"nan\" or genre_artist==\"None\"):\n",
    "                    #set genre of artist to genre of event and convert genre in dataframe\n",
    "                    artists.loc[artists[\"artist\"] == a.strip(),\"genre\"] = maingenre.lower()\n",
    "                    maxGenre = maingenre.lower()\n",
    "                    logging.info(str(a)+\"<-\"+maingenre.lower())\n",
    "        \n",
    "        genres_in_lineup = []\n",
    "        \n",
    "        for a in lineup:\n",
    "            \n",
    "            #Getting value\n",
    "            vals = artists[artists[\"artist\"] == a.strip()][\"genre\"].values\n",
    "            genre_artist = \"None\"\n",
    "            if(len(vals)>0):\n",
    "                genre_artist = str(vals[0])\n",
    "                \n",
    "            #Getting corresponding maingenre for this artist   \n",
    "            if(genre_artist!=\"nan\" and genre_artist!=\"None\" and genre_artist!=None):\n",
    "                genres_in_lineup.append(genre_artist)\n",
    "            \n",
    "        #getting most representative genre among all artists\n",
    "        maxGenre = AE.getMaxGenre(genres_in_lineup)\n",
    "        \n",
    "        #If an artist has a genre, then we set the genre of event to this artist genre\n",
    "        if(maxGenre!=None):\n",
    "            logging.info(\"From lineup : \"+str(genres_in_lineup)+\"->\"+str(maxGenre[0]))\n",
    "            if(maxGenre[0] in dictionnaryOfGenres):\n",
    "                events.loc[id,\"genre\"] = maxGenre[0].lower()\n",
    "            else:\n",
    "                #Not in dictionnary\n",
    "                events.loc[id,\"genre\"] = None\n",
    "        else:\n",
    "            events.loc[id,\"genre\"] = None\n",
    "    \n",
    "    artists = artists[columnsArtists]\n",
    "    events = events[columnsEvents]\n",
    "    artists.to_csv(artists_filename.replace(\".csv\",\"_merged.csv\"),encoding=encoding)\n",
    "    events.to_csv(eventsdf_filename.replace(\".csv\",\"_merged.csv\"),encoding=encoding)\n",
    "    \n",
    "    return events,artists"
   ]
  },
  {
   "cell_type": "code",
   "execution_count": 40,
   "metadata": {
    "collapsed": false
   },
   "outputs": [],
   "source": [
    "def extendingGenres(artists_df,dictionnaryOfGenres,debug=False):\n",
    "    genres = list(set(dictionnaryOfGenres.values()))\n",
    "    genres.append(\"unknown\")\n",
    "    \n",
    "    #Extending\n",
    "    #Getting columns\n",
    "    columnsArtists = []\n",
    "    for c in artists_df.columns:\n",
    "        if(\"Unnamed\" not in c):\n",
    "            columnsArtists.append(c)\n",
    "    columnsArtists = columnsArtists+genres+[\"total_genres\"]\n",
    "\n",
    "    print(\"Extending columns to these genres :\")\n",
    "    print(columnsArtists)\n",
    "    \n",
    "    i=0\n",
    "    for id,row in artists_df.iterrows():\n",
    "        i+=1\n",
    "        if(debug and i%3000==0):\n",
    "            print(i)\n",
    "        main_genres = row[\"main_genres\"]\n",
    "        \n",
    "        \n",
    "        total = 0.0\n",
    "        \n",
    "        if(main_genres!=None and main_genres!=\"None\"):\n",
    "            total = len(literal_eval(main_genres))\n",
    "            \n",
    "            #Check if artist has a genre (from other dataframes)\n",
    "            if(total==0):\n",
    "                if(raw[\"genre\"]!=None and raw[\"genre\"]!=\"None\"):\n",
    "                    main_genres = list(literal_eval(raw[\"genre\"]))\n",
    "                    artists_df.loc[id,\"main_genres\"] = main_genres\n",
    "                    total = 1.0\n",
    "                \n",
    "        artists_df.loc[id,\"total_genres\"]=total\n",
    "        \n",
    "        #percententage of this genre\n",
    "        for c in genres:\n",
    "            if(total==0):\n",
    "                artists_df.loc[id,c] = 0.0\n",
    "                artists_df.loc[id,\"unknown\"]=1.0\n",
    "            else:\n",
    "                artists_df.loc[id,c] = main_genres.count(c)/total\n",
    "\n",
    "    return artists_df"
   ]
  },
  {
   "cell_type": "code",
   "execution_count": 41,
   "metadata": {
    "collapsed": false
   },
   "outputs": [
    {
     "name": "stdout",
     "output_type": "stream",
     "text": [
      "---BEGIN MERGE----\n",
      "This script takes approximately one hour to perform\n",
      "1000\n",
      "2000\n",
      "3000\n",
      "4000\n",
      "5000\n",
      "6000\n",
      "7000\n",
      "8000\n",
      "9000\n",
      "10000\n",
      "11000\n",
      "12000\n",
      "13000\n",
      "14000\n",
      "15000\n",
      "16000\n",
      "17000\n",
      "18000\n",
      "19000\n",
      "20000\n",
      "21000\n",
      "22000\n",
      "23000\n",
      "24000\n",
      "25000\n",
      "26000\n",
      "27000\n",
      "28000\n",
      "29000\n",
      "30000\n",
      "31000\n",
      "32000\n",
      "33000\n",
      "34000\n"
     ]
    },
    {
     "ename": "TypeError",
     "evalue": "Can't convert 'builtin_function_or_method' object to str implicitly",
     "output_type": "error",
     "traceback": [
      "\u001b[1;31m---------------------------------------------------------------------------\u001b[0m",
      "\u001b[1;31mTypeError\u001b[0m                                 Traceback (most recent call last)",
      "\u001b[1;32m<ipython-input-41-7630c098fc84>\u001b[0m in \u001b[0;36m<module>\u001b[1;34m()\u001b[0m\n\u001b[0;32m      3\u001b[0m \u001b[0mdictionnaryOfGenres_filename\u001b[0m \u001b[1;33m=\u001b[0m \u001b[1;34m\"FullData/AllGenresDic\"\u001b[0m\u001b[1;33m\u001b[0m\u001b[0m\n\u001b[0;32m      4\u001b[0m \u001b[1;33m\u001b[0m\u001b[0m\n\u001b[1;32m----> 5\u001b[1;33m \u001b[0mevents\u001b[0m\u001b[1;33m,\u001b[0m\u001b[0martists\u001b[0m \u001b[1;33m=\u001b[0m \u001b[0mmergeEventsWithGenres\u001b[0m\u001b[1;33m(\u001b[0m\u001b[0meventsdf_filename\u001b[0m\u001b[1;33m,\u001b[0m\u001b[0martists_filename\u001b[0m\u001b[1;33m,\u001b[0m\u001b[0mdictionnaryOfGenres_filename\u001b[0m\u001b[1;33m)\u001b[0m\u001b[1;33m\u001b[0m\u001b[0m\n\u001b[0m\u001b[0;32m      6\u001b[0m \u001b[0ma\u001b[0m \u001b[1;33m=\u001b[0m \u001b[0mpd\u001b[0m\u001b[1;33m.\u001b[0m\u001b[0mread_csv\u001b[0m\u001b[1;33m(\u001b[0m\u001b[0martists_filename\u001b[0m\u001b[1;33m)\u001b[0m\u001b[1;33m\u001b[0m\u001b[0m\n\u001b[0;32m      7\u001b[0m \u001b[0ma\u001b[0m\u001b[1;33m\u001b[0m\u001b[0m\n",
      "\u001b[1;32m<ipython-input-39-d6e815bea93d>\u001b[0m in \u001b[0;36mmergeEventsWithGenres\u001b[1;34m(eventsdf_filename, artists_filename, dictionnaryOfGenres_filename, encoding)\u001b[0m\n\u001b[0;32m     38\u001b[0m         \u001b[0mgenre\u001b[0m \u001b[1;33m=\u001b[0m \u001b[0mstr\u001b[0m\u001b[1;33m(\u001b[0m\u001b[0mrow\u001b[0m\u001b[1;33m[\u001b[0m\u001b[1;34m\"genre\"\u001b[0m\u001b[1;33m]\u001b[0m\u001b[1;33m)\u001b[0m\u001b[1;33m\u001b[0m\u001b[0m\n\u001b[0;32m     39\u001b[0m         \u001b[1;31m#getting artist\u001b[0m\u001b[1;33m\u001b[0m\u001b[1;33m\u001b[0m\u001b[0m\n\u001b[1;32m---> 40\u001b[1;33m         \u001b[0mlineup\u001b[0m \u001b[1;33m=\u001b[0m \u001b[0mmoreFunction\u001b[0m\u001b[1;33m.\u001b[0m\u001b[0mclean_artists\u001b[0m\u001b[1;33m(\u001b[0m\u001b[0mliteral_eval\u001b[0m\u001b[1;33m(\u001b[0m\u001b[0mrow\u001b[0m\u001b[1;33m[\u001b[0m\u001b[1;34m\"artists\"\u001b[0m\u001b[1;33m]\u001b[0m\u001b[1;33m)\u001b[0m\u001b[1;33m)\u001b[0m\u001b[1;33m\u001b[0m\u001b[0m\n\u001b[0m\u001b[0;32m     41\u001b[0m         \u001b[1;31m#remplace\u001b[0m\u001b[1;33m\u001b[0m\u001b[1;33m\u001b[0m\u001b[0m\n\u001b[0;32m     42\u001b[0m         \u001b[0mevents\u001b[0m\u001b[1;33m.\u001b[0m\u001b[0mloc\u001b[0m\u001b[1;33m[\u001b[0m\u001b[0mid\u001b[0m\u001b[1;33m,\u001b[0m\u001b[1;34m\"artists\"\u001b[0m\u001b[1;33m]\u001b[0m \u001b[1;33m=\u001b[0m \u001b[0mstr\u001b[0m\u001b[1;33m(\u001b[0m\u001b[0mlineup\u001b[0m\u001b[1;33m)\u001b[0m\u001b[1;33m\u001b[0m\u001b[0m\n",
      "\u001b[1;32mC:\\Users\\Simon\\Documents\\EPFL\\Master\\Semestre1\\Applied Data Analysis\\SMM\\Scripts\\moreFunction.py\u001b[0m in \u001b[0;36mclean_artists\u001b[1;34m(artists)\u001b[0m\n\u001b[0;32m     11\u001b[0m                         \u001b[0mword_list\u001b[0m \u001b[1;33m=\u001b[0m \u001b[0msplit_string\u001b[0m\u001b[1;33m(\u001b[0m\u001b[0ms\u001b[0m\u001b[1;33m)\u001b[0m\u001b[1;33m\u001b[0m\u001b[0m\n\u001b[0;32m     12\u001b[0m                         \u001b[0mword_list\u001b[0m \u001b[1;33m=\u001b[0m \u001b[0mremove_parenthesis\u001b[0m\u001b[1;33m(\u001b[0m\u001b[0mword_list\u001b[0m\u001b[1;33m)\u001b[0m\u001b[1;33m\u001b[0m\u001b[0m\n\u001b[1;32m---> 13\u001b[1;33m                         \u001b[0mword_list\u001b[0m \u001b[1;33m=\u001b[0m \u001b[0mremove_words\u001b[0m\u001b[1;33m(\u001b[0m\u001b[0mword_list\u001b[0m\u001b[1;33m)\u001b[0m\u001b[1;33m\u001b[0m\u001b[0m\n\u001b[0m\u001b[0;32m     14\u001b[0m \u001b[1;33m\u001b[0m\u001b[0m\n\u001b[0;32m     15\u001b[0m                         \u001b[1;32mif\u001b[0m\u001b[1;33m(\u001b[0m\u001b[0mlen\u001b[0m\u001b[1;33m(\u001b[0m\u001b[0mword_list\u001b[0m\u001b[1;33m)\u001b[0m \u001b[1;33m==\u001b[0m \u001b[1;36m1\u001b[0m\u001b[1;33m)\u001b[0m\u001b[1;33m:\u001b[0m\u001b[1;33m\u001b[0m\u001b[0m\n",
      "\u001b[1;32mC:\\Users\\Simon\\Documents\\EPFL\\Master\\Semestre1\\Applied Data Analysis\\SMM\\Scripts\\moreFunction.py\u001b[0m in \u001b[0;36mremove_words\u001b[1;34m(word_list)\u001b[0m\n\u001b[0;32m     69\u001b[0m         \u001b[0mres\u001b[0m \u001b[1;33m=\u001b[0m \u001b[1;33m[\u001b[0m\u001b[1;33m]\u001b[0m\u001b[1;33m\u001b[0m\u001b[0m\n\u001b[0;32m     70\u001b[0m         \u001b[1;32mfor\u001b[0m \u001b[0ms\u001b[0m \u001b[1;32min\u001b[0m \u001b[0mword_list\u001b[0m\u001b[1;33m:\u001b[0m\u001b[1;33m\u001b[0m\u001b[0m\n\u001b[1;32m---> 71\u001b[1;33m                 \u001b[0mr\u001b[0m \u001b[1;33m=\u001b[0m \u001b[0mremove_hours\u001b[0m\u001b[1;33m(\u001b[0m\u001b[0ms\u001b[0m\u001b[1;33m)\u001b[0m\u001b[1;33m\u001b[0m\u001b[0m\n\u001b[0m\u001b[0;32m     72\u001b[0m                 \u001b[1;32mfor\u001b[0m \u001b[0mf\u001b[0m \u001b[1;32min\u001b[0m \u001b[0mforbidden_words\u001b[0m\u001b[1;33m:\u001b[0m\u001b[1;33m\u001b[0m\u001b[0m\n\u001b[0;32m     73\u001b[0m                         \u001b[1;32mif\u001b[0m \u001b[0mf\u001b[0m \u001b[1;32min\u001b[0m \u001b[0mr\u001b[0m\u001b[1;33m:\u001b[0m\u001b[1;33m\u001b[0m\u001b[0m\n",
      "\u001b[1;32mC:\\Users\\Simon\\Documents\\EPFL\\Master\\Semestre1\\Applied Data Analysis\\SMM\\Scripts\\moreFunction.py\u001b[0m in \u001b[0;36mremove_hours\u001b[1;34m(string)\u001b[0m\n\u001b[0;32m     62\u001b[0m         \u001b[0mres\u001b[0m \u001b[1;33m=\u001b[0m \u001b[0mstring\u001b[0m\u001b[1;33m\u001b[0m\u001b[0m\n\u001b[0;32m     63\u001b[0m         \u001b[1;32mif\u001b[0m\u001b[1;33m(\u001b[0m\u001b[0mt\u001b[0m\u001b[1;33m!=\u001b[0m\u001b[1;32mNone\u001b[0m\u001b[1;33m)\u001b[0m\u001b[1;33m:\u001b[0m\u001b[1;33m\u001b[0m\u001b[0m\n\u001b[1;32m---> 64\u001b[1;33m                 \u001b[0mres\u001b[0m \u001b[1;33m=\u001b[0m \u001b[0mstring\u001b[0m\u001b[1;33m.\u001b[0m\u001b[0mreplace\u001b[0m\u001b[1;33m(\u001b[0m\u001b[0mt\u001b[0m\u001b[1;33m.\u001b[0m\u001b[0mgroup\u001b[0m\u001b[1;33m,\u001b[0m \u001b[1;34m''\u001b[0m\u001b[1;33m)\u001b[0m\u001b[1;33m\u001b[0m\u001b[0m\n\u001b[0m\u001b[0;32m     65\u001b[0m         \u001b[1;32mreturn\u001b[0m \u001b[0mres\u001b[0m\u001b[1;33m\u001b[0m\u001b[0m\n\u001b[0;32m     66\u001b[0m \u001b[1;33m\u001b[0m\u001b[0m\n",
      "\u001b[1;31mTypeError\u001b[0m: Can't convert 'builtin_function_or_method' object to str implicitly"
     ]
    }
   ],
   "source": [
    "eventsdf_filename = \"FullData/EventsAndClubs.csv\"\n",
    "artists_filename = \"FullData/ArtistDF_withGenres.csv\"\n",
    "dictionnaryOfGenres_filename = \"FullData/AllGenresDic\"\n",
    "\n",
    "events,artists = mergeEventsWithGenres(eventsdf_filename,artists_filename,dictionnaryOfGenres_filename)\n",
    "a = pd.read_csv(artists_filename)\n",
    "a"
   ]
  },
  {
   "cell_type": "code",
   "execution_count": null,
   "metadata": {
    "collapsed": false
   },
   "outputs": [],
   "source": [
    "print(\"Extending genres of artists..\")\n",
    "\n",
    "dictionnaryOfGenres_filename = \"FullData/AllGenresDic\"\n",
    "dictionnaryOfGenres = LU.loadDictionary(dictionnaryOfGenres_filename,enc=\"utf-8\")\n",
    "artists_filename = \"FullData/ArtistDF_withGenres_merged.csv\"\n",
    "artists = pd.read_csv(artists_filename,encoding=\"utf-8\")\n",
    "\n",
    "artists = extendingGenres(artists,dictionnaryOfGenres,True)\n",
    "artists.to_csv(artists_filename.replace(\".csv\",\"_merged_ext.csv\"),encoding=\"utf-8\")\n",
    "print(\"Done\")"
   ]
  },
  {
   "cell_type": "code",
   "execution_count": null,
   "metadata": {
    "collapsed": true
   },
   "outputs": [],
   "source": []
  },
  {
   "cell_type": "code",
   "execution_count": null,
   "metadata": {
    "collapsed": false
   },
   "outputs": [],
   "source": [
    "print(\"Deaggregatin data..\")\n",
    "deaggr = desaggregate.desaggregate(events,False)\n",
    "print(\"Saving..\")\n",
    "deaggr.to_csv(artists_filename.replace(\".csv\",\"_merged_deaggr.csv\"),encoding=\"utf-8\")\n",
    "print(\"Done\")"
   ]
  },
  {
   "cell_type": "code",
   "execution_count": null,
   "metadata": {
    "collapsed": false
   },
   "outputs": [],
   "source": [
    "artists_filename = \"FullData/ArtistDF_withGenres.csv\"\n",
    "dictionnaryOfGenres_filename = \"FullData/AllGenresDic\"\n",
    "dictionnaryOfGenres = LU.loadDictionary(dictionnaryOfGenres_filename,enc=\"utf-8\")\n",
    "artists_df = pd.read_csv(artists_filename)\n",
    "\n",
    "artists = extendingGenres(artists_df,dictionnaryOfGenres)\n",
    "artists.to_csv(\"FullData/ArtistDF_withGenres_ext.csv\")"
   ]
  },
  {
   "cell_type": "code",
   "execution_count": null,
   "metadata": {
    "collapsed": true
   },
   "outputs": [],
   "source": []
  }
 ],
 "metadata": {
  "anaconda-cloud": {},
  "kernelspec": {
   "display_name": "Python [Root]",
   "language": "python",
   "name": "Python [Root]"
  },
  "language_info": {
   "codemirror_mode": {
    "name": "ipython",
    "version": 3
   },
   "file_extension": ".py",
   "mimetype": "text/x-python",
   "name": "python",
   "nbconvert_exporter": "python",
   "pygments_lexer": "ipython3",
   "version": "3.5.2"
  }
 },
 "nbformat": 4,
 "nbformat_minor": 0
}
