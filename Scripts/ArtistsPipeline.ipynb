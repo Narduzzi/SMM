{
 "cells": [
  {
   "cell_type": "code",
   "execution_count": 1,
   "metadata": {
    "collapsed": false
   },
   "outputs": [],
   "source": [
    "import pandas as pd\n",
    "import numpy as np\n",
    "import sys\n",
    "sys.path.insert(0,'Utils')\n",
    "import ArtistExtractor as AE\n",
    "from ast import literal_eval\n",
    "import moreFunction"
   ]
  },
  {
   "cell_type": "code",
   "execution_count": 2,
   "metadata": {
    "collapsed": false
   },
   "outputs": [
    {
     "data": {
      "text/html": [
       "<div>\n",
       "<table border=\"1\" class=\"dataframe\">\n",
       "  <thead>\n",
       "    <tr style=\"text-align: right;\">\n",
       "      <th></th>\n",
       "      <th>place</th>\n",
       "      <th>src</th>\n",
       "      <th>address</th>\n",
       "      <th>location</th>\n",
       "      <th>canton</th>\n",
       "      <th>event</th>\n",
       "      <th>date</th>\n",
       "      <th>artists</th>\n",
       "      <th>genre</th>\n",
       "      <th>coordinates</th>\n",
       "    </tr>\n",
       "  </thead>\n",
       "  <tbody>\n",
       "    <tr>\n",
       "      <th>0</th>\n",
       "      <td>test</td>\n",
       "      <td>club</td>\n",
       "      <td>address</td>\n",
       "      <td>location_test</td>\n",
       "      <td>NE</td>\n",
       "      <td>simsalabim</td>\n",
       "      <td>2002-22-02</td>\n",
       "      <td>['Joachim Garraud', '**David Guetta**', 'Pante...</td>\n",
       "      <td>Classique</td>\n",
       "      <td>(1.0,1.0)</td>\n",
       "    </tr>\n",
       "    <tr>\n",
       "      <th>1</th>\n",
       "      <td>test2</td>\n",
       "      <td>club</td>\n",
       "      <td>address</td>\n",
       "      <td>location_test</td>\n",
       "      <td>VD</td>\n",
       "      <td>simsalabim</td>\n",
       "      <td>2002-22-02</td>\n",
       "      <td>['02:20 - Rihanna', \" Drum'n'bass\", 'David Gue...</td>\n",
       "      <td>Pop</td>\n",
       "      <td>(1.0,1.0)</td>\n",
       "    </tr>\n",
       "  </tbody>\n",
       "</table>\n",
       "</div>"
      ],
      "text/plain": [
       "   place   src  address       location canton       event        date  \\\n",
       "0   test  club  address  location_test     NE  simsalabim  2002-22-02   \n",
       "1  test2  club  address  location_test     VD  simsalabim  2002-22-02   \n",
       "\n",
       "                                             artists      genre coordinates  \n",
       "0  ['Joachim Garraud', '**David Guetta**', 'Pante...  Classique   (1.0,1.0)  \n",
       "1  ['02:20 - Rihanna', \" Drum'n'bass\", 'David Gue...        Pop   (1.0,1.0)  "
      ]
     },
     "execution_count": 2,
     "metadata": {},
     "output_type": "execute_result"
    }
   ],
   "source": [
    "columns = [\"place\",\"src\",\"address\",\"location\",\"canton\",\"event\",\"date\",\"artists\",\"genre\",\"coordinates\"]\n",
    "a = pd.DataFrame(columns=[columns])\n",
    "lineup1 = [\"Joachim Garraud\",\"**David Guetta**\",\"Panteros666 ✱ ✲\",\"Rihanna (Live)\"]\n",
    "lineup2 = [\"02:20 - Rihanna\", \" Drum'n'bass\", \"David Guetta\"]\n",
    "a.loc[0] = [\"test\",\"club\",\"address\",\"location_test\",\"NE\",\"simsalabim\",\"2002-22-02\",str(lineup1),\"Classique\",\"(1.0,1.0)\"]\n",
    "a.loc[1] = [\"test2\",\"club\",\"address\",\"location_test\",\"VD\",\"simsalabim\",\"2002-22-02\",str(lineup2),\"Pop\",\"(1.0,1.0)\"]\n",
    "a"
   ]
  },
  {
   "cell_type": "code",
   "execution_count": 3,
   "metadata": {
    "collapsed": false
   },
   "outputs": [],
   "source": [
    "def getArtistsList(df):\n",
    "    ArtistsDataFrame = pd.DataFrame()\n",
    "    i=0\n",
    "    for index,row in df.iterrows():\n",
    "        lineup = row[\"artists\"] #get line-up\n",
    "        artists = literal_eval(lineup)\n",
    "        for a in artists:\n",
    "            a = a.split(\"(\")[0]#Remove parenthesis at end of artist (record label, live act..)\n",
    "\n",
    "            artist_list = []\n",
    "            artist_list.append(a)\n",
    "            cleaned_artist = moreFunction.clean_artists(artist_list)\n",
    "            if(len(cleaned_artist)>0):\n",
    "                a = cleaned_artist[0]\n",
    "            a = pd.Series(a.strip())\n",
    "            ArtistsDataFrame = ArtistsDataFrame.append(a,ignore_index=True)\n",
    "        i+=1\n",
    "        if(i%5000==0):\n",
    "            print(i)\n",
    "\n",
    "    ArtistsDataFrame.columns=[\"artist\"]\n",
    "    #ArtistsDataFrame.to_csv(\"ClubDataTest/ArtistsList.csv\",encoding=\"utf-8\")\n",
    "    #ArtistsDataFrame.head(10)\n",
    "    return ArtistsDataFrame.drop_duplicates()"
   ]
  },
  {
   "cell_type": "code",
   "execution_count": 4,
   "metadata": {
    "collapsed": false
   },
   "outputs": [],
   "source": [
    "artists = getArtistsList(a)"
   ]
  },
  {
   "cell_type": "code",
   "execution_count": 5,
   "metadata": {
    "collapsed": true
   },
   "outputs": [],
   "source": [
    "def downloadGenresSpotify(artistsDF,dictionarySpotify=None,begin=0,end=100000):\n",
    "\n",
    "    Artists = artistsDF.copy()\n",
    "    Artists = Artists.drop_duplicates().reset_index()[[\"artist\"]]\n",
    "    Artists.columns=[\"artist\"]\n",
    "    Artists[\"genres_spotify\"]=None\n",
    "    Artists[\"genres_ra\"]=None\n",
    "    Artists[\"genres_wiki\"]=None\n",
    "    Artists[\"main_genres\"]=None\n",
    "    Artists[\"top3_genres\"]=None\n",
    "    Artists[\"genre\"]=None    \n",
    "    \n",
    "    if(end>Artists.shape[0]):\n",
    "        end = Artists.shape[0]\n",
    "        \n",
    "    if(dictionarySpotify==None):\n",
    "            dictionarySpotify = {}\n",
    "    \n",
    "    print(\"Downloading genres of \"+str(end-begin)+\" artist...\")\n",
    "    last_read = 0\n",
    "    for i in range(begin,end):\n",
    "        S = Artists[Artists.index==i]\n",
    "        artist = S[\"artist\"].values[0]\n",
    "        genres_spotify=None\n",
    "        if(dictionarySpotify!=None and artist in dictionarySpotify):\n",
    "            print(artist +\"in dic spotify\")\n",
    "            genres_spotify = dictionarySpotify.get(artist)\n",
    "        else:\n",
    "            genres_spotify = AE.getGenresFromSpotify(artist)\n",
    "            dictionarySpotify.update({artist : genres_spotify})\n",
    "            \n",
    "        \n",
    "        if(len(genres_spotify)<1):\n",
    "            genres_spotify = None\n",
    "        Artists.loc[Artists.index==i,\"genres_spotify\"] = str(genres_spotify)\n",
    "\n",
    "    print(\"Updatig spotify dictionary\")\n",
    "    \n",
    "    \n",
    "    return Artists"
   ]
  },
  {
   "cell_type": "code",
   "execution_count": 6,
   "metadata": {
    "collapsed": false
   },
   "outputs": [
    {
     "name": "stdout",
     "output_type": "stream",
     "text": [
      "Downloading genres of 6 artist...\n",
      "Updatig spotify dictionary\n"
     ]
    },
    {
     "data": {
      "text/html": [
       "<div>\n",
       "<table border=\"1\" class=\"dataframe\">\n",
       "  <thead>\n",
       "    <tr style=\"text-align: right;\">\n",
       "      <th></th>\n",
       "      <th>artist</th>\n",
       "      <th>genres_spotify</th>\n",
       "      <th>genres_ra</th>\n",
       "      <th>genres_wiki</th>\n",
       "      <th>main_genres</th>\n",
       "      <th>top3_genres</th>\n",
       "      <th>genre</th>\n",
       "    </tr>\n",
       "  </thead>\n",
       "  <tbody>\n",
       "    <tr>\n",
       "      <th>0</th>\n",
       "      <td>JoachimGarraud</td>\n",
       "      <td>None</td>\n",
       "      <td>None</td>\n",
       "      <td>None</td>\n",
       "      <td>None</td>\n",
       "      <td>None</td>\n",
       "      <td>None</td>\n",
       "    </tr>\n",
       "    <tr>\n",
       "      <th>1</th>\n",
       "      <td>DavidGuetta</td>\n",
       "      <td>None</td>\n",
       "      <td>None</td>\n",
       "      <td>None</td>\n",
       "      <td>None</td>\n",
       "      <td>None</td>\n",
       "      <td>None</td>\n",
       "    </tr>\n",
       "    <tr>\n",
       "      <th>2</th>\n",
       "      <td>Panteros666✱✲</td>\n",
       "      <td>['destroy techno']</td>\n",
       "      <td>None</td>\n",
       "      <td>None</td>\n",
       "      <td>None</td>\n",
       "      <td>None</td>\n",
       "      <td>None</td>\n",
       "    </tr>\n",
       "    <tr>\n",
       "      <th>3</th>\n",
       "      <td>Rihanna</td>\n",
       "      <td>['dance pop', 'pop', 'pop christmas', 'r&amp;b', '...</td>\n",
       "      <td>None</td>\n",
       "      <td>None</td>\n",
       "      <td>None</td>\n",
       "      <td>None</td>\n",
       "      <td>None</td>\n",
       "    </tr>\n",
       "    <tr>\n",
       "      <th>4</th>\n",
       "      <td>-Rihanna</td>\n",
       "      <td>None</td>\n",
       "      <td>None</td>\n",
       "      <td>None</td>\n",
       "      <td>None</td>\n",
       "      <td>None</td>\n",
       "      <td>None</td>\n",
       "    </tr>\n",
       "    <tr>\n",
       "      <th>5</th>\n",
       "      <td>Drum'n'bass</td>\n",
       "      <td>None</td>\n",
       "      <td>None</td>\n",
       "      <td>None</td>\n",
       "      <td>None</td>\n",
       "      <td>None</td>\n",
       "      <td>None</td>\n",
       "    </tr>\n",
       "  </tbody>\n",
       "</table>\n",
       "</div>"
      ],
      "text/plain": [
       "           artist                                     genres_spotify  \\\n",
       "0  JoachimGarraud                                               None   \n",
       "1     DavidGuetta                                               None   \n",
       "2   Panteros666✱✲                                 ['destroy techno']   \n",
       "3         Rihanna  ['dance pop', 'pop', 'pop christmas', 'r&b', '...   \n",
       "4        -Rihanna                                               None   \n",
       "5     Drum'n'bass                                               None   \n",
       "\n",
       "  genres_ra genres_wiki main_genres top3_genres genre  \n",
       "0      None        None        None        None  None  \n",
       "1      None        None        None        None  None  \n",
       "2      None        None        None        None  None  \n",
       "3      None        None        None        None  None  \n",
       "4      None        None        None        None  None  \n",
       "5      None        None        None        None  None  "
      ]
     },
     "execution_count": 6,
     "metadata": {},
     "output_type": "execute_result"
    }
   ],
   "source": [
    "artists = downloadGenresSpotify(artists)\n",
    "artists"
   ]
  },
  {
   "cell_type": "code",
   "execution_count": 7,
   "metadata": {
    "collapsed": true
   },
   "outputs": [],
   "source": [
    "def createDictionnaryFromArtists(artists):\n",
    "    print(\"Creating dictionnary from wikipedia...\")\n",
    "    dic = AE.createDictionnary()\n",
    "    print(\"Adding genres from artists (spotify genres)\")\n",
    "    genres_list = []\n",
    "    for id,row in artists.iterrows():\n",
    "        genres = literal_eval(row.genres_spotify)\n",
    "        if(genres!=None):\n",
    "            genres_list+=(genres)\n",
    "        \n",
    "    #print(genres_list)\n",
    "    dic = AE.updateDictionnary(genres_list,dic)\n",
    "    return dic                "
   ]
  },
  {
   "cell_type": "code",
   "execution_count": 8,
   "metadata": {
    "collapsed": true
   },
   "outputs": [],
   "source": [
    "def downloadGenresWikipediaAndRA(Artists,dictionaryOfGenres,dictionaryWiki=None, dictionaryRA=None, begin=0,end=100000):\n",
    "\n",
    "    if(end>Artists.shape[0]):\n",
    "        end = Artists.shape[0]\n",
    "    \n",
    "    #path = \"FullData/ArtistDataframe_\"+str(begin)+\"_\"+str(end)+\".csv\"\n",
    "    print(\"Downloading genres of \"+str(end-begin)+\" artist...\")\n",
    "    last_read = 0\n",
    "    for i in range(begin,end):\n",
    "        S = Artists[Artists.index==i]\n",
    "        artist = S[\"artist\"].values[0]\n",
    "        \n",
    "        #Get genres from wikipedia\n",
    "        genres_wiki = None\n",
    "        if(dictionaryWiki!=None and artist in dictionaryWiki):\n",
    "            genres_wiki = dictionaryWiki.get(artist)\n",
    "        else:\n",
    "            genres_wiki = AE.getGenresFromWikipedia(artist,dictionaryOfGenres)\n",
    "            \n",
    "        #Get genres from Resident Advisor\n",
    "        genres_ra = None\n",
    "        if(dictionaryRA!= None and artist in dictionaryRA):\n",
    "            genres_ra = dictionaryRA.get(artist)\n",
    "        else:\n",
    "            genres_ra = AE.getGenresFromRA(artist,dictionaryOfGenres)\n",
    "            \n",
    "        if(genres_wiki== None or len(genres_wiki)<1):\n",
    "            genres_wiki = None\n",
    "        if(genres_ra == None or len(genres_ra)<1):\n",
    "            genres_ra = None\n",
    "            \n",
    "        Artists.loc[Artists.index==i,\"genres_wiki\"] = str(genres_wiki)\n",
    "        Artists.loc[Artists.index==i,\"genres_ra\"] = str(genres_ra)\n",
    "\n",
    "        if(i%300==0):\n",
    "            #Artists.to_csv(path,encoding=\"utf-8\")\n",
    "            print(str(i+1))\n",
    "    \n",
    "    #Artists.to_csv(path,encoding=\"utf-8\")\n",
    "    \n",
    "    #print(str(i)+\": Saved under \"+path)\n",
    "    last_read = i\n",
    "\n",
    "    print(\"Last read = \"+str(last_read+1))\n",
    "    return Artists"
   ]
  },
  {
   "cell_type": "code",
   "execution_count": 9,
   "metadata": {
    "collapsed": true
   },
   "outputs": [],
   "source": [
    "def computeGenresRatio(artists_df,dictionnaryOfGenres,debug=False):\n",
    "    genres = list(set(dictionnaryOfGenres.values()))\n",
    "    genres.append(\"unknown\")\n",
    "    \n",
    "    #Extending\n",
    "    #Getting columns\n",
    "    columnsArtists = []\n",
    "    for c in artists_df.columns:\n",
    "        if(\"Unnamed\" not in c):\n",
    "            columnsArtists.append(c)\n",
    "    columnsArtists = columnsArtists+genres+[\"total_genres\"]\n",
    "\n",
    "    print(\"Extending columns to these genres :\")\n",
    "    print(columnsArtists)\n",
    "    \n",
    "    i=0\n",
    "    for id,row in artists_df.iterrows():\n",
    "        i+=1\n",
    "        if(debug and i%3000==0):\n",
    "            print(i)\n",
    "        main_genres = row[\"main_genres\"]\n",
    "        \n",
    "        \n",
    "        total = 0.0\n",
    "        \n",
    "        if(main_genres!=None and main_genres!=\"None\"):\n",
    "            total = len(literal_eval(main_genres))\n",
    "            \n",
    "            #Check if artist has a genre (from other dataframes)\n",
    "            if(total==0):\n",
    "                if(raw[\"genre\"]!=None and raw[\"genre\"]!=\"None\"):\n",
    "                    main_genres = list(literal_eval(raw[\"genre\"]))\n",
    "                    artists_df.loc[id,\"main_genres\"] = main_genres\n",
    "                    total = 1.0\n",
    "                \n",
    "        artists_df.loc[id,\"total_genres\"]=total\n",
    "        \n",
    "        #percententage of this genre\n",
    "        for c in genres:\n",
    "            if(total==0):\n",
    "                artists_df.loc[id,c] = 0.0\n",
    "                artists_df.loc[id,\"unknown\"]=1.0\n",
    "            else:\n",
    "                artists_df.loc[id,c] = main_genres.count(c)/total\n",
    "\n",
    "    return artists_df"
   ]
  },
  {
   "cell_type": "code",
   "execution_count": 10,
   "metadata": {
    "collapsed": true
   },
   "outputs": [],
   "source": [
    "def computeMainGenres(artists,dictionnary):\n",
    "    \n",
    "    \n",
    "    artists[\"all_genres\"] = None\n",
    "    #dictionnaryOfGenres = LU.loadDictionary(\"FullData/AllGenresDic\",enc=\"utf-8\")\n",
    "    i=0\n",
    "    for id,row in artists.iterrows():\n",
    "        i+=1\n",
    "        #if(i>20):\n",
    "         #   break\n",
    "        if(i%1000==0):\n",
    "            print(i)\n",
    "\n",
    "        artist = row[\"artist\"]\n",
    "        genres_ra = literal_eval(row.genres_ra)\n",
    "        genres_s = literal_eval(row.genres_spotify)\n",
    "        genres_w = literal_eval(row.genres_wiki)\n",
    "       \n",
    "        if(genres_ra==None):\n",
    "            genres_ra =[]\n",
    "        if(genres_s == None):\n",
    "            genres_s = []\n",
    "        if(genres_w == None):\n",
    "            genres_w = []\n",
    "        \n",
    "        genres = genres_ra+genres_s+genres_w\n",
    "        \n",
    "        genres = genres_s+genres_ra+genres_w\n",
    "        \n",
    "        main_genres = AE.mainGenres(genres,dictionnary)\n",
    "        top3 = AE.getMaxGenre(main_genres,3)\n",
    "        main_genre = None\n",
    "\n",
    "        if(top3!=None and len(top3)>=1):\n",
    "            main_genre = top3[0]\n",
    "            \n",
    "        #Assigning None values for empty lists\n",
    "        if(len(main_genres)<1):\n",
    "            main_genres = None\n",
    "        if(len(genres_ra)<1):\n",
    "            genres_ra = None\n",
    "        if(len(genres)<1):\n",
    "            genres = None\n",
    "            \n",
    "        artists.loc[id,\"genres_ra\"] = str(genres_ra)\n",
    "        artists.loc[id,\"main_genres\"] = str(main_genres)\n",
    "        artists.loc[id,\"top3_genres\"] = str(top3)\n",
    "        artists.loc[id,\"all_genres\"] = str(genres)\n",
    "        artists.loc[id,\"genre\"] = main_genre\n",
    "\n",
    "\n",
    "    #df3.to_csv(\"FullData/ArtistDF_withGenres.csv\",encoding=\"utf-8\")\n",
    "    return artists"
   ]
  },
  {
   "cell_type": "code",
   "execution_count": 11,
   "metadata": {
    "collapsed": true
   },
   "outputs": [],
   "source": [
    "def artistsPipeline(Dataframe, dictionaryOfGenres=None,dictionarySpotify=None,dictionaryRA=None,dictionaryWiki=None):\n",
    "    if(dictionarySpotify==None):\n",
    "        dictionarySpotify={}\n",
    "    if(dictionaryRA ==None):\n",
    "        dictionaryRA = {}\n",
    "    if(dictionaryWiki ==None):\n",
    "        dictionaryWiki = {}\n",
    "    \n",
    "    Artists = getArtistsList(Dataframe)\n",
    "    Artists = downloadGenresSpotify(Artists,dictionarySpotify) #Assign first styles\n",
    "    \n",
    "    #Creating the dictionary from artists\n",
    "    dicGenresArtists = createDictionnaryFromArtists(Artists)\n",
    "    if(dictionaryOfGenres==None):\n",
    "        dictionaryOfGenres = dicGenresArtists\n",
    "    else:\n",
    "        dictionaryOfGenres.update(dicGenresArtists)\n",
    "    \n",
    "    #Getting genres from Wiki And RA\n",
    "    Artists = downloadGenresWikipediaAndRA(Artists,dictionaryWiki,dictionaryRA)\n",
    "    \n",
    "    #Compute extended fields\n",
    "    Artists = computeMainGenres(Artists,dictionaryOfGenres)\n",
    "    Artists = computeGenresRatio(Artists,dictionaryOfGenres)\n",
    "    \n",
    "    return Artists,Dataframe,dictionaryOfGenres,dictionarySpotify,dictionaryRA,dictionaryWiki"
   ]
  },
  {
   "cell_type": "code",
   "execution_count": 12,
   "metadata": {
    "collapsed": false
   },
   "outputs": [
    {
     "name": "stdout",
     "output_type": "stream",
     "text": [
      "Downloading genres of 6 artist...\n",
      "Updatig spotify dictionary\n",
      "Creating dictionnary from wikipedia...\n",
      "Adding genres from artists (spotify genres)\n",
      "Downloading genres of 6 artist...\n",
      "1\n",
      "Last read = 6\n",
      "Extending columns to these genres :\n",
      "['artist', 'genres_spotify', 'genres_ra', 'genres_wiki', 'main_genres', 'top3_genres', 'genre', 'all_genres', 'orchestral', 'latin', 'unknown', 'asian', 'comedy', 'country', 'avant-garde', 'rock', 'hip hop', 'easy listening', 'pop', 'african', 'folk', 'r&b and soul', 'jazz', 'blues', 'caribbean and caribbean-influenced', 'electronic', 'unknown', 'total_genres']\n"
     ]
    }
   ],
   "source": [
    "artists,a,genres,spotify,ra,wiki = artistsPipeline(a)"
   ]
  },
  {
   "cell_type": "code",
   "execution_count": 13,
   "metadata": {
    "collapsed": false
   },
   "outputs": [
    {
     "data": {
      "text/plain": [
       "{'-Rihanna': [],\n",
       " 'DavidGuetta': [],\n",
       " \"Drum'n'bass\": [],\n",
       " 'JoachimGarraud': [],\n",
       " 'Panteros666✱✲': ['destroy techno'],\n",
       " 'Rihanna': ['dance pop',\n",
       "  'pop',\n",
       "  'pop christmas',\n",
       "  'r&b',\n",
       "  'soul christmas',\n",
       "  'urban contemporary']}"
      ]
     },
     "execution_count": 13,
     "metadata": {},
     "output_type": "execute_result"
    }
   ],
   "source": [
    "spotify"
   ]
  },
  {
   "cell_type": "code",
   "execution_count": 14,
   "metadata": {
    "collapsed": false
   },
   "outputs": [
    {
     "name": "stdout",
     "output_type": "stream",
     "text": [
      "Downloading genres of 6 artist...\n",
      "Updatig spotify dictionary\n",
      "Creating dictionnary from wikipedia...\n",
      "Adding genres from artists (spotify genres)\n",
      "Downloading genres of 6 artist...\n",
      "1\n",
      "Last read = 6\n"
     ]
    },
    {
     "ename": "TypeError",
     "evalue": "unhashable type: 'list'",
     "output_type": "error",
     "traceback": [
      "\u001b[1;31m---------------------------------------------------------------------------\u001b[0m",
      "\u001b[1;31mTypeError\u001b[0m                                 Traceback (most recent call last)",
      "\u001b[1;32m<ipython-input-14-b69160f57e0c>\u001b[0m in \u001b[0;36m<module>\u001b[1;34m()\u001b[0m\n\u001b[1;32m----> 1\u001b[1;33m \u001b[0martistsPipeline\u001b[0m\u001b[1;33m(\u001b[0m\u001b[0ma\u001b[0m\u001b[1;33m,\u001b[0m\u001b[0mspotify\u001b[0m\u001b[1;33m)\u001b[0m\u001b[1;33m\u001b[0m\u001b[0m\n\u001b[0m",
      "\u001b[1;32m<ipython-input-11-e3f43c1fb81d>\u001b[0m in \u001b[0;36martistsPipeline\u001b[1;34m(Dataframe, dictionaryOfGenres, dictionarySpotify, dictionaryRA, dictionaryWiki)\u001b[0m\n\u001b[0;32m     22\u001b[0m     \u001b[1;31m#Compute extended fields\u001b[0m\u001b[1;33m\u001b[0m\u001b[1;33m\u001b[0m\u001b[0m\n\u001b[0;32m     23\u001b[0m     \u001b[0mArtists\u001b[0m \u001b[1;33m=\u001b[0m \u001b[0mcomputeMainGenres\u001b[0m\u001b[1;33m(\u001b[0m\u001b[0mArtists\u001b[0m\u001b[1;33m,\u001b[0m\u001b[0mdictionaryOfGenres\u001b[0m\u001b[1;33m)\u001b[0m\u001b[1;33m\u001b[0m\u001b[0m\n\u001b[1;32m---> 24\u001b[1;33m     \u001b[0mArtists\u001b[0m \u001b[1;33m=\u001b[0m \u001b[0mcomputeGenresRatio\u001b[0m\u001b[1;33m(\u001b[0m\u001b[0mArtists\u001b[0m\u001b[1;33m,\u001b[0m\u001b[0mdictionaryOfGenres\u001b[0m\u001b[1;33m)\u001b[0m\u001b[1;33m\u001b[0m\u001b[0m\n\u001b[0m\u001b[0;32m     25\u001b[0m \u001b[1;33m\u001b[0m\u001b[0m\n\u001b[0;32m     26\u001b[0m     \u001b[1;32mreturn\u001b[0m \u001b[0mArtists\u001b[0m\u001b[1;33m,\u001b[0m\u001b[0mDataframe\u001b[0m\u001b[1;33m,\u001b[0m\u001b[0mdictionaryOfGenres\u001b[0m\u001b[1;33m,\u001b[0m\u001b[0mdictionarySpotify\u001b[0m\u001b[1;33m,\u001b[0m\u001b[0mdictionaryRA\u001b[0m\u001b[1;33m,\u001b[0m\u001b[0mdictionaryWiki\u001b[0m\u001b[1;33m\u001b[0m\u001b[0m\n",
      "\u001b[1;32m<ipython-input-9-94b7e4a124cb>\u001b[0m in \u001b[0;36mcomputeGenresRatio\u001b[1;34m(artists_df, dictionnaryOfGenres, debug)\u001b[0m\n\u001b[0;32m      1\u001b[0m \u001b[1;32mdef\u001b[0m \u001b[0mcomputeGenresRatio\u001b[0m\u001b[1;33m(\u001b[0m\u001b[0martists_df\u001b[0m\u001b[1;33m,\u001b[0m\u001b[0mdictionnaryOfGenres\u001b[0m\u001b[1;33m,\u001b[0m\u001b[0mdebug\u001b[0m\u001b[1;33m=\u001b[0m\u001b[1;32mFalse\u001b[0m\u001b[1;33m)\u001b[0m\u001b[1;33m:\u001b[0m\u001b[1;33m\u001b[0m\u001b[0m\n\u001b[1;32m----> 2\u001b[1;33m     \u001b[0mgenres\u001b[0m \u001b[1;33m=\u001b[0m \u001b[0mlist\u001b[0m\u001b[1;33m(\u001b[0m\u001b[0mset\u001b[0m\u001b[1;33m(\u001b[0m\u001b[0mdictionnaryOfGenres\u001b[0m\u001b[1;33m.\u001b[0m\u001b[0mvalues\u001b[0m\u001b[1;33m(\u001b[0m\u001b[1;33m)\u001b[0m\u001b[1;33m)\u001b[0m\u001b[1;33m)\u001b[0m\u001b[1;33m\u001b[0m\u001b[0m\n\u001b[0m\u001b[0;32m      3\u001b[0m     \u001b[0mgenres\u001b[0m\u001b[1;33m.\u001b[0m\u001b[0mappend\u001b[0m\u001b[1;33m(\u001b[0m\u001b[1;34m\"unknown\"\u001b[0m\u001b[1;33m)\u001b[0m\u001b[1;33m\u001b[0m\u001b[0m\n\u001b[0;32m      4\u001b[0m \u001b[1;33m\u001b[0m\u001b[0m\n\u001b[0;32m      5\u001b[0m     \u001b[1;31m#Extending\u001b[0m\u001b[1;33m\u001b[0m\u001b[1;33m\u001b[0m\u001b[0m\n",
      "\u001b[1;31mTypeError\u001b[0m: unhashable type: 'list'"
     ]
    }
   ],
   "source": [
    "artistsPipeline(a,spotify)"
   ]
  },
  {
   "cell_type": "code",
   "execution_count": null,
   "metadata": {
    "collapsed": true
   },
   "outputs": [],
   "source": []
  }
 ],
 "metadata": {
  "anaconda-cloud": {},
  "kernelspec": {
   "display_name": "Python [Root]",
   "language": "python",
   "name": "Python [Root]"
  },
  "language_info": {
   "codemirror_mode": {
    "name": "ipython",
    "version": 3
   },
   "file_extension": ".py",
   "mimetype": "text/x-python",
   "name": "python",
   "nbconvert_exporter": "python",
   "pygments_lexer": "ipython3",
   "version": "3.5.2"
  }
 },
 "nbformat": 4,
 "nbformat_minor": 0
}
