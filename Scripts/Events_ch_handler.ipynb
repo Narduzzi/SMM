{
 "cells": [
  {
   "cell_type": "markdown",
   "metadata": {
    "collapsed": true
   },
   "source": [
    "## events_ch_handler"
   ]
  },
  {
   "cell_type": "code",
   "execution_count": 1,
   "metadata": {
    "collapsed": false
   },
   "outputs": [],
   "source": [
    "from html.parser import HTMLParser\n",
    "import urllib.request\n",
    "import unidecode\n",
    "from datetime import datetime"
   ]
  },
  {
   "cell_type": "code",
   "execution_count": 2,
   "metadata": {
    "collapsed": true
   },
   "outputs": [],
   "source": [
    "base_url = u\"https://events.ch\"\n",
    "language = u\"en\"\n",
    "action = u\"search\"\n",
    "search_type = u\"concerts\"\n",
    "date = u\"2015-07-23\"\n",
    "end_search = u\"6/cs\"\n",
    "page_number = 1"
   ]
  },
  {
   "cell_type": "code",
   "execution_count": 3,
   "metadata": {
    "collapsed": false
   },
   "outputs": [
    {
     "name": "stdout",
     "output_type": "stream",
     "text": [
      "https://events.ch/en/search/concerts/2015-07-23/6/cs/1\n"
     ]
    }
   ],
   "source": [
    "querry_url = base_url + '/' + language + '/' + action + '/' + search_type + '/' + date + '/' + end_search + '/' + str(page_number)\n",
    "print(querry_url)"
   ]
  },
  {
   "cell_type": "code",
   "execution_count": 4,
   "metadata": {
    "collapsed": false
   },
   "outputs": [],
   "source": [
    "page = urllib.request.urlopen(querry_url).read().decode('utf-8')"
   ]
  },
  {
   "cell_type": "code",
   "execution_count": 5,
   "metadata": {
    "collapsed": false
   },
   "outputs": [],
   "source": [
    "class MainHTMLParser(HTMLParser):\n",
    "    def __init__(self):\n",
    "        super( MainHTMLParser, self ).__init__()\n",
    "        self.data = []\n",
    "        \n",
    "    def handle_starttag(self, tag, attrs):\n",
    "        if(tag=='a' and len(attrs)==3):\n",
    "            href=attrs[1][1]\n",
    "            subquerry_url = base_url + urllib.parse.quote(href)\n",
    "            subpage = urllib.request.urlopen(subquerry_url).read().decode('utf-8')\n",
    "            subparser = EventHTMLParser()\n",
    "            subparser.feed(subpage)\n",
    "            split = href.split('/')\n",
    "            (artists, date) = subparser.getData()\n",
    "            currentDate = datetime.strptime(date, \"%a %b %d %Y %H:%M:%S GMT%z (%Z)\")\n",
    "            location = split[4]\n",
    "            festival = split[5]\n",
    "            if(len(artists) > 0):\n",
    "                self.data.append((location, festival, datetime.strftime(currentDate, \"%Y-%m-%d\"), artists))\n",
    "    \n",
    "    def getData(self):\n",
    "        return self.data\n",
    "    \n",
    "class EventHTMLParser(HTMLParser):\n",
    "    def __init__(self):\n",
    "        super( EventHTMLParser, self ).__init__()\n",
    "        self.artist_string = \"\"\n",
    "        self.date = \"\"\n",
    "        self.grab_artists = False\n",
    "        self.artists = []\n",
    "    \n",
    "    def handle_starttag(self, tag, attrs):\n",
    "        if(tag == 'h2' and len(attrs) == 2 and attrs[1][1] == \"event-subtitle\"):\n",
    "            self.grab_artists = True\n",
    "        if(tag == 'time' and attrs[0][0] == 'datetime' and self.date == \"\"):\n",
    "            self.date = attrs[0][1]\n",
    "        \n",
    "    def handle_endtag(self, tag):\n",
    "        self.grab_artists = False\n",
    "\n",
    "    def handle_data(self, data):\n",
    "        if(self.grab_artists == True):\n",
    "            self.artist_string = data\n",
    "    \n",
    "    def cleanArtists(self):\n",
    "        temp = self.artist_string.split(',')\n",
    "        for s in temp:\n",
    "            if('(' in s):\n",
    "                self.artists.append(s.split('(')[0])\n",
    "    \n",
    "    def getData(self):\n",
    "        self.cleanArtists()\n",
    "        return (self.artists, self.date)"
   ]
  },
  {
   "cell_type": "code",
   "execution_count": 6,
   "metadata": {
    "collapsed": false
   },
   "outputs": [
    {
     "name": "stdout",
     "output_type": "stream",
     "text": [
      "[('Verbier', 'Verbier-Festival', '2015-07-23', ['Yekwon Sunwoo ']), ('Nyon', 'Paléo-Festival', '2015-07-23', ['Husbands ']), ('Basel', 'Basel-Tattoo', '2015-07-23', ['Ailsa Craig Highland Dancers ', ' Blue Devils International Corps ', ' Celtic Stars Irish Dancers ', ' Fanfara 8° Reggimento Bersaglieri ', ' Imps Motorcycle Display Team ']), ('Nyon', 'Paléo-Festival', '2015-07-23', ['Pascals ', ' The Paradise Bangkok Molam International Band ', ' A Moving Sound ']), ('Nyon', 'Paléo-Festival', '2015-07-23', ['Biga Ranx ', ' Chinese Man ', ' Anthony B ', ' Yaniss Odua ']), ('null', 'Colaris', '2015-07-23', ['Colaris '])]\n"
     ]
    }
   ],
   "source": [
    "parser = MainHTMLParser()\n",
    "parser.feed(page)\n",
    "print(parser.getData())"
   ]
  },
  {
   "cell_type": "code",
   "execution_count": 10,
   "metadata": {
    "collapsed": false
   },
   "outputs": [],
   "source": [
    "def getEventsForDates(eventType, startDate, maxPage=5):\n",
    "    data = []\n",
    "    base_url = \"https://events.ch/en/search\"\n",
    "    end_search = \"6/cs\"\n",
    "    tempData = []\n",
    "    page_number = 1\n",
    "    (startYear, startMonth, startDay) = startDate.split('-')\n",
    "    while(page_number <= maxPage):\n",
    "        querry_url = base_url + '/' + eventType + '/' + startDate + '/' + end_search + '/' + str(page_number)\n",
    "        page = urllib.request.urlopen(querry_url).read().decode('utf-8')\n",
    "        parser = MainHTMLParser()\n",
    "        parser.feed(page)\n",
    "        tempData = parser.getData()\n",
    "        for l in tempData:\n",
    "            (location, festival, date_string, artists) = l\n",
    "            (currentYear, currentMonth, currentDay) = date_string.split('-')\n",
    "            if(len(tempData) <= 0 or page_number > maxPage or \\\n",
    "              (startYear <= currentYear and startMonth <= currentMonth and startDay < currentDay)):\n",
    "                return data\n",
    "            data = data + [(location, festival, date, artists)]\n",
    "        print(\"page_number:\" + str(page_number))\n",
    "        page_number = page_number + 1\n",
    "    return data\n",
    "    \n",
    "    "
   ]
  },
  {
   "cell_type": "code",
   "execution_count": 11,
   "metadata": {
    "collapsed": false
   },
   "outputs": [
    {
     "name": "stdout",
     "output_type": "stream",
     "text": [
      "page_number:1\n",
      "page_number:2\n",
      "page_number:3\n"
     ]
    }
   ],
   "source": [
    "data = getEventsForDates(\"concerts\", date)"
   ]
  },
  {
   "cell_type": "code",
   "execution_count": 12,
   "metadata": {
    "collapsed": false
   },
   "outputs": [],
   "source": [
    "import numpy as np\n",
    "import pandas as pd"
   ]
  },
  {
   "cell_type": "code",
   "execution_count": 14,
   "metadata": {
    "collapsed": false
   },
   "outputs": [],
   "source": [
    "df = pd.DataFrame(data, columns=['location', 'event', 'date', 'artists'])"
   ]
  },
  {
   "cell_type": "code",
   "execution_count": 15,
   "metadata": {
    "collapsed": false
   },
   "outputs": [
    {
     "data": {
      "text/html": [
       "<div>\n",
       "<table border=\"1\" class=\"dataframe\">\n",
       "  <thead>\n",
       "    <tr style=\"text-align: right;\">\n",
       "      <th></th>\n",
       "      <th>location</th>\n",
       "      <th>event</th>\n",
       "      <th>date</th>\n",
       "      <th>artists</th>\n",
       "    </tr>\n",
       "  </thead>\n",
       "  <tbody>\n",
       "    <tr>\n",
       "      <th>0</th>\n",
       "      <td>Verbier</td>\n",
       "      <td>Verbier-Festival</td>\n",
       "      <td>2015-07-23</td>\n",
       "      <td>[Yekwon Sunwoo ]</td>\n",
       "    </tr>\n",
       "    <tr>\n",
       "      <th>1</th>\n",
       "      <td>Nyon</td>\n",
       "      <td>Paléo-Festival</td>\n",
       "      <td>2015-07-23</td>\n",
       "      <td>[Husbands ]</td>\n",
       "    </tr>\n",
       "    <tr>\n",
       "      <th>2</th>\n",
       "      <td>Basel</td>\n",
       "      <td>Basel-Tattoo</td>\n",
       "      <td>2015-07-23</td>\n",
       "      <td>[Ailsa Craig Highland Dancers ,  Blue Devils I...</td>\n",
       "    </tr>\n",
       "    <tr>\n",
       "      <th>3</th>\n",
       "      <td>Nyon</td>\n",
       "      <td>Paléo-Festival</td>\n",
       "      <td>2015-07-23</td>\n",
       "      <td>[Pascals ,  The Paradise Bangkok Molam Interna...</td>\n",
       "    </tr>\n",
       "    <tr>\n",
       "      <th>4</th>\n",
       "      <td>Nyon</td>\n",
       "      <td>Paléo-Festival</td>\n",
       "      <td>2015-07-23</td>\n",
       "      <td>[Biga Ranx ,  Chinese Man ,  Anthony B ,  Yani...</td>\n",
       "    </tr>\n",
       "    <tr>\n",
       "      <th>5</th>\n",
       "      <td>null</td>\n",
       "      <td>Colaris</td>\n",
       "      <td>2015-07-23</td>\n",
       "      <td>[Colaris ]</td>\n",
       "    </tr>\n",
       "    <tr>\n",
       "      <th>6</th>\n",
       "      <td>Nyon</td>\n",
       "      <td>Paléo-Festival</td>\n",
       "      <td>2015-07-23</td>\n",
       "      <td>[Acid Arab ,  Faada Freddy ,  Mina Tindle ]</td>\n",
       "    </tr>\n",
       "    <tr>\n",
       "      <th>7</th>\n",
       "      <td>Zürich</td>\n",
       "      <td>Salsamania</td>\n",
       "      <td>2015-07-23</td>\n",
       "      <td>[DJs Luis Salgado ]</td>\n",
       "    </tr>\n",
       "    <tr>\n",
       "      <th>8</th>\n",
       "      <td>Nyon</td>\n",
       "      <td>Paléo-Festival</td>\n",
       "      <td>2015-07-23</td>\n",
       "      <td>[Johnny Hallyday ,  Ben Harper &amp; The Innocent ...</td>\n",
       "    </tr>\n",
       "    <tr>\n",
       "      <th>9</th>\n",
       "      <td>Verbier</td>\n",
       "      <td>Verbier-Festival</td>\n",
       "      <td>2015-07-23</td>\n",
       "      <td>[ Denis Matsuev ,  Daniil Trifonov ,  conducto...</td>\n",
       "    </tr>\n",
       "    <tr>\n",
       "      <th>10</th>\n",
       "      <td>Saanen</td>\n",
       "      <td>Menuhin-Festival-Gstaad-The-Genius-of-Stefano-...</td>\n",
       "      <td>2015-07-23</td>\n",
       "      <td>[Stefano Bollani ,  Sol Gabetta ]</td>\n",
       "    </tr>\n",
       "    <tr>\n",
       "      <th>11</th>\n",
       "      <td>Zürich</td>\n",
       "      <td>Red-City-Radio</td>\n",
       "      <td>2015-07-23</td>\n",
       "      <td>[Red City Radio ]</td>\n",
       "    </tr>\n",
       "    <tr>\n",
       "      <th>12</th>\n",
       "      <td>null</td>\n",
       "      <td>Stimmen</td>\n",
       "      <td>2015-07-23</td>\n",
       "      <td>[Winston McAnuff &amp; Fixi ,  Clinton Fearon ]</td>\n",
       "    </tr>\n",
       "    <tr>\n",
       "      <th>13</th>\n",
       "      <td>Verbier</td>\n",
       "      <td>Verbier-Festival</td>\n",
       "      <td>2015-07-23</td>\n",
       "      <td>[Lisa Batiashvili ,  Ana Chumachenco ,  Alexan...</td>\n",
       "    </tr>\n",
       "    <tr>\n",
       "      <th>14</th>\n",
       "      <td>Luzern</td>\n",
       "      <td>Blue-Balls-Festival</td>\n",
       "      <td>2015-07-23</td>\n",
       "      <td>[Rhodes ]</td>\n",
       "    </tr>\n",
       "    <tr>\n",
       "      <th>15</th>\n",
       "      <td>Luzern</td>\n",
       "      <td>Blue-Balls-Festival</td>\n",
       "      <td>2015-07-23</td>\n",
       "      <td>[Angus &amp; Julia Stone ]</td>\n",
       "    </tr>\n",
       "    <tr>\n",
       "      <th>16</th>\n",
       "      <td>Basel</td>\n",
       "      <td>Perla-Windfeld-Meier</td>\n",
       "      <td>2015-07-23</td>\n",
       "      <td>[ Tobias Meier ,  Gene Perla ,  Christian Wind...</td>\n",
       "    </tr>\n",
       "    <tr>\n",
       "      <th>17</th>\n",
       "      <td>Maggia</td>\n",
       "      <td>Magic-Blues-Festival</td>\n",
       "      <td>2015-07-23</td>\n",
       "      <td>[Laurence Jones ,  Wes Mackey ]</td>\n",
       "    </tr>\n",
       "    <tr>\n",
       "      <th>18</th>\n",
       "      <td>Zürich</td>\n",
       "      <td>Stadtsommer</td>\n",
       "      <td>2015-07-23</td>\n",
       "      <td>[ Tom Vanstiphout ,  Tobias Stuber ,  Ramon Zi...</td>\n",
       "    </tr>\n",
       "  </tbody>\n",
       "</table>\n",
       "</div>"
      ],
      "text/plain": [
       "   location                                              event        date  \\\n",
       "0   Verbier                                   Verbier-Festival  2015-07-23   \n",
       "1      Nyon                                     Paléo-Festival  2015-07-23   \n",
       "2     Basel                                       Basel-Tattoo  2015-07-23   \n",
       "3      Nyon                                     Paléo-Festival  2015-07-23   \n",
       "4      Nyon                                     Paléo-Festival  2015-07-23   \n",
       "5      null                                            Colaris  2015-07-23   \n",
       "6      Nyon                                     Paléo-Festival  2015-07-23   \n",
       "7    Zürich                                         Salsamania  2015-07-23   \n",
       "8      Nyon                                     Paléo-Festival  2015-07-23   \n",
       "9   Verbier                                   Verbier-Festival  2015-07-23   \n",
       "10   Saanen  Menuhin-Festival-Gstaad-The-Genius-of-Stefano-...  2015-07-23   \n",
       "11   Zürich                                     Red-City-Radio  2015-07-23   \n",
       "12     null                                            Stimmen  2015-07-23   \n",
       "13  Verbier                                   Verbier-Festival  2015-07-23   \n",
       "14   Luzern                                Blue-Balls-Festival  2015-07-23   \n",
       "15   Luzern                                Blue-Balls-Festival  2015-07-23   \n",
       "16    Basel                               Perla-Windfeld-Meier  2015-07-23   \n",
       "17   Maggia                               Magic-Blues-Festival  2015-07-23   \n",
       "18   Zürich                                        Stadtsommer  2015-07-23   \n",
       "\n",
       "                                              artists  \n",
       "0                                    [Yekwon Sunwoo ]  \n",
       "1                                         [Husbands ]  \n",
       "2   [Ailsa Craig Highland Dancers ,  Blue Devils I...  \n",
       "3   [Pascals ,  The Paradise Bangkok Molam Interna...  \n",
       "4   [Biga Ranx ,  Chinese Man ,  Anthony B ,  Yani...  \n",
       "5                                          [Colaris ]  \n",
       "6         [Acid Arab ,  Faada Freddy ,  Mina Tindle ]  \n",
       "7                                 [DJs Luis Salgado ]  \n",
       "8   [Johnny Hallyday ,  Ben Harper & The Innocent ...  \n",
       "9   [ Denis Matsuev ,  Daniil Trifonov ,  conducto...  \n",
       "10                  [Stefano Bollani ,  Sol Gabetta ]  \n",
       "11                                  [Red City Radio ]  \n",
       "12        [Winston McAnuff & Fixi ,  Clinton Fearon ]  \n",
       "13  [Lisa Batiashvili ,  Ana Chumachenco ,  Alexan...  \n",
       "14                                          [Rhodes ]  \n",
       "15                             [Angus & Julia Stone ]  \n",
       "16  [ Tobias Meier ,  Gene Perla ,  Christian Wind...  \n",
       "17                    [Laurence Jones ,  Wes Mackey ]  \n",
       "18  [ Tom Vanstiphout ,  Tobias Stuber ,  Ramon Zi...  "
      ]
     },
     "execution_count": 15,
     "metadata": {},
     "output_type": "execute_result"
    }
   ],
   "source": [
    "df"
   ]
  }
 ],
 "metadata": {
  "kernelspec": {
   "display_name": "Python 3",
   "language": "python",
   "name": "python3"
  },
  "language_info": {
   "codemirror_mode": {
    "name": "ipython",
    "version": 3
   },
   "file_extension": ".py",
   "mimetype": "text/x-python",
   "name": "python",
   "nbconvert_exporter": "python",
   "pygments_lexer": "ipython3",
   "version": "3.5.2"
  }
 },
 "nbformat": 4,
 "nbformat_minor": 1
}
