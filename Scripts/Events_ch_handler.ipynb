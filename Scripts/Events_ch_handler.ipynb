{
 "cells": [
  {
   "cell_type": "markdown",
   "metadata": {
    "collapsed": true
   },
   "source": [
    "## events_ch_handler"
   ]
  },
  {
   "cell_type": "code",
   "execution_count": 1,
   "metadata": {
    "collapsed": false
   },
   "outputs": [],
   "source": [
    "from html.parser import HTMLParser\n",
    "import urllib.request"
   ]
  },
  {
   "cell_type": "code",
   "execution_count": 2,
   "metadata": {
    "collapsed": true
   },
   "outputs": [],
   "source": [
    "base_url = \"https://events.ch/en/search\"\n",
    "search_type = \"concerts\"\n",
    "date = \"2015-07-23\"\n",
    "end_search = \"6/cs\"\n",
    "page_number = 1"
   ]
  },
  {
   "cell_type": "code",
   "execution_count": 3,
   "metadata": {
    "collapsed": false
   },
   "outputs": [
    {
     "name": "stdout",
     "output_type": "stream",
     "text": [
      "https://events.ch/en/search/concerts/2015-07-23/6/cs/1\n"
     ]
    }
   ],
   "source": [
    "querry_url = base_url + '/' + search_type + '/' + date + '/' + end_search + '/' + str(page_number)\n",
    "print(querry_url)"
   ]
  },
  {
   "cell_type": "code",
   "execution_count": 4,
   "metadata": {
    "collapsed": false
   },
   "outputs": [],
   "source": [
    "page = urllib.request.urlopen(querry_url).read().decode('utf-8')"
   ]
  },
  {
   "cell_type": "code",
   "execution_count": 5,
   "metadata": {
    "collapsed": false
   },
   "outputs": [],
   "source": [
    "class MyHTMLParser(HTMLParser):\n",
    "    def __init__(self):\n",
    "        super( MyHTMLParser, self ).__init__()\n",
    "        self.data = []\n",
    "        \n",
    "    def handle_starttag(self, tag, attrs):\n",
    "        if(tag=='a' and len(attrs)==3):\n",
    "            href=attrs[1][1]\n",
    "            split = href.split('/')\n",
    "            genders = split[2].split('-')\n",
    "            location = split[4]\n",
    "            festival = split[5]\n",
    "            self.data.append((genders, location, festival))\n",
    "    \n",
    "    def getData(self):\n",
    "        return self.data\n",
    "\n",
    "    #def handle_endtag(self, tag):\n",
    "    #    print(\"Encountered an end tag :\", tag)\n",
    "\n",
    "    #def handle_data(self, data):\n",
    "    #    print(\"Encountered some data  :\", data)\n",
    "        "
   ]
  },
  {
   "cell_type": "code",
   "execution_count": 6,
   "metadata": {
    "collapsed": false
   },
   "outputs": [
    {
     "name": "stdout",
     "output_type": "stream",
     "text": [
      "[(['Classic'], 'Verbier', 'Verbier-Festival'), (['Rock', 'Indie', 'Punk', 'Heavy', 'Metal', 'Gothic'], 'Zürich', 'Happy-Sound'), (['Pop'], 'Nyon', 'Paléo-Festival'), (['Rock', 'Indie', 'Punk', 'Heavy', 'Metal', 'Gothic'], 'null', 'Colaris'), (['Hip', 'Hop', \"R'n'B\"], 'Nyon', 'Paléo-Festival'), (['traditional'], 'Basel', 'Basel-Tattoo'), (['Rock', 'Indie', 'Punk', 'Heavy', 'Metal', 'Gothic'], 'Nyon', 'Paléo-Festival'), (['Hip', 'Hop', \"R'n'B\"], 'Luzern', 'Blue-Balls-Festival'), (['Jazz', 'Blues', 'Soul'], 'Bellinzona', 'Bellinzona-Beatles-Days'), (['Rock', 'Indie', 'Punk', 'Heavy', 'Metal', 'Gothic'], 'Luzern', 'Blue-Balls-Festival')]\n"
     ]
    }
   ],
   "source": [
    "parser = MyHTMLParser()\n",
    "parser.feed(page)\n",
    "print(parser.getData())"
   ]
  },
  {
   "cell_type": "code",
   "execution_count": 7,
   "metadata": {
    "collapsed": false
   },
   "outputs": [],
   "source": [
    "def getEventsForDates(eventType, startDate, maxPage):\n",
    "    data = []\n",
    "    base_url = \"https://events.ch/en/search\"\n",
    "    end_search = \"6/cs\"\n",
    "    tempData = []\n",
    "    page_number = 1\n",
    "    while(True):\n",
    "        querry_url = base_url + '/' + eventType + '/' + startDate + '/' + end_search + '/' + str(page_number)\n",
    "        page = urllib.request.urlopen(querry_url).read().decode('utf-8')\n",
    "        parser = MyHTMLParser()\n",
    "        parser.feed(page)\n",
    "        tempData = parser.getData()\n",
    "        if(len(tempData) <= 0 or page_number > maxPage):\n",
    "            break\n",
    "        data = data + tempData\n",
    "        print(page_number)\n",
    "        page_number = page_number + 1\n",
    "    return data\n",
    "    \n",
    "    "
   ]
  },
  {
   "cell_type": "code",
   "execution_count": 8,
   "metadata": {
    "collapsed": false
   },
   "outputs": [
    {
     "name": "stdout",
     "output_type": "stream",
     "text": [
      "1\n",
      "2\n",
      "3\n",
      "4\n",
      "5\n",
      "6\n",
      "7\n",
      "8\n",
      "9\n",
      "10\n"
     ]
    }
   ],
   "source": [
    "data = getEventsForDates(\"concerts\", \"2015-07-23\", 10)"
   ]
  },
  {
   "cell_type": "code",
   "execution_count": 9,
   "metadata": {
    "collapsed": false
   },
   "outputs": [
    {
     "name": "stdout",
     "output_type": "stream",
     "text": [
      "[(['Classic'], 'Verbier', 'Verbier-Festival')]\n"
     ]
    }
   ],
   "source": [
    "print(data[0:1])"
   ]
  },
  {
   "cell_type": "code",
   "execution_count": 10,
   "metadata": {
    "collapsed": false
   },
   "outputs": [],
   "source": [
    "import numpy as np\n",
    "import pandas as pd"
   ]
  },
  {
   "cell_type": "code",
   "execution_count": 11,
   "metadata": {
    "collapsed": false
   },
   "outputs": [
    {
     "data": {
      "text/html": [
       "<div>\n",
       "<table border=\"1\" class=\"dataframe\">\n",
       "  <thead>\n",
       "    <tr style=\"text-align: right;\">\n",
       "      <th></th>\n",
       "      <th>genres</th>\n",
       "      <th>location</th>\n",
       "      <th>event</th>\n",
       "    </tr>\n",
       "  </thead>\n",
       "  <tbody>\n",
       "    <tr>\n",
       "      <th>0</th>\n",
       "      <td>[Classic]</td>\n",
       "      <td>Verbier</td>\n",
       "      <td>Verbier-Festival</td>\n",
       "    </tr>\n",
       "    <tr>\n",
       "      <th>1</th>\n",
       "      <td>[Rock, Indie, Punk, Heavy, Metal, Gothic]</td>\n",
       "      <td>Zürich</td>\n",
       "      <td>Happy-Sound</td>\n",
       "    </tr>\n",
       "    <tr>\n",
       "      <th>2</th>\n",
       "      <td>[Pop]</td>\n",
       "      <td>Nyon</td>\n",
       "      <td>Paléo-Festival</td>\n",
       "    </tr>\n",
       "    <tr>\n",
       "      <th>3</th>\n",
       "      <td>[Rock, Indie, Punk, Heavy, Metal, Gothic]</td>\n",
       "      <td>null</td>\n",
       "      <td>Colaris</td>\n",
       "    </tr>\n",
       "    <tr>\n",
       "      <th>4</th>\n",
       "      <td>[Hip, Hop, R'n'B]</td>\n",
       "      <td>Nyon</td>\n",
       "      <td>Paléo-Festival</td>\n",
       "    </tr>\n",
       "  </tbody>\n",
       "</table>\n",
       "</div>"
      ],
      "text/plain": [
       "                                      genres location             event\n",
       "0                                  [Classic]  Verbier  Verbier-Festival\n",
       "1  [Rock, Indie, Punk, Heavy, Metal, Gothic]   Zürich       Happy-Sound\n",
       "2                                      [Pop]     Nyon    Paléo-Festival\n",
       "3  [Rock, Indie, Punk, Heavy, Metal, Gothic]     null           Colaris\n",
       "4                          [Hip, Hop, R'n'B]     Nyon    Paléo-Festival"
      ]
     },
     "execution_count": 11,
     "metadata": {},
     "output_type": "execute_result"
    }
   ],
   "source": [
    "df = pd.DataFrame(data, columns=['genres', 'location', 'event'])\n",
    "#df.pivot(index=0, columns=1, values=2)\n",
    "df.head()"
   ]
  }
 ],
 "metadata": {
  "kernelspec": {
   "display_name": "Python 3",
   "language": "python",
   "name": "python3"
  },
  "language_info": {
   "codemirror_mode": {
    "name": "ipython",
    "version": 3
   },
   "file_extension": ".py",
   "mimetype": "text/x-python",
   "name": "python",
   "nbconvert_exporter": "python",
   "pygments_lexer": "ipython3",
   "version": "3.5.2"
  }
 },
 "nbformat": 4,
 "nbformat_minor": 1
}
