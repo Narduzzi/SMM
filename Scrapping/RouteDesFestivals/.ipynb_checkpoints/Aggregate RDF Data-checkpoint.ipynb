{
 "cells": [
  {
   "cell_type": "code",
   "execution_count": 1,
   "metadata": {
    "collapsed": true
   },
   "outputs": [],
   "source": [
    "import pandas as pd\n",
    "import csv\n",
    "import os\n",
    "import re"
   ]
  },
  {
   "cell_type": "code",
   "execution_count": 2,
   "metadata": {
    "collapsed": true
   },
   "outputs": [],
   "source": [
    "FOLDER_NAME = 'R-D-F-data'"
   ]
  },
  {
   "cell_type": "code",
   "execution_count": 5,
   "metadata": {
    "collapsed": true
   },
   "outputs": [],
   "source": [
    "df = None\n",
    "\n",
    "file_list = os.listdir(FOLDER_NAME)\n",
    "file_list.remove('.DS_Store')\n",
    "for csv_file in file_list:\n",
    "    if (df is None):\n",
    "        df = pd.read_csv(FOLDER_NAME + '/' + csv_file)\n",
    "    else:\n",
    "        df = df.append(pd.read_csv(FOLDER_NAME + '/' + csv_file), ignore_index=True)"
   ]
  },
  {
   "cell_type": "code",
   "execution_count": 21,
   "metadata": {
    "collapsed": false
   },
   "outputs": [
    {
     "data": {
      "text/html": [
       "<div>\n",
       "<table border=\"1\" class=\"dataframe\">\n",
       "  <thead>\n",
       "    <tr style=\"text-align: right;\">\n",
       "      <th></th>\n",
       "      <th>location</th>\n",
       "      <th>event</th>\n",
       "      <th>date</th>\n",
       "      <th>artist</th>\n",
       "      <th>coordinates</th>\n",
       "    </tr>\n",
       "  </thead>\n",
       "  <tbody>\n",
       "    <tr>\n",
       "      <th>5224</th>\n",
       "      <td>Geneve</td>\n",
       "      <td>FESTIVAL DE LA BATIE</td>\n",
       "      <td>2016-09-16</td>\n",
       "      <td>CAROLINE BERGVALL</td>\n",
       "      <td>(46.2043907, 6.1431577)</td>\n",
       "    </tr>\n",
       "    <tr>\n",
       "      <th>5225</th>\n",
       "      <td>Geneve</td>\n",
       "      <td>FESTIVAL DE LA BATIE</td>\n",
       "      <td>2016-09-16</td>\n",
       "      <td>MIET WARLOP FRUITS OF LABOR</td>\n",
       "      <td>(46.2043907, 6.1431577)</td>\n",
       "    </tr>\n",
       "    <tr>\n",
       "      <th>5226</th>\n",
       "      <td>Les Acacias</td>\n",
       "      <td>FESTIVAL DE LA BATIE</td>\n",
       "      <td>2016-09-16</td>\n",
       "      <td>TOSHIKI OKADA</td>\n",
       "      <td>(46.1829674, 6.1378539)</td>\n",
       "    </tr>\n",
       "    <tr>\n",
       "      <th>5227</th>\n",
       "      <td>Geneve</td>\n",
       "      <td>FESTIVAL DE LA BATIE</td>\n",
       "      <td>2016-09-16</td>\n",
       "      <td>ALAIN PLATEL</td>\n",
       "      <td>(46.2043907, 6.1431577)</td>\n",
       "    </tr>\n",
       "    <tr>\n",
       "      <th>5228</th>\n",
       "      <td>Geneve</td>\n",
       "      <td>FESTIVAL DE LA BATIE</td>\n",
       "      <td>2016-09-16</td>\n",
       "      <td>SAMBA DE LA MUERTE</td>\n",
       "      <td>(46.2043907, 6.1431577)</td>\n",
       "    </tr>\n",
       "    <tr>\n",
       "      <th>5229</th>\n",
       "      <td>Les Acacias</td>\n",
       "      <td>FESTIVAL DE LA BATIE</td>\n",
       "      <td>2016-09-16</td>\n",
       "      <td>FRANCOIS CHAIGNAUD</td>\n",
       "      <td>(46.1829674, 6.1378539)</td>\n",
       "    </tr>\n",
       "  </tbody>\n",
       "</table>\n",
       "</div>"
      ],
      "text/plain": [
       "         location                 event        date  \\\n",
       "5224       Geneve  FESTIVAL DE LA BATIE  2016-09-16   \n",
       "5225       Geneve  FESTIVAL DE LA BATIE  2016-09-16   \n",
       "5226  Les Acacias  FESTIVAL DE LA BATIE  2016-09-16   \n",
       "5227       Geneve  FESTIVAL DE LA BATIE  2016-09-16   \n",
       "5228       Geneve  FESTIVAL DE LA BATIE  2016-09-16   \n",
       "5229  Les Acacias  FESTIVAL DE LA BATIE  2016-09-16   \n",
       "\n",
       "                           artist              coordinates  \n",
       "5224            CAROLINE BERGVALL  (46.2043907, 6.1431577)  \n",
       "5225  MIET WARLOP FRUITS OF LABOR  (46.2043907, 6.1431577)  \n",
       "5226                TOSHIKI OKADA  (46.1829674, 6.1378539)  \n",
       "5227                 ALAIN PLATEL  (46.2043907, 6.1431577)  \n",
       "5228           SAMBA DE LA MUERTE  (46.2043907, 6.1431577)  \n",
       "5229           FRANCOIS CHAIGNAUD  (46.1829674, 6.1378539)  "
      ]
     },
     "execution_count": 21,
     "metadata": {},
     "output_type": "execute_result"
    }
   ],
   "source": [
    "df[df['date'] == '2016-09-16']"
   ]
  },
  {
   "cell_type": "code",
   "execution_count": 7,
   "metadata": {
    "collapsed": true
   },
   "outputs": [],
   "source": [
    "OUT_FOLDER_NAME = 'R-D-F-data-aggr'"
   ]
  },
  {
   "cell_type": "code",
   "execution_count": 9,
   "metadata": {
    "collapsed": false
   },
   "outputs": [],
   "source": [
    "file_list = os.listdir(FOLDER_NAME)\n",
    "file_list.remove('.DS_Store')\n",
    "\n",
    "# Will contain dataframes, one for each day\n",
    "dfs = []\n",
    "\n",
    "for csv_file in file_list:    \n",
    "    dfs.append(pd.read_csv(FOLDER_NAME + '/' + csv_file))"
   ]
  },
  {
   "cell_type": "code",
   "execution_count": 20,
   "metadata": {
    "collapsed": false
   },
   "outputs": [
    {
     "data": {
      "text/html": [
       "<div>\n",
       "<table border=\"1\" class=\"dataframe\">\n",
       "  <thead>\n",
       "    <tr style=\"text-align: right;\">\n",
       "      <th></th>\n",
       "      <th>location</th>\n",
       "      <th>event</th>\n",
       "      <th>date</th>\n",
       "      <th>artist</th>\n",
       "      <th>coordinates</th>\n",
       "    </tr>\n",
       "  </thead>\n",
       "  <tbody>\n",
       "    <tr>\n",
       "      <th>0</th>\n",
       "      <td>Geneve</td>\n",
       "      <td>FESTIVAL DE LA BATIE</td>\n",
       "      <td>2016-09-16</td>\n",
       "      <td>CAROLINE BERGVALL</td>\n",
       "      <td>(46.2043907, 6.1431577)</td>\n",
       "    </tr>\n",
       "    <tr>\n",
       "      <th>1</th>\n",
       "      <td>Geneve</td>\n",
       "      <td>FESTIVAL DE LA BATIE</td>\n",
       "      <td>2016-09-16</td>\n",
       "      <td>MIET WARLOP FRUITS OF LABOR</td>\n",
       "      <td>(46.2043907, 6.1431577)</td>\n",
       "    </tr>\n",
       "    <tr>\n",
       "      <th>2</th>\n",
       "      <td>Les Acacias</td>\n",
       "      <td>FESTIVAL DE LA BATIE</td>\n",
       "      <td>2016-09-16</td>\n",
       "      <td>TOSHIKI OKADA</td>\n",
       "      <td>(46.1829674, 6.1378539)</td>\n",
       "    </tr>\n",
       "    <tr>\n",
       "      <th>3</th>\n",
       "      <td>Geneve</td>\n",
       "      <td>FESTIVAL DE LA BATIE</td>\n",
       "      <td>2016-09-16</td>\n",
       "      <td>ALAIN PLATEL</td>\n",
       "      <td>(46.2043907, 6.1431577)</td>\n",
       "    </tr>\n",
       "    <tr>\n",
       "      <th>4</th>\n",
       "      <td>Geneve</td>\n",
       "      <td>FESTIVAL DE LA BATIE</td>\n",
       "      <td>2016-09-16</td>\n",
       "      <td>SAMBA DE LA MUERTE</td>\n",
       "      <td>(46.2043907, 6.1431577)</td>\n",
       "    </tr>\n",
       "    <tr>\n",
       "      <th>5</th>\n",
       "      <td>Les Acacias</td>\n",
       "      <td>FESTIVAL DE LA BATIE</td>\n",
       "      <td>2016-09-16</td>\n",
       "      <td>FRANCOIS CHAIGNAUD</td>\n",
       "      <td>(46.1829674, 6.1378539)</td>\n",
       "    </tr>\n",
       "  </tbody>\n",
       "</table>\n",
       "</div>"
      ],
      "text/plain": [
       "      location                 event        date                       artist  \\\n",
       "0       Geneve  FESTIVAL DE LA BATIE  2016-09-16            CAROLINE BERGVALL   \n",
       "1       Geneve  FESTIVAL DE LA BATIE  2016-09-16  MIET WARLOP FRUITS OF LABOR   \n",
       "2  Les Acacias  FESTIVAL DE LA BATIE  2016-09-16                TOSHIKI OKADA   \n",
       "3       Geneve  FESTIVAL DE LA BATIE  2016-09-16                 ALAIN PLATEL   \n",
       "4       Geneve  FESTIVAL DE LA BATIE  2016-09-16           SAMBA DE LA MUERTE   \n",
       "5  Les Acacias  FESTIVAL DE LA BATIE  2016-09-16           FRANCOIS CHAIGNAUD   \n",
       "\n",
       "               coordinates  \n",
       "0  (46.2043907, 6.1431577)  \n",
       "1  (46.2043907, 6.1431577)  \n",
       "2  (46.1829674, 6.1378539)  \n",
       "3  (46.2043907, 6.1431577)  \n",
       "4  (46.2043907, 6.1431577)  \n",
       "5  (46.1829674, 6.1378539)  "
      ]
     },
     "execution_count": 20,
     "metadata": {},
     "output_type": "execute_result"
    }
   ],
   "source": [
    "dfs[1650]"
   ]
  },
  {
   "cell_type": "code",
   "execution_count": null,
   "metadata": {
    "collapsed": true
   },
   "outputs": [],
   "source": []
  }
 ],
 "metadata": {
  "kernelspec": {
   "display_name": "Python 2",
   "language": "python",
   "name": "python2"
  },
  "language_info": {
   "codemirror_mode": {
    "name": "ipython",
    "version": 2
   },
   "file_extension": ".py",
   "mimetype": "text/x-python",
   "name": "python",
   "nbconvert_exporter": "python",
   "pygments_lexer": "ipython2",
   "version": "2.7.10"
  }
 },
 "nbformat": 4,
 "nbformat_minor": 0
}
