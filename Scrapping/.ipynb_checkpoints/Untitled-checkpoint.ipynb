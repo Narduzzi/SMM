{
 "cells": [
  {
   "cell_type": "code",
   "execution_count": 1,
   "metadata": {
    "collapsed": true
   },
   "outputs": [],
   "source": [
    "import pandas as pd\n",
    "from ast import literal_eval\n",
    "import numpy as np"
   ]
  },
  {
   "cell_type": "code",
   "execution_count": 8,
   "metadata": {
    "collapsed": false
   },
   "outputs": [
    {
     "data": {
      "text/plain": [
       "(42908, 11)"
      ]
     },
     "execution_count": 8,
     "metadata": {},
     "output_type": "execute_result"
    }
   ],
   "source": [
    "DF = pd.read_csv(\"FullDF.csv\")\n",
    "DF.shape"
   ]
  },
  {
   "cell_type": "code",
   "execution_count": 12,
   "metadata": {
    "collapsed": false
   },
   "outputs": [],
   "source": [
    "def correctMalformedLineups(DF):\n",
    "    i = 0\n",
    "    for id, row in DF.iterrows():\n",
    "        lineup = []\n",
    "        try:\n",
    "            lineup = literal_eval(row[\"artists\"])\n",
    "        except:\n",
    "            #print(\"Malformed artists :\"+str(row[\"artists\"]))\n",
    "            artists = str(row[\"artists\"])\n",
    "            artists = artists.replace(\"[\",\"\").replace(\"]\",\"\")\n",
    "            artists_list = artists.split(\",\")\n",
    "            i+=1\n",
    "            new_lineup = []\n",
    "            for a in artists_list:\n",
    "                a = a.title()\n",
    "                new_lineup.append(a.strip())\n",
    "            DF.loc[id,\"artists\"] = str(new_lineup)\n",
    "\n",
    "    print(\"Malformed : \"+str(i))\n",
    "    return DF"
   ]
  },
  {
   "cell_type": "code",
   "execution_count": 13,
   "metadata": {
    "collapsed": false
   },
   "outputs": [
    {
     "name": "stdout",
     "output_type": "stream",
     "text": [
      "Malformed : 1692\n"
     ]
    }
   ],
   "source": [
    "DF = correctMalformedLineups(DF)"
   ]
  },
  {
   "cell_type": "code",
   "execution_count": null,
   "metadata": {
    "collapsed": true
   },
   "outputs": [],
   "source": [
    "correctMalformedLineups(DF)"
   ]
  }
 ],
 "metadata": {
  "anaconda-cloud": {},
  "kernelspec": {
   "display_name": "Python [Root]",
   "language": "python",
   "name": "Python [Root]"
  },
  "language_info": {
   "codemirror_mode": {
    "name": "ipython",
    "version": 3
   },
   "file_extension": ".py",
   "mimetype": "text/x-python",
   "name": "python",
   "nbconvert_exporter": "python",
   "pygments_lexer": "ipython3",
   "version": "3.5.2"
  }
 },
 "nbformat": 4,
 "nbformat_minor": 0
}
